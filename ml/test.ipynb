{
 "cells": [
  {
   "cell_type": "markdown",
   "metadata": {},
   "source": [
    "### INSIGHTS\n",
    "- распределение по возрасту, просадка в промежутке 20-50"
   ]
  },
  {
   "cell_type": "markdown",
   "metadata": {},
   "source": [
    "### IMPORTS"
   ]
  },
  {
   "cell_type": "code",
   "execution_count": 1,
   "metadata": {},
   "outputs": [],
   "source": [
    "import pandas as pd\n",
    "import numpy as np\n",
    "import pickle\n",
    "import requests, zipfile\n",
    "import seaborn as sns\n",
    "import matplotlib.pyplot as plt\n",
    "from typing import List, Dict\n",
    "import itertools"
   ]
  },
  {
   "cell_type": "markdown",
   "metadata": {},
   "source": [
    "### EXTRACT"
   ]
  },
  {
   "cell_type": "code",
   "execution_count": 17,
   "metadata": {},
   "outputs": [],
   "source": [
    "z = zipfile.ZipFile('krugki.zip')\n",
    "z.extractall()"
   ]
  },
  {
   "cell_type": "markdown",
   "metadata": {},
   "source": [
    "### DOWNLOAD"
   ]
  },
  {
   "cell_type": "code",
   "execution_count": 107,
   "metadata": {},
   "outputs": [],
   "source": [
    "df_classes = pd.read_csv('Classificator_hachaton.csv', delimiter=';')\n",
    "df_org = pd.read_csv('org_hackaton.csv', delimiter=';') # Список КЦ # дубликаты одинаковые КЦ с разным метро\n",
    "df_pupil = pd.read_csv('Pupil_hackaton.csv', delimiter=';') # пользователи КЦ\n",
    "df_req = pd.read_csv('request_hackaton.csv', delimiter=';')\n",
    "df_services = pd.read_csv('services_hackaton.csv', delimiter=';')\n",
    "df_relation = pd.read_csv('MegaRelation_hackaton.csv', delimiter=';')"
   ]
  },
  {
   "cell_type": "markdown",
   "metadata": {},
   "source": [
    "### PREPROCESSING"
   ]
  },
  {
   "cell_type": "markdown",
   "metadata": {},
   "source": [
    "##### df_classes\n",
    "- матчми классы\n",
    "- корректируем род_класс и класс\n",
    "- заполняем наны"
   ]
  },
  {
   "cell_type": "code",
   "execution_count": 108,
   "metadata": {},
   "outputs": [],
   "source": [
    "class_nan = df_classes['id_родительского_классификатора'].isna()\n",
    "df_classes.loc[class_nan, 'id_родительского_классификатора'] = df_classes.loc[class_nan, 'id_классификатора'] \n",
    "df_classes.loc[class_nan, 'id_классификатора'] = np.nan\n",
    "df_classes['id_родительского_классификатора'] = df_classes['id_родительского_классификатора'].astype(int)\n",
    "df_classes = df_classes.sort_values(['id_классификатора'])\n",
    "\n",
    "# матчим названия\n",
    "id_classes = {\n",
    "    'Цирковое искусство': 'Искусство цирка',\n",
    "    'Изобразительное искусство': 'ИЗО',\n",
    "    'Хореографическое искусство' : 'Хореографическое творчество',\n",
    "    'Раннее развитие': 'Раннее эстетическое развитие',\n",
    "}\n",
    "\n",
    "df_classes['Наименование'] = df_classes['Наименование'].replace(id_classes)\n",
    "df_classes = df_classes.groupby(['id_родительского_классификатора', 'Наименование']).apply(lambda x: x['id_классификатора'].fillna(method='ffill')).reset_index()\n",
    "df_classes = df_classes.drop(['level_2'], axis=1)\n",
    "\n",
    "# допущение, что возможная ошибка в id, приравниваем род_классификатор и классификатор\n",
    "df_classes.loc[df_classes['id_классификатора'].isna(), 'id_классификатора'] = df_classes.loc[df_classes['id_классификатора'].isna(), 'id_родительского_классификатора']\n",
    "df_classes['id_классификатора'] = df_classes['id_классификатора'].astype(int)\n",
    "df_classes = df_classes[~df_classes.duplicated()].reset_index(drop=True)"
   ]
  },
  {
   "cell_type": "markdown",
   "metadata": {},
   "source": [
    "##### df_org\n",
    "- заполняем наны\n",
    "- приводим к уникальному id"
   ]
  },
  {
   "cell_type": "code",
   "execution_count": 109,
   "metadata": {},
   "outputs": [],
   "source": [
    "df_org['Метро'] = df_org['Метро'].fillna('Нет')\n",
    "df_org['улица'] = df_org['улица'].fillna('Нет')\n",
    "df_org['Метро'] = df_org['Метро'].str.split('\\(', expand=True)[0]\n",
    "df_org['Метро'] =  df_org.groupby('id_организации')['Метро'].transform(lambda x: ', '.join(x))\n",
    "df_org = df_org.drop_duplicates(['id_организации'])"
   ]
  },
  {
   "cell_type": "markdown",
   "metadata": {},
   "source": [
    "##### df_pupil\n",
    "- фикс отрицательного возраста\n",
    "- cut 90+\n",
    "- fillna"
   ]
  },
  {
   "cell_type": "code",
   "execution_count": 110,
   "metadata": {},
   "outputs": [],
   "source": [
    "df_pupil.loc[df_pupil['id_ученика'] == 920894, 'возраст'] = abs(df_pupil.loc[df_pupil['id_ученика'] == 920894, 'возраст'])\n",
    "df_pupil.loc[df_pupil['id_ученика'] == 920981, 'возраст'] = df_pupil.loc[df_pupil['id_ученика'] == 920981, 'возраст'] + 1000\n",
    "df_pupil.loc[df_pupil['id_ученика'] == 931529, 'возраст'] = df_pupil.loc[df_pupil['id_ученика'] == 931529, 'возраст'] + 1000\n",
    "df_pupil.loc[df_pupil['id_ученика'] == 938810, 'возраст'] = df_pupil.loc[df_pupil['id_ученика'] == 938810, 'возраст'] + 1000\n",
    "df_pupil.loc[df_pupil['id_ученика'] == 2667143, 'возраст'] = abs(df_pupil.loc[df_pupil['id_ученика'] == 2667143, 'возраст'])\n",
    "df_pupil.loc[df_pupil['возраст'] > 90, 'возраст'] = 90\n",
    "df_pupil['возраст'] = df_pupil['возраст'].fillna(int(df_pupil['возраст'].mean()))\n",
    "df_pupil['возраст'] = df_pupil['возраст'].astype(int)"
   ]
  },
  {
   "cell_type": "code",
   "execution_count": 6,
   "metadata": {},
   "outputs": [
    {
     "data": {
      "text/plain": [
       "<matplotlib.axes._subplots.AxesSubplot at 0x7f48b31d6810>"
      ]
     },
     "execution_count": 6,
     "metadata": {},
     "output_type": "execute_result"
    },
    {
     "data": {
      "image/png": "[encoded data removed]",
      "text/plain": [
       "<Figure size 432x288 with 1 Axes>"
      ]
     },
     "metadata": {
      "needs_background": "light"
     },
     "output_type": "display_data"
    }
   ],
   "source": [
    "sns.kdeplot(df_pupil['возраст'])"
   ]
  },
  {
   "cell_type": "markdown",
   "metadata": {},
   "source": [
    "##### df_req\n",
    "- конвертация времени"
   ]
  },
  {
   "cell_type": "code",
   "execution_count": 111,
   "metadata": {},
   "outputs": [],
   "source": [
    "df_req['дата_создания'] = pd.to_datetime(df_req['дата_создания'])"
   ]
  },
  {
   "cell_type": "code",
   "execution_count": 362,
   "metadata": {},
   "outputs": [
    {
     "name": "stderr",
     "output_type": "stream",
     "text": [
      "/home/jupyter/miniconda3/lib/python3.7/site-packages/seaborn/_decorators.py:43: FutureWarning: Pass the following variable as a keyword arg: x. From version 0.12, the only valid positional argument will be `data`, and passing other arguments without an explicit keyword will result in an error or misinterpretation.\n",
      "  FutureWarning\n"
     ]
    },
    {
     "data": {
      "text/plain": [
       "<matplotlib.axes._subplots.AxesSubplot at 0x7f5ba3935a90>"
      ]
     },
     "execution_count": 362,
     "metadata": {},
     "output_type": "execute_result"
    },
    {
     "data": {
      "image/png": "[encoded data removed]",
      "text/plain": [
       "<Figure size 432x288 with 1 Axes>"
      ]
     },
     "metadata": {
      "needs_background": "light"
     },
     "output_type": "display_data"
    }
   ],
   "source": [
    "sns.countplot(df_req['дата_создания'].dt.year)"
   ]
  },
  {
   "cell_type": "markdown",
   "metadata": {},
   "source": [
    "##### df_services\n",
    "- дропнуть лишние записи (нет классификатора)"
   ]
  },
  {
   "cell_type": "code",
   "execution_count": 112,
   "metadata": {},
   "outputs": [],
   "source": [
    "df_services['Дата_создания'] = pd.to_datetime(df_services['Дата_создания'])\n",
    "df_services = df_services[df_services['Классификатор_услуги'].isin(np.unique(df_classes['id_классификатора']))]\n",
    "df_services['длительность_обучения'] = df_services['длительность_обучения'].fillna('1,0000')\n",
    "df_services['длительность_обучения'] = df_services['длительность_обучения'].apply(lambda x: int(x.split(',')[0]))\n",
    "len_match = {\n",
    "    'лет': 365,\n",
    "    'месяцев': 12,\n",
    "    'недель': 7,\n",
    "    'дней': 1,\n",
    "}\n",
    "df_services['длительность_обучения'] = df_services['длительность_обучения'] * df_services['единица_длительности'].replace(len_match)"
   ]
  },
  {
   "cell_type": "markdown",
   "metadata": {},
   "source": [
    "##### df_relation\n",
    "- дропнуть учеников с нанами"
   ]
  },
  {
   "cell_type": "code",
   "execution_count": 113,
   "metadata": {},
   "outputs": [],
   "source": [
    "df_relation = df_relation[~df_relation['id_ученика'].isna()]\n",
    "df_relation['id_ученика'] = df_relation['id_ученика'].astype(int)\n",
    "df_relation['Статус'] = df_relation['Статус'].astype(int)\n",
    "df_relation['Дата_создания_записи'] = pd.to_datetime(df_relation['Дата_создания_записи'])\n",
    "# df_relation['дата_зачисления'] = pd.to_datetime(df_relation['дата_зачисления'])\n",
    "df_relation['дата_отчисления'] = pd.to_datetime(df_relation['дата_отчисления'])\n",
    "# df_relation['Плановая_дата_начала_занятий'] = pd.to_datetime(df_relation['Плановая_дата_начала_занятий'])\n",
    "# df_relation['Плановая_дата_окончания_занятий'] = pd.to_datetime(df_relation['Плановая_дата_окончания_занятий'])"
   ]
  },
  {
   "cell_type": "markdown",
   "metadata": {},
   "source": [
    "### CREATE DATASET"
   ]
  },
  {
   "cell_type": "markdown",
   "metadata": {},
   "source": [
    "##### COSINE"
   ]
  },
  {
   "cell_type": "code",
   "execution_count": 28,
   "metadata": {},
   "outputs": [],
   "source": [
    "from scipy.sparse import csc_matrix\n",
    "from sklearn.metrics.pairwise import cosine_distances"
   ]
  },
  {
   "cell_type": "code",
   "execution_count": 114,
   "metadata": {},
   "outputs": [],
   "source": [
    "df = df_relation.loc[:, ['id_ученика', 'id_услуги']].merge(df_services.loc[:, ['id_услуги', 'Классификатор_услуги']], on=['id_услуги']).loc[:, ['id_ученика', 'Классификатор_услуги']]\n",
    "\n",
    "df['count'] = 1\n",
    "df = df.groupby(['id_ученика', 'Классификатор_услуги'])['count'].count().reset_index()\n",
    "# class_serv_to_id  = {y: x for x, y in enumerate(df['Классификатор_услуги'].sort_values().unique())}\n",
    "# class_id_to_serv = {y: x for x, y in class_serv_to_id.items()}\n",
    "# pupil_serv_to_id  = {y: x for x, y in enumerate(df['id_ученика'].sort_values().unique())}\n",
    "# pupil_id_to_serv = {y: x for x, y in pupil_serv_to_id.items()}\n",
    "# df['Классификатор_услуги'] = df['Классификатор_услуги'].map(class_serv_to_id)\n",
    "# df['id_ученика'] = df['id_ученика'].map(pupil_serv_to_id)\n",
    "\n",
    "M = csc_matrix((df['count'].astype(int).values,\n",
    "               (df['id_ученика'].astype(int).values, df['Классификатор_услуги'].astype(int).values)))\n",
    "\n",
    "# M = csc_matrix(([1] * len(df),\n",
    "#                (df['id_ученика'].astype(int).values, df['Классификатор_услуги'].astype(int).values)))"
   ]
  },
  {
   "cell_type": "code",
   "execution_count": 186,
   "metadata": {},
   "outputs": [],
   "source": [
    "def get_predicts(user_id: int, n: int) -> List[int]:\n",
    "    class_ids = []\n",
    "    with open('cosine_sim', 'rb') as f:\n",
    "        M = pickle.load(f)\n",
    "    age = df_pupil.loc[df_pupil['id_ученика'] == user_id, 'возраст'].values[0]\n",
    "    if user_id in df_relation['id_ученика'].values:\n",
    "        dist = cosine_distances(M, M[user_id]).reshape(-1, )\n",
    "    else:\n",
    "#         age = df_pupil.loc[df_pupil['id_ученика'] == user_id, 'возраст'].values[0]\n",
    "        new_user_id = df_pupil.loc[(df_pupil['возраст'] == age), ['id_ученика']].values.reshape(-1, )[0]\n",
    "        dist = cosine_distances(M, M[new_user_id]).reshape(-1, )\n",
    "    for classif in dist.argsort()[-200:][::-1]:\n",
    "        try:\n",
    "            class_ids.append(df.loc[df['id_ученика'] == classif, 'Классификатор_услуги'].values[0])\n",
    "        except:\n",
    "            continue\n",
    "    seen = set()\n",
    "    seen.add(3003269)\n",
    "    uniq = []\n",
    "    for x in class_ids:\n",
    "        if x not in seen:\n",
    "            uniq.append(x)\n",
    "            seen.add(x)\n",
    "    return uniq[1:n+1]"
   ]
  },
  {
   "cell_type": "code",
   "execution_count": 187,
   "metadata": {},
   "outputs": [],
   "source": [
    "ids = get_predicts(138, 5)"
   ]
  },
  {
   "cell_type": "code",
   "execution_count": 181,
   "metadata": {},
   "outputs": [
    {
     "data": {
      "text/plain": [
       "[3220801, 3220508, 3003430, 3003485, 3003226]"
      ]
     },
     "execution_count": 181,
     "metadata": {},
     "output_type": "execute_result"
    }
   ],
   "source": [
    "ids"
   ]
  },
  {
   "cell_type": "code",
   "execution_count": 190,
   "metadata": {},
   "outputs": [],
   "source": [
    "def get_krugki(ids: List[int]) -> List[int]:\n",
    "    kr = []\n",
    "    for i in ids:\n",
    "        kr.append(df_services.loc[(df_services['Дата_создания'] > '2020-01-01') & (df_services['Классификатор_услуги'] == i), 'id_услуги'].values.reshape(-1, )[0])\n",
    "    return kr"
   ]
  },
  {
   "cell_type": "code",
   "execution_count": 191,
   "metadata": {},
   "outputs": [
    {
     "data": {
      "text/plain": [
       "[1012820, 1010176, 1018172, 1010006, 1066487]"
      ]
     },
     "execution_count": 191,
     "metadata": {},
     "output_type": "execute_result"
    }
   ],
   "source": [
    "get_krugki(ids)"
   ]
  },
  {
   "cell_type": "code",
   "execution_count": 197,
   "metadata": {},
   "outputs": [
    {
     "data": {
      "text/html": [
       "<div>\n",
       "<style scoped>\n",
       "    .dataframe tbody tr th:only-of-type {\n",
       "        vertical-align: middle;\n",
       "    }\n",
       "\n",
       "    .dataframe tbody tr th {\n",
       "        vertical-align: top;\n",
       "    }\n",
       "\n",
       "    .dataframe thead th {\n",
       "        text-align: right;\n",
       "    }\n",
       "</style>\n",
       "<table border=\"1\" class=\"dataframe\">\n",
       "  <thead>\n",
       "    <tr style=\"text-align: right;\">\n",
       "      <th></th>\n",
       "      <th>id_услуги</th>\n",
       "      <th>Тип_финансирования</th>\n",
       "      <th>Классификатор_услуги</th>\n",
       "      <th>id_организации</th>\n",
       "      <th>Тип_расписания</th>\n",
       "      <th>Наименование_услуги</th>\n",
       "      <th>Дата_создания</th>\n",
       "      <th>длительность_обучения</th>\n",
       "      <th>единица_длительности</th>\n",
       "    </tr>\n",
       "  </thead>\n",
       "  <tbody>\n",
       "    <tr>\n",
       "      <th>8680</th>\n",
       "      <td>1066487</td>\n",
       "      <td>бесплатно</td>\n",
       "      <td>3003226</td>\n",
       "      <td>10880</td>\n",
       "      <td>Общее</td>\n",
       "      <td>\"Родничок\"</td>\n",
       "      <td>2020-06-23 10:41:01</td>\n",
       "      <td>108.0</td>\n",
       "      <td>месяцев</td>\n",
       "    </tr>\n",
       "  </tbody>\n",
       "</table>\n",
       "</div>"
      ],
      "text/plain": [
       "      id_услуги Тип_финансирования  Классификатор_услуги  id_организации  \\\n",
       "8680    1066487          бесплатно               3003226           10880   \n",
       "\n",
       "     Тип_расписания Наименование_услуги       Дата_создания  \\\n",
       "8680          Общее          \"Родничок\" 2020-06-23 10:41:01   \n",
       "\n",
       "      длительность_обучения единица_длительности  \n",
       "8680                  108.0              месяцев  "
      ]
     },
     "execution_count": 197,
     "metadata": {},
     "output_type": "execute_result"
    }
   ],
   "source": [
    "df_services[(df_services['Дата_создания'] > '2020-01-01') & (df_services['id_услуги'] == 1066487)]"
   ]
  },
  {
   "cell_type": "code",
   "execution_count": 73,
   "metadata": {},
   "outputs": [
    {
     "data": {
      "text/plain": [
       "array([1520746., 1520748., 4537121.])"
      ]
     },
     "execution_count": 73,
     "metadata": {},
     "output_type": "execute_result"
    }
   ],
   "source": [
    "np.intersect1d(df['id_ученика'].values, get_predicts(155319, 10)"
   ]
  },
  {
   "cell_type": "code",
   "execution_count": 118,
   "metadata": {},
   "outputs": [
    {
     "data": {
      "text/html": [
       "<div>\n",
       "<style scoped>\n",
       "    .dataframe tbody tr th:only-of-type {\n",
       "        vertical-align: middle;\n",
       "    }\n",
       "\n",
       "    .dataframe tbody tr th {\n",
       "        vertical-align: top;\n",
       "    }\n",
       "\n",
       "    .dataframe thead th {\n",
       "        text-align: right;\n",
       "    }\n",
       "</style>\n",
       "<table border=\"1\" class=\"dataframe\">\n",
       "  <thead>\n",
       "    <tr style=\"text-align: right;\">\n",
       "      <th></th>\n",
       "      <th>id_ученика</th>\n",
       "      <th>возраст</th>\n",
       "      <th>пол</th>\n",
       "    </tr>\n",
       "  </thead>\n",
       "  <tbody>\n",
       "    <tr>\n",
       "      <th>103</th>\n",
       "      <td>106</td>\n",
       "      <td>90</td>\n",
       "      <td>Женский</td>\n",
       "    </tr>\n",
       "    <tr>\n",
       "      <th>135</th>\n",
       "      <td>138</td>\n",
       "      <td>90</td>\n",
       "      <td>Женский</td>\n",
       "    </tr>\n",
       "    <tr>\n",
       "      <th>139</th>\n",
       "      <td>142</td>\n",
       "      <td>90</td>\n",
       "      <td>Женский</td>\n",
       "    </tr>\n",
       "    <tr>\n",
       "      <th>150</th>\n",
       "      <td>153</td>\n",
       "      <td>90</td>\n",
       "      <td>Женский</td>\n",
       "    </tr>\n",
       "    <tr>\n",
       "      <th>157</th>\n",
       "      <td>160</td>\n",
       "      <td>90</td>\n",
       "      <td>Женский</td>\n",
       "    </tr>\n",
       "    <tr>\n",
       "      <th>...</th>\n",
       "      <td>...</td>\n",
       "      <td>...</td>\n",
       "      <td>...</td>\n",
       "    </tr>\n",
       "    <tr>\n",
       "      <th>2742558</th>\n",
       "      <td>4537208</td>\n",
       "      <td>72</td>\n",
       "      <td>Женский</td>\n",
       "    </tr>\n",
       "    <tr>\n",
       "      <th>2742560</th>\n",
       "      <td>4537214</td>\n",
       "      <td>77</td>\n",
       "      <td>Женский</td>\n",
       "    </tr>\n",
       "    <tr>\n",
       "      <th>2742563</th>\n",
       "      <td>4537220</td>\n",
       "      <td>82</td>\n",
       "      <td>Мужской</td>\n",
       "    </tr>\n",
       "    <tr>\n",
       "      <th>2742564</th>\n",
       "      <td>4537223</td>\n",
       "      <td>70</td>\n",
       "      <td>Женский</td>\n",
       "    </tr>\n",
       "    <tr>\n",
       "      <th>2742565</th>\n",
       "      <td>4537226</td>\n",
       "      <td>59</td>\n",
       "      <td>Женский</td>\n",
       "    </tr>\n",
       "  </tbody>\n",
       "</table>\n",
       "<p>414907 rows × 3 columns</p>\n",
       "</div>"
      ],
      "text/plain": [
       "         id_ученика  возраст      пол\n",
       "103             106       90  Женский\n",
       "135             138       90  Женский\n",
       "139             142       90  Женский\n",
       "150             153       90  Женский\n",
       "157             160       90  Женский\n",
       "...             ...      ...      ...\n",
       "2742558     4537208       72  Женский\n",
       "2742560     4537214       77  Женский\n",
       "2742563     4537220       82  Мужской\n",
       "2742564     4537223       70  Женский\n",
       "2742565     4537226       59  Женский\n",
       "\n",
       "[414907 rows x 3 columns]"
      ]
     },
     "execution_count": 118,
     "metadata": {},
     "output_type": "execute_result"
    }
   ],
   "source": [
    "df_pupil[df_pupil['возраст'] > 50]"
   ]
  },
  {
   "cell_type": "code",
   "execution_count": 85,
   "metadata": {},
   "outputs": [
    {
     "data": {
      "text/html": [
       "<div>\n",
       "<style scoped>\n",
       "    .dataframe tbody tr th:only-of-type {\n",
       "        vertical-align: middle;\n",
       "    }\n",
       "\n",
       "    .dataframe tbody tr th {\n",
       "        vertical-align: top;\n",
       "    }\n",
       "\n",
       "    .dataframe thead th {\n",
       "        text-align: right;\n",
       "    }\n",
       "</style>\n",
       "<table border=\"1\" class=\"dataframe\">\n",
       "  <thead>\n",
       "    <tr style=\"text-align: right;\">\n",
       "      <th></th>\n",
       "      <th>id_ученика</th>\n",
       "      <th>возраст</th>\n",
       "      <th>пол</th>\n",
       "    </tr>\n",
       "  </thead>\n",
       "  <tbody>\n",
       "    <tr>\n",
       "      <th>101114</th>\n",
       "      <td>155319</td>\n",
       "      <td>10</td>\n",
       "      <td>Женский</td>\n",
       "    </tr>\n",
       "  </tbody>\n",
       "</table>\n",
       "</div>"
      ],
      "text/plain": [
       "        id_ученика  возраст      пол\n",
       "101114      155319       10  Женский"
      ]
     },
     "execution_count": 85,
     "metadata": {},
     "output_type": "execute_result"
    }
   ],
   "source": [
    "df_pupil[df_pupil['id_ученика'] == 155319]"
   ]
  },
  {
   "cell_type": "code",
   "execution_count": 86,
   "metadata": {},
   "outputs": [
    {
     "data": {
      "text/html": [
       "<div>\n",
       "<style scoped>\n",
       "    .dataframe tbody tr th:only-of-type {\n",
       "        vertical-align: middle;\n",
       "    }\n",
       "\n",
       "    .dataframe tbody tr th {\n",
       "        vertical-align: top;\n",
       "    }\n",
       "\n",
       "    .dataframe thead th {\n",
       "        text-align: right;\n",
       "    }\n",
       "</style>\n",
       "<table border=\"1\" class=\"dataframe\">\n",
       "  <thead>\n",
       "    <tr style=\"text-align: right;\">\n",
       "      <th></th>\n",
       "      <th>id_ученика</th>\n",
       "      <th>возраст</th>\n",
       "      <th>пол</th>\n",
       "    </tr>\n",
       "  </thead>\n",
       "  <tbody>\n",
       "    <tr>\n",
       "      <th>1122276</th>\n",
       "      <td>1251881</td>\n",
       "      <td>31</td>\n",
       "      <td>Мужской</td>\n",
       "    </tr>\n",
       "  </tbody>\n",
       "</table>\n",
       "</div>"
      ],
      "text/plain": [
       "         id_ученика  возраст      пол\n",
       "1122276     1251881       31  Мужской"
      ]
     },
     "execution_count": 86,
     "metadata": {},
     "output_type": "execute_result"
    }
   ],
   "source": [
    "df_pupil[df_pupil['id_ученика'] == 1251881]"
   ]
  },
  {
   "cell_type": "code",
   "execution_count": 13,
   "metadata": {},
   "outputs": [],
   "source": [
    "def get_predicts(user_id: int, n: int) -> Dict[str, List[int]]:\n",
    "    class_ids = []\n",
    "    with open('cosine_sim', 'rb') as f:\n",
    "        M = pickle.load(f)\n",
    "    try: \n",
    "        new_user_id = pupil_serv_to_id[user_id]\n",
    "        dist = cosine_distances(M, M[new_user_id]).reshape(-1, )\n",
    "    except:\n",
    "        age = df_pupil.loc[df_pupil['id_ученика'] == user_id, 'возраст'].values[0]\n",
    "        new_user_id = df_pupil.loc[(df_pupil['id_ученика'].isin(pupil_id_to_serv.values())) & (df_pupil['возраст'] == age), ['id_ученика']].values.reshape(-1, )[0]\n",
    "#         return new_user_id\n",
    "        new_user_id = pupil_serv_to_id[new_user_id]\n",
    "        dist = cosine_distances(M, M[new_user_id]).reshape(-1, )\n",
    "    for classif in dist.argsort()[-10:][::-1]:\n",
    "        class_ids.append(class_id_to_serv[df.loc[df['id_ученика'] == classif, 'Классификатор_услуги'].values[0]])\n",
    "    if df_pupil.loc[df_pupil['id_ученика'] == new_user_id, 'возраст'].values[0] > 7:\n",
    "        class_ids = [x for x in class_ids if x != 3003269]\n",
    "    class_ids = list(set(class_ids))\n",
    "    return class_ids[1:n+1]"
   ]
  },
  {
   "cell_type": "code",
   "execution_count": 330,
   "metadata": {},
   "outputs": [
    {
     "data": {
      "text/plain": [
       "True"
      ]
     },
     "execution_count": 330,
     "metadata": {},
     "output_type": "execute_result"
    }
   ],
   "source": [
    "df_pupil.loc[df_pupil['id_ученика'] == 1251881, 'возраст'].values[0] > 7"
   ]
  },
  {
   "cell_type": "code",
   "execution_count": 320,
   "metadata": {},
   "outputs": [
    {
     "data": {
      "text/html": [
       "<div>\n",
       "<style scoped>\n",
       "    .dataframe tbody tr th:only-of-type {\n",
       "        vertical-align: middle;\n",
       "    }\n",
       "\n",
       "    .dataframe tbody tr th {\n",
       "        vertical-align: top;\n",
       "    }\n",
       "\n",
       "    .dataframe thead th {\n",
       "        text-align: right;\n",
       "    }\n",
       "</style>\n",
       "<table border=\"1\" class=\"dataframe\">\n",
       "  <thead>\n",
       "    <tr style=\"text-align: right;\">\n",
       "      <th></th>\n",
       "      <th>id_родительского_классификатора</th>\n",
       "      <th>Наименование</th>\n",
       "      <th>id_классификатора</th>\n",
       "    </tr>\n",
       "  </thead>\n",
       "  <tbody>\n",
       "    <tr>\n",
       "      <th>524</th>\n",
       "      <td>3220500</td>\n",
       "      <td>Гитара</td>\n",
       "      <td>3220508</td>\n",
       "    </tr>\n",
       "  </tbody>\n",
       "</table>\n",
       "</div>"
      ],
      "text/plain": [
       "     id_родительского_классификатора Наименование  id_классификатора\n",
       "524                          3220500       Гитара            3220508"
      ]
     },
     "execution_count": 320,
     "metadata": {},
     "output_type": "execute_result"
    }
   ],
   "source": [
    "df_classes[df_classes['id_классификатора'] == 3220508]"
   ]
  },
  {
   "cell_type": "code",
   "execution_count": 264,
   "metadata": {},
   "outputs": [
    {
     "data": {
      "text/html": [
       "<div>\n",
       "<style scoped>\n",
       "    .dataframe tbody tr th:only-of-type {\n",
       "        vertical-align: middle;\n",
       "    }\n",
       "\n",
       "    .dataframe tbody tr th {\n",
       "        vertical-align: top;\n",
       "    }\n",
       "\n",
       "    .dataframe thead th {\n",
       "        text-align: right;\n",
       "    }\n",
       "</style>\n",
       "<table border=\"1\" class=\"dataframe\">\n",
       "  <thead>\n",
       "    <tr style=\"text-align: right;\">\n",
       "      <th></th>\n",
       "      <th>id_ученика</th>\n",
       "      <th>возраст</th>\n",
       "      <th>пол</th>\n",
       "    </tr>\n",
       "  </thead>\n",
       "  <tbody>\n",
       "    <tr>\n",
       "      <th>24121</th>\n",
       "      <td>30220</td>\n",
       "      <td>19.0</td>\n",
       "      <td>Мужской</td>\n",
       "    </tr>\n",
       "  </tbody>\n",
       "</table>\n",
       "</div>"
      ],
      "text/plain": [
       "       id_ученика  возраст      пол\n",
       "24121       30220     19.0  Мужской"
      ]
     },
     "execution_count": 264,
     "metadata": {},
     "output_type": "execute_result"
    }
   ],
   "source": [
    "df_pupil[df_pupil['id_ученика'] == 30220]"
   ]
  },
  {
   "cell_type": "code",
   "execution_count": 262,
   "metadata": {},
   "outputs": [
    {
     "data": {
      "text/plain": [
       "30220"
      ]
     },
     "execution_count": 262,
     "metadata": {},
     "output_type": "execute_result"
    }
   ],
   "source": [
    "df_relation['id_ученика'][12346]"
   ]
  },
  {
   "cell_type": "code",
   "execution_count": 306,
   "metadata": {},
   "outputs": [
    {
     "data": {
      "text/plain": [
       "1251881.0"
      ]
     },
     "execution_count": 306,
     "metadata": {},
     "output_type": "execute_result"
    }
   ],
   "source": [
    "df_relation['id_ученика'][234124]"
   ]
  },
  {
   "cell_type": "code",
   "execution_count": 202,
   "metadata": {},
   "outputs": [
    {
     "data": {
      "text/html": [
       "<div>\n",
       "<style scoped>\n",
       "    .dataframe tbody tr th:only-of-type {\n",
       "        vertical-align: middle;\n",
       "    }\n",
       "\n",
       "    .dataframe tbody tr th {\n",
       "        vertical-align: top;\n",
       "    }\n",
       "\n",
       "    .dataframe thead th {\n",
       "        text-align: right;\n",
       "    }\n",
       "</style>\n",
       "<table border=\"1\" class=\"dataframe\">\n",
       "  <thead>\n",
       "    <tr style=\"text-align: right;\">\n",
       "      <th></th>\n",
       "      <th>id_зачисления</th>\n",
       "      <th>Статус</th>\n",
       "      <th>id_ученика</th>\n",
       "      <th>Дата_создания_записи</th>\n",
       "      <th>id_организации</th>\n",
       "      <th>id_заявления</th>\n",
       "      <th>id_услуги</th>\n",
       "      <th>дата_зачисления</th>\n",
       "      <th>дата_отчисления</th>\n",
       "      <th>причина_перевода</th>\n",
       "      <th>предыдущая_запись_зачисления</th>\n",
       "      <th>следующая_запись_зачисления</th>\n",
       "      <th>Плановая_дата_начала_занятий</th>\n",
       "      <th>Плановая_дата_окончания_занятий</th>\n",
       "    </tr>\n",
       "  </thead>\n",
       "  <tbody>\n",
       "    <tr>\n",
       "      <th>0</th>\n",
       "      <td>1325954</td>\n",
       "      <td>3</td>\n",
       "      <td>25969</td>\n",
       "      <td>2015-08-06 14:47:19</td>\n",
       "      <td>30</td>\n",
       "      <td>950832.0</td>\n",
       "      <td>39178</td>\n",
       "      <td>08.06.2015 0:00:00</td>\n",
       "      <td>2016-02-29 19:28:12</td>\n",
       "      <td>NaN</td>\n",
       "      <td>NaN</td>\n",
       "      <td>3558114.0</td>\n",
       "      <td>01.09.2014 0:00:00</td>\n",
       "      <td>01.09.2021 0:00:00</td>\n",
       "    </tr>\n",
       "    <tr>\n",
       "      <th>22705</th>\n",
       "      <td>44262</td>\n",
       "      <td>2</td>\n",
       "      <td>25969</td>\n",
       "      <td>2015-01-23 00:00:00</td>\n",
       "      <td>21</td>\n",
       "      <td>NaN</td>\n",
       "      <td>41953</td>\n",
       "      <td>NaN</td>\n",
       "      <td>2016-01-27 18:34:28</td>\n",
       "      <td>NaN</td>\n",
       "      <td>NaN</td>\n",
       "      <td>NaN</td>\n",
       "      <td>23.01.2015 0:00:00</td>\n",
       "      <td>23.01.2022 0:00:00</td>\n",
       "    </tr>\n",
       "    <tr>\n",
       "      <th>44831</th>\n",
       "      <td>24527</td>\n",
       "      <td>2</td>\n",
       "      <td>25969</td>\n",
       "      <td>2015-01-23 00:00:00</td>\n",
       "      <td>94</td>\n",
       "      <td>4277365.0</td>\n",
       "      <td>41671</td>\n",
       "      <td>NaN</td>\n",
       "      <td>2019-06-09 19:10:53</td>\n",
       "      <td>NaN</td>\n",
       "      <td>NaN</td>\n",
       "      <td>NaN</td>\n",
       "      <td>23.01.2015 0:00:00</td>\n",
       "      <td>23.01.2022 0:00:00</td>\n",
       "    </tr>\n",
       "    <tr>\n",
       "      <th>387310</th>\n",
       "      <td>3558114</td>\n",
       "      <td>3</td>\n",
       "      <td>25969</td>\n",
       "      <td>2016-02-29 19:28:12</td>\n",
       "      <td>30</td>\n",
       "      <td>950832.0</td>\n",
       "      <td>227141</td>\n",
       "      <td>29.02.2016 19:28:12</td>\n",
       "      <td>2018-11-12 19:15:29</td>\n",
       "      <td>NaN</td>\n",
       "      <td>1325954.0</td>\n",
       "      <td>17660387.0</td>\n",
       "      <td>01.09.2014 0:00:00</td>\n",
       "      <td>01.09.2021 0:00:00</td>\n",
       "    </tr>\n",
       "    <tr>\n",
       "      <th>387397</th>\n",
       "      <td>17660387</td>\n",
       "      <td>3</td>\n",
       "      <td>25969</td>\n",
       "      <td>2018-11-12 19:15:29</td>\n",
       "      <td>30</td>\n",
       "      <td>950832.0</td>\n",
       "      <td>227141</td>\n",
       "      <td>11.12.2018 19:15:29</td>\n",
       "      <td>2018-11-12 19:24:04</td>\n",
       "      <td>NaN</td>\n",
       "      <td>3558114.0</td>\n",
       "      <td>17660537.0</td>\n",
       "      <td>01.09.2014 0:00:00</td>\n",
       "      <td>01.09.2021 0:00:00</td>\n",
       "    </tr>\n",
       "    <tr>\n",
       "      <th>387420</th>\n",
       "      <td>17660537</td>\n",
       "      <td>1</td>\n",
       "      <td>25969</td>\n",
       "      <td>2018-11-12 19:24:04</td>\n",
       "      <td>30</td>\n",
       "      <td>950832.0</td>\n",
       "      <td>227141</td>\n",
       "      <td>11.12.2018 19:24:04</td>\n",
       "      <td>NaT</td>\n",
       "      <td>NaN</td>\n",
       "      <td>17660387.0</td>\n",
       "      <td>NaN</td>\n",
       "      <td>01.09.2014 0:00:00</td>\n",
       "      <td>01.09.2021 0:00:00</td>\n",
       "    </tr>\n",
       "  </tbody>\n",
       "</table>\n",
       "</div>"
      ],
      "text/plain": [
       "        id_зачисления  Статус  id_ученика Дата_создания_записи  \\\n",
       "0             1325954       3       25969  2015-08-06 14:47:19   \n",
       "22705           44262       2       25969  2015-01-23 00:00:00   \n",
       "44831           24527       2       25969  2015-01-23 00:00:00   \n",
       "387310        3558114       3       25969  2016-02-29 19:28:12   \n",
       "387397       17660387       3       25969  2018-11-12 19:15:29   \n",
       "387420       17660537       1       25969  2018-11-12 19:24:04   \n",
       "\n",
       "        id_организации  id_заявления  id_услуги      дата_зачисления  \\\n",
       "0                   30      950832.0      39178   08.06.2015 0:00:00   \n",
       "22705               21           NaN      41953                  NaN   \n",
       "44831               94     4277365.0      41671                  NaN   \n",
       "387310              30      950832.0     227141  29.02.2016 19:28:12   \n",
       "387397              30      950832.0     227141  11.12.2018 19:15:29   \n",
       "387420              30      950832.0     227141  11.12.2018 19:24:04   \n",
       "\n",
       "           дата_отчисления  причина_перевода  предыдущая_запись_зачисления  \\\n",
       "0      2016-02-29 19:28:12               NaN                           NaN   \n",
       "22705  2016-01-27 18:34:28               NaN                           NaN   \n",
       "44831  2019-06-09 19:10:53               NaN                           NaN   \n",
       "387310 2018-11-12 19:15:29               NaN                     1325954.0   \n",
       "387397 2018-11-12 19:24:04               NaN                     3558114.0   \n",
       "387420                 NaT               NaN                    17660387.0   \n",
       "\n",
       "        следующая_запись_зачисления Плановая_дата_начала_занятий  \\\n",
       "0                         3558114.0           01.09.2014 0:00:00   \n",
       "22705                           NaN           23.01.2015 0:00:00   \n",
       "44831                           NaN           23.01.2015 0:00:00   \n",
       "387310                   17660387.0           01.09.2014 0:00:00   \n",
       "387397                   17660537.0           01.09.2014 0:00:00   \n",
       "387420                          NaN           01.09.2014 0:00:00   \n",
       "\n",
       "       Плановая_дата_окончания_занятий  \n",
       "0                   01.09.2021 0:00:00  \n",
       "22705               23.01.2022 0:00:00  \n",
       "44831               23.01.2022 0:00:00  \n",
       "387310              01.09.2021 0:00:00  \n",
       "387397              01.09.2021 0:00:00  \n",
       "387420              01.09.2021 0:00:00  "
      ]
     },
     "execution_count": 202,
     "metadata": {},
     "output_type": "execute_result"
    }
   ],
   "source": [
    "df_relation[df_relation['id_ученика'] == 25969]"
   ]
  },
  {
   "cell_type": "code",
   "execution_count": 95,
   "metadata": {},
   "outputs": [],
   "source": [
    "dist = cosine_distances(M, M[59919]).reshape(-1, )"
   ]
  },
  {
   "cell_type": "code",
   "execution_count": 115,
   "metadata": {},
   "outputs": [],
   "source": [
    "with open('cosine_sim', 'wb') as f:\n",
    "    pickle.dump(M, f, protocol=pickle.HIGHEST_PROTOCOL)"
   ]
  },
  {
   "cell_type": "code",
   "execution_count": 276,
   "metadata": {},
   "outputs": [],
   "source": [
    "with open('cosine_sim', 'rb') as f:\n",
    "    M_ = pickle.load(f)"
   ]
  },
  {
   "cell_type": "code",
   "execution_count": 277,
   "metadata": {},
   "outputs": [],
   "source": [
    "dist_ = cosine_distances(M_, M_[0]).reshape(-1, )"
   ]
  },
  {
   "cell_type": "code",
   "execution_count": 292,
   "metadata": {},
   "outputs": [
    {
     "data": {
      "text/html": [
       "<div>\n",
       "<style scoped>\n",
       "    .dataframe tbody tr th:only-of-type {\n",
       "        vertical-align: middle;\n",
       "    }\n",
       "\n",
       "    .dataframe tbody tr th {\n",
       "        vertical-align: top;\n",
       "    }\n",
       "\n",
       "    .dataframe thead th {\n",
       "        text-align: right;\n",
       "    }\n",
       "</style>\n",
       "<table border=\"1\" class=\"dataframe\">\n",
       "  <thead>\n",
       "    <tr style=\"text-align: right;\">\n",
       "      <th></th>\n",
       "      <th>id_ученика</th>\n",
       "      <th>Классификатор_услуги</th>\n",
       "      <th>count</th>\n",
       "    </tr>\n",
       "  </thead>\n",
       "  <tbody>\n",
       "    <tr>\n",
       "      <th>350497</th>\n",
       "      <td>264717</td>\n",
       "      <td>423</td>\n",
       "      <td>1</td>\n",
       "    </tr>\n",
       "  </tbody>\n",
       "</table>\n",
       "</div>"
      ],
      "text/plain": [
       "        id_ученика  Классификатор_услуги  count\n",
       "350497      264717                   423      1"
      ]
     },
     "execution_count": 292,
     "metadata": {},
     "output_type": "execute_result"
    }
   ],
   "source": [
    "df[df['id_ученика'] == 264717]"
   ]
  },
  {
   "cell_type": "code",
   "execution_count": 293,
   "metadata": {},
   "outputs": [
    {
     "data": {
      "text/html": [
       "<div>\n",
       "<style scoped>\n",
       "    .dataframe tbody tr th:only-of-type {\n",
       "        vertical-align: middle;\n",
       "    }\n",
       "\n",
       "    .dataframe tbody tr th {\n",
       "        vertical-align: top;\n",
       "    }\n",
       "\n",
       "    .dataframe thead th {\n",
       "        text-align: right;\n",
       "    }\n",
       "</style>\n",
       "<table border=\"1\" class=\"dataframe\">\n",
       "  <thead>\n",
       "    <tr style=\"text-align: right;\">\n",
       "      <th></th>\n",
       "      <th>id_ученика</th>\n",
       "      <th>Классификатор_услуги</th>\n",
       "      <th>count</th>\n",
       "    </tr>\n",
       "  </thead>\n",
       "  <tbody>\n",
       "    <tr>\n",
       "      <th>123796</th>\n",
       "      <td>91489</td>\n",
       "      <td>58</td>\n",
       "      <td>5</td>\n",
       "    </tr>\n",
       "    <tr>\n",
       "      <th>123797</th>\n",
       "      <td>91489</td>\n",
       "      <td>336</td>\n",
       "      <td>1</td>\n",
       "    </tr>\n",
       "  </tbody>\n",
       "</table>\n",
       "</div>"
      ],
      "text/plain": [
       "        id_ученика  Классификатор_услуги  count\n",
       "123796       91489                    58      5\n",
       "123797       91489                   336      1"
      ]
     },
     "execution_count": 293,
     "metadata": {},
     "output_type": "execute_result"
    }
   ],
   "source": [
    "df[df['id_ученика'] == 91489]"
   ]
  },
  {
   "cell_type": "code",
   "execution_count": 294,
   "metadata": {},
   "outputs": [
    {
     "data": {
      "text/html": [
       "<div>\n",
       "<style scoped>\n",
       "    .dataframe tbody tr th:only-of-type {\n",
       "        vertical-align: middle;\n",
       "    }\n",
       "\n",
       "    .dataframe tbody tr th {\n",
       "        vertical-align: top;\n",
       "    }\n",
       "\n",
       "    .dataframe thead th {\n",
       "        text-align: right;\n",
       "    }\n",
       "</style>\n",
       "<table border=\"1\" class=\"dataframe\">\n",
       "  <thead>\n",
       "    <tr style=\"text-align: right;\">\n",
       "      <th></th>\n",
       "      <th>id_ученика</th>\n",
       "      <th>Классификатор_услуги</th>\n",
       "      <th>count</th>\n",
       "    </tr>\n",
       "  </thead>\n",
       "  <tbody>\n",
       "    <tr>\n",
       "      <th>123814</th>\n",
       "      <td>91502</td>\n",
       "      <td>306</td>\n",
       "      <td>1</td>\n",
       "    </tr>\n",
       "  </tbody>\n",
       "</table>\n",
       "</div>"
      ],
      "text/plain": [
       "        id_ученика  Классификатор_услуги  count\n",
       "123814       91502                   306      1"
      ]
     },
     "execution_count": 294,
     "metadata": {},
     "output_type": "execute_result"
    }
   ],
   "source": [
    "df[df['id_ученика'] == 91502]"
   ]
  },
  {
   "cell_type": "code",
   "execution_count": 302,
   "metadata": {},
   "outputs": [
    {
     "data": {
      "text/html": [
       "<div>\n",
       "<style scoped>\n",
       "    .dataframe tbody tr th:only-of-type {\n",
       "        vertical-align: middle;\n",
       "    }\n",
       "\n",
       "    .dataframe tbody tr th {\n",
       "        vertical-align: top;\n",
       "    }\n",
       "\n",
       "    .dataframe thead th {\n",
       "        text-align: right;\n",
       "    }\n",
       "</style>\n",
       "<table border=\"1\" class=\"dataframe\">\n",
       "  <thead>\n",
       "    <tr style=\"text-align: right;\">\n",
       "      <th></th>\n",
       "      <th>id_родительского_классификатора</th>\n",
       "      <th>Наименование</th>\n",
       "      <th>id_классификатора</th>\n",
       "    </tr>\n",
       "  </thead>\n",
       "  <tbody>\n",
       "    <tr>\n",
       "      <th>481</th>\n",
       "      <td>3003406</td>\n",
       "      <td>Современный танец</td>\n",
       "      <td>3003426</td>\n",
       "    </tr>\n",
       "  </tbody>\n",
       "</table>\n",
       "</div>"
      ],
      "text/plain": [
       "     id_родительского_классификатора       Наименование  id_классификатора\n",
       "481                          3003406  Современный танец            3003426"
      ]
     },
     "execution_count": 302,
     "metadata": {},
     "output_type": "execute_result"
    }
   ],
   "source": [
    "df_classes[df_classes['id_классификатора'] == class_id_to_serv[306]]"
   ]
  },
  {
   "cell_type": "code",
   "execution_count": 299,
   "metadata": {},
   "outputs": [
    {
     "data": {
      "text/html": [
       "<div>\n",
       "<style scoped>\n",
       "    .dataframe tbody tr th:only-of-type {\n",
       "        vertical-align: middle;\n",
       "    }\n",
       "\n",
       "    .dataframe tbody tr th {\n",
       "        vertical-align: top;\n",
       "    }\n",
       "\n",
       "    .dataframe thead th {\n",
       "        text-align: right;\n",
       "    }\n",
       "</style>\n",
       "<table border=\"1\" class=\"dataframe\">\n",
       "  <thead>\n",
       "    <tr style=\"text-align: right;\">\n",
       "      <th></th>\n",
       "      <th>id_родительского_классификатора</th>\n",
       "      <th>Наименование</th>\n",
       "      <th>id_классификатора</th>\n",
       "    </tr>\n",
       "  </thead>\n",
       "  <tbody>\n",
       "    <tr>\n",
       "      <th>537</th>\n",
       "      <td>3220100</td>\n",
       "      <td>Хоровое пение</td>\n",
       "      <td>3220102</td>\n",
       "    </tr>\n",
       "  </tbody>\n",
       "</table>\n",
       "</div>"
      ],
      "text/plain": [
       "     id_родительского_классификатора   Наименование  id_классификатора\n",
       "537                          3220100  Хоровое пение            3220102"
      ]
     },
     "execution_count": 299,
     "metadata": {},
     "output_type": "execute_result"
    }
   ],
   "source": [
    "df_classes[df_classes['id_классификатора'] == class_id_to_serv[385]]"
   ]
  },
  {
   "cell_type": "code",
   "execution_count": 289,
   "metadata": {},
   "outputs": [
    {
     "data": {
      "text/plain": [
       "array([264717,  91489,  91502,  91501,  91500])"
      ]
     },
     "execution_count": 289,
     "metadata": {},
     "output_type": "execute_result"
    }
   ],
   "source": [
    "dist_.argsort()[-5:][::-1]"
   ]
  },
  {
   "cell_type": "code",
   "execution_count": 286,
   "metadata": {},
   "outputs": [
    {
     "data": {
      "text/plain": [
       "[<matplotlib.lines.Line2D at 0x7f5b156b5ed0>]"
      ]
     },
     "execution_count": 286,
     "metadata": {},
     "output_type": "execute_result"
    },
    {
     "data": {
      "image/png": "[encoded data removed]",
      "text/plain": [
       "<Figure size 432x288 with 1 Axes>"
      ]
     },
     "metadata": {
      "needs_background": "light"
     },
     "output_type": "display_data"
    }
   ],
   "source": [
    "plt.plot(dist_[(dist_ > 0) & (dist_ < .5)], 'o')"
   ]
  },
  {
   "cell_type": "markdown",
   "metadata": {},
   "source": [
    "##### TF"
   ]
  },
  {
   "cell_type": "code",
   "execution_count": 172,
   "metadata": {},
   "outputs": [],
   "source": [
    "import tensorflow as tf\n",
    " \n",
    "import tensorflow_datasets as tfds\n",
    "import tensorflow_recommenders as tfrs"
   ]
  },
  {
   "cell_type": "code",
   "execution_count": 205,
   "metadata": {},
   "outputs": [],
   "source": [
    "ratings = tfds.load(\"movielens/100k-ratings\", split=\"train\")"
   ]
  },
  {
   "cell_type": "code",
   "execution_count": 206,
   "metadata": {},
   "outputs": [
    {
     "data": {
      "text/html": [
       "<div>\n",
       "<style scoped>\n",
       "    .dataframe tbody tr th:only-of-type {\n",
       "        vertical-align: middle;\n",
       "    }\n",
       "\n",
       "    .dataframe tbody tr th {\n",
       "        vertical-align: top;\n",
       "    }\n",
       "\n",
       "    .dataframe thead th {\n",
       "        text-align: right;\n",
       "    }\n",
       "</style>\n",
       "<table border=\"1\" class=\"dataframe\">\n",
       "  <thead>\n",
       "    <tr style=\"text-align: right;\">\n",
       "      <th></th>\n",
       "      <th>bucketized_user_age</th>\n",
       "      <th>movie_genres</th>\n",
       "      <th>movie_id</th>\n",
       "      <th>movie_title</th>\n",
       "      <th>raw_user_age</th>\n",
       "      <th>timestamp</th>\n",
       "      <th>user_gender</th>\n",
       "      <th>user_id</th>\n",
       "      <th>user_occupation_label</th>\n",
       "      <th>user_occupation_text</th>\n",
       "      <th>user_rating</th>\n",
       "      <th>user_zip_code</th>\n",
       "    </tr>\n",
       "  </thead>\n",
       "  <tbody>\n",
       "    <tr>\n",
       "      <th>0</th>\n",
       "      <td>45.0</td>\n",
       "      <td>[7]</td>\n",
       "      <td>b'357'</td>\n",
       "      <td>b\"One Flew Over the Cuckoo's Nest (1975)\"</td>\n",
       "      <td>46.0</td>\n",
       "      <td>879024327</td>\n",
       "      <td>True</td>\n",
       "      <td>b'138'</td>\n",
       "      <td>4</td>\n",
       "      <td>b'doctor'</td>\n",
       "      <td>4.0</td>\n",
       "      <td>b'53211'</td>\n",
       "    </tr>\n",
       "    <tr>\n",
       "      <th>1</th>\n",
       "      <td>25.0</td>\n",
       "      <td>[4, 14]</td>\n",
       "      <td>b'709'</td>\n",
       "      <td>b'Strictly Ballroom (1992)'</td>\n",
       "      <td>32.0</td>\n",
       "      <td>875654590</td>\n",
       "      <td>True</td>\n",
       "      <td>b'92'</td>\n",
       "      <td>5</td>\n",
       "      <td>b'entertainment'</td>\n",
       "      <td>2.0</td>\n",
       "      <td>b'80525'</td>\n",
       "    </tr>\n",
       "    <tr>\n",
       "      <th>2</th>\n",
       "      <td>18.0</td>\n",
       "      <td>[4]</td>\n",
       "      <td>b'412'</td>\n",
       "      <td>b'Very Brady Sequel, A (1996)'</td>\n",
       "      <td>24.0</td>\n",
       "      <td>882075110</td>\n",
       "      <td>True</td>\n",
       "      <td>b'301'</td>\n",
       "      <td>17</td>\n",
       "      <td>b'student'</td>\n",
       "      <td>4.0</td>\n",
       "      <td>b'55439'</td>\n",
       "    </tr>\n",
       "  </tbody>\n",
       "</table>\n",
       "</div>"
      ],
      "text/plain": [
       "   bucketized_user_age movie_genres movie_id  \\\n",
       "0                 45.0          [7]   b'357'   \n",
       "1                 25.0      [4, 14]   b'709'   \n",
       "2                 18.0          [4]   b'412'   \n",
       "\n",
       "                                 movie_title  raw_user_age  timestamp  \\\n",
       "0  b\"One Flew Over the Cuckoo's Nest (1975)\"          46.0  879024327   \n",
       "1                b'Strictly Ballroom (1992)'          32.0  875654590   \n",
       "2             b'Very Brady Sequel, A (1996)'          24.0  882075110   \n",
       "\n",
       "   user_gender user_id  user_occupation_label user_occupation_text  \\\n",
       "0         True  b'138'                      4            b'doctor'   \n",
       "1         True   b'92'                      5     b'entertainment'   \n",
       "2         True  b'301'                     17           b'student'   \n",
       "\n",
       "   user_rating user_zip_code  \n",
       "0          4.0      b'53211'  \n",
       "1          2.0      b'80525'  \n",
       "2          4.0      b'55439'  "
      ]
     },
     "execution_count": 206,
     "metadata": {},
     "output_type": "execute_result"
    }
   ],
   "source": [
    "pd.DataFrame([x for x in ratings.take(3).as_numpy_iterator()])"
   ]
  },
  {
   "cell_type": "code",
   "execution_count": 207,
   "metadata": {},
   "outputs": [],
   "source": [
    "ratings_ = ratings.map(lambda x: {\n",
    "    'movie_title': x['movie_title'], \n",
    "    'user_id': x[\"user_id\"], \n",
    "    \"user_rating\": x[\"user_rating\"],\n",
    "})"
   ]
  },
  {
   "cell_type": "code",
   "execution_count": 208,
   "metadata": {},
   "outputs": [
    {
     "data": {
      "text/plain": [
       "{'movie_title': TensorSpec(shape=(), dtype=tf.string, name=None),\n",
       " 'user_id': TensorSpec(shape=(), dtype=tf.string, name=None),\n",
       " 'user_rating': TensorSpec(shape=(), dtype=tf.float32, name=None)}"
      ]
     },
     "execution_count": 208,
     "metadata": {},
     "output_type": "execute_result"
    }
   ],
   "source": [
    "ratings_.element_spec"
   ]
  },
  {
   "cell_type": "code",
   "execution_count": 234,
   "metadata": {},
   "outputs": [
    {
     "data": {
      "text/plain": [
       "[{'movie_title': b\"One Flew Over the Cuckoo's Nest (1975)\",\n",
       "  'user_id': b'138',\n",
       "  'user_rating': 4.0},\n",
       " {'movie_title': b'Strictly Ballroom (1992)',\n",
       "  'user_id': b'92',\n",
       "  'user_rating': 2.0},\n",
       " {'movie_title': b'Very Brady Sequel, A (1996)',\n",
       "  'user_id': b'301',\n",
       "  'user_rating': 4.0}]"
      ]
     },
     "execution_count": 234,
     "metadata": {},
     "output_type": "execute_result"
    }
   ],
   "source": [
    "list(ratings_.take(3).as_numpy_iterator())"
   ]
  },
  {
   "cell_type": "code",
   "execution_count": 209,
   "metadata": {},
   "outputs": [
    {
     "data": {
      "text/html": [
       "<div>\n",
       "<style scoped>\n",
       "    .dataframe tbody tr th:only-of-type {\n",
       "        vertical-align: middle;\n",
       "    }\n",
       "\n",
       "    .dataframe tbody tr th {\n",
       "        vertical-align: top;\n",
       "    }\n",
       "\n",
       "    .dataframe thead th {\n",
       "        text-align: right;\n",
       "    }\n",
       "</style>\n",
       "<table border=\"1\" class=\"dataframe\">\n",
       "  <thead>\n",
       "    <tr style=\"text-align: right;\">\n",
       "      <th></th>\n",
       "      <th>movie_title</th>\n",
       "      <th>user_id</th>\n",
       "      <th>user_rating</th>\n",
       "    </tr>\n",
       "  </thead>\n",
       "  <tbody>\n",
       "    <tr>\n",
       "      <th>0</th>\n",
       "      <td>b\"One Flew Over the Cuckoo's Nest (1975)\"</td>\n",
       "      <td>b'138'</td>\n",
       "      <td>4.0</td>\n",
       "    </tr>\n",
       "    <tr>\n",
       "      <th>1</th>\n",
       "      <td>b'Strictly Ballroom (1992)'</td>\n",
       "      <td>b'92'</td>\n",
       "      <td>2.0</td>\n",
       "    </tr>\n",
       "    <tr>\n",
       "      <th>2</th>\n",
       "      <td>b'Very Brady Sequel, A (1996)'</td>\n",
       "      <td>b'301'</td>\n",
       "      <td>4.0</td>\n",
       "    </tr>\n",
       "  </tbody>\n",
       "</table>\n",
       "</div>"
      ],
      "text/plain": [
       "                                 movie_title user_id  user_rating\n",
       "0  b\"One Flew Over the Cuckoo's Nest (1975)\"  b'138'          4.0\n",
       "1                b'Strictly Ballroom (1992)'   b'92'          2.0\n",
       "2             b'Very Brady Sequel, A (1996)'  b'301'          4.0"
      ]
     },
     "execution_count": 209,
     "metadata": {},
     "output_type": "execute_result"
    }
   ],
   "source": [
    "pd.DataFrame([x for x in ratings_.take(3).as_numpy_iterator()])"
   ]
  },
  {
   "cell_type": "code",
   "execution_count": 247,
   "metadata": {},
   "outputs": [
    {
     "data": {
      "text/plain": [
       "<MapDataset shapes: {movie_title: (), user_id: (), user_rating: ()}, types: {movie_title: tf.string, user_id: tf.string, user_rating: tf.float32}>"
      ]
     },
     "execution_count": 247,
     "metadata": {},
     "output_type": "execute_result"
    }
   ],
   "source": [
    "ratings_"
   ]
  },
  {
   "cell_type": "code",
   "execution_count": 210,
   "metadata": {},
   "outputs": [],
   "source": [
    "tf.random.set_seed(42)\n",
    "shuffled = ratings_.shuffle(100_000, seed=42, reshuffle_each_iteration=False)\n",
    "\n",
    "train = shuffled.take(80_000)\n",
    "test = shuffled.skip(80_000).take(20_000)"
   ]
  },
  {
   "cell_type": "code",
   "execution_count": 211,
   "metadata": {},
   "outputs": [],
   "source": [
    "movie_titles = ratings_.batch(1_000_000).map(lambda x: x[\"movie_title\"])\n",
    "user_ids = ratings_.batch(1_000_000).map(lambda x: x[\"user_id\"])"
   ]
  },
  {
   "cell_type": "code",
   "execution_count": 213,
   "metadata": {},
   "outputs": [],
   "source": [
    "unique_movie_titles = np.unique(np.concatenate(list(movie_titles)))\n",
    "unique_user_ids = np.unique(np.concatenate(list(user_ids)))"
   ]
  },
  {
   "cell_type": "code",
   "execution_count": 216,
   "metadata": {},
   "outputs": [],
   "source": [
    "class RankingModel(tf.keras.Model):\n",
    "    def __init__(self):\n",
    "        super().__init__()\n",
    "        embedding_dimension = 32\n",
    "        # Compute embeddings for users.\n",
    "        self.user_embeddings = tf.keras.Sequential([\n",
    "          tf.keras.layers.experimental.preprocessing.StringLookup(\n",
    "            vocabulary=unique_user_ids, mask_token=None),\n",
    "          tf.keras.layers.Embedding(len(unique_user_ids) + 1, embedding_dimension)\n",
    "        ])\n",
    "        # Compute embeddings for movies.\n",
    "        self.movie_embeddings = tf.keras.Sequential([\n",
    "          tf.keras.layers.experimental.preprocessing.StringLookup(\n",
    "            vocabulary=unique_movie_titles, mask_token=None),\n",
    "          tf.keras.layers.Embedding(len(unique_movie_titles) + 1, embedding_dimension)\n",
    "        ])\n",
    "        # Compute predictions.\n",
    "        self.ratings = tf.keras.Sequential([\n",
    "          # Learn multiple dense layers.\n",
    "          tf.keras.layers.Dense(256, activation=\"relu\"),\n",
    "          tf.keras.layers.Dense(64, activation=\"relu\"),\n",
    "          # Make rating predictions in the final layer.\n",
    "          tf.keras.layers.Dense(1)\n",
    "      ])\n",
    "\n",
    "    def call(self, inputs):\n",
    "        user_id, movie_title = inputs\n",
    "        user_embedding = self.user_embeddings(user_id)\n",
    "        movie_embedding = self.movie_embeddings(movie_title)\n",
    "        return self.ratings(tf.concat([user_embedding, movie_embedding], axis=1))"
   ]
  },
  {
   "cell_type": "code",
   "execution_count": 217,
   "metadata": {},
   "outputs": [
    {
     "name": "stdout",
     "output_type": "stream",
     "text": [
      "WARNING:tensorflow:Layers in a Sequential model should only have a single input tensor, but we receive a <class 'list'> input: ['42']\n",
      "Consider rewriting this model with the Functional API.\n"
     ]
    },
    {
     "name": "stderr",
     "output_type": "stream",
     "text": [
      "WARNING:tensorflow:Layers in a Sequential model should only have a single input tensor, but we receive a <class 'list'> input: ['42']\n",
      "Consider rewriting this model with the Functional API.\n"
     ]
    },
    {
     "name": "stdout",
     "output_type": "stream",
     "text": [
      "WARNING:tensorflow:Layers in a Sequential model should only have a single input tensor, but we receive a <class 'list'> input: [\"One Flew Over the Cuckoo's Nest (1975)\"]\n",
      "Consider rewriting this model with the Functional API.\n"
     ]
    },
    {
     "name": "stderr",
     "output_type": "stream",
     "text": [
      "WARNING:tensorflow:Layers in a Sequential model should only have a single input tensor, but we receive a <class 'list'> input: [\"One Flew Over the Cuckoo's Nest (1975)\"]\n",
      "Consider rewriting this model with the Functional API.\n"
     ]
    },
    {
     "data": {
      "text/plain": [
       "<tf.Tensor: shape=(1, 1), dtype=float32, numpy=array([[0.03740937]], dtype=float32)>"
      ]
     },
     "execution_count": 217,
     "metadata": {},
     "output_type": "execute_result"
    }
   ],
   "source": [
    "RankingModel()(([\"42\"], [\"One Flew Over the Cuckoo's Nest (1975)\"]))"
   ]
  },
  {
   "cell_type": "code",
   "execution_count": 218,
   "metadata": {},
   "outputs": [],
   "source": [
    "task = tfrs.tasks.Ranking(\n",
    "    loss = tf.keras.losses.MeanSquaredError(),\n",
    "    metrics=[tf.keras.metrics.RootMeanSquaredError()]\n",
    ")"
   ]
  },
  {
   "cell_type": "code",
   "execution_count": 222,
   "metadata": {},
   "outputs": [],
   "source": [
    "from typing import Dict, Text"
   ]
  },
  {
   "cell_type": "code",
   "execution_count": 223,
   "metadata": {},
   "outputs": [],
   "source": [
    "class MovielensModel(tfrs.models.Model):\n",
    "\n",
    "    def __init__(self):\n",
    "        super().__init__()\n",
    "        self.ranking_model: tf.keras.Model = RankingModel()\n",
    "        self.task: tf.keras.layers.Layer = tfrs.tasks.Ranking(\n",
    "            loss = tf.keras.losses.MeanSquaredError(),\n",
    "            metrics=[tf.keras.metrics.RootMeanSquaredError()]\n",
    "        )\n",
    "    def compute_loss(self, features: Dict[Text, tf.Tensor], training=False) -> tf.Tensor:\n",
    "        rating_predictions = self.ranking_model(\n",
    "            (features[\"user_id\"], features[\"movie_title\"]))\n",
    "\n",
    "        # The task computes the loss and the metrics.\n",
    "        return self.task(labels=features[\"user_rating\"], predictions=rating_predictions)\n"
   ]
  },
  {
   "cell_type": "code",
   "execution_count": 243,
   "metadata": {},
   "outputs": [
    {
     "name": "stdout",
     "output_type": "stream",
     "text": [
      "Epoch 1/10\n",
      "10/10 [==============================] - 0s 18ms/step - root_mean_squared_error: 2.2282 - loss: 4.5481 - regularization_loss: 0.0000e+00 - total_loss: 4.5481\n",
      "Epoch 2/10\n",
      "10/10 [==============================] - 0s 18ms/step - root_mean_squared_error: 1.1202 - loss: 1.2483 - regularization_loss: 0.0000e+00 - total_loss: 1.2483\n",
      "Epoch 3/10\n",
      "10/10 [==============================] - 0s 18ms/step - root_mean_squared_error: 1.1118 - loss: 1.2363 - regularization_loss: 0.0000e+00 - total_loss: 1.2363\n",
      "Epoch 4/10\n",
      "10/10 [==============================] - 0s 18ms/step - root_mean_squared_error: 1.0996 - loss: 1.2069 - regularization_loss: 0.0000e+00 - total_loss: 1.2069\n",
      "Epoch 5/10\n",
      "10/10 [==============================] - 0s 18ms/step - root_mean_squared_error: 1.0818 - loss: 1.1679 - regularization_loss: 0.0000e+00 - total_loss: 1.1679\n",
      "Epoch 6/10\n",
      "10/10 [==============================] - 0s 18ms/step - root_mean_squared_error: 1.0590 - loss: 1.1200 - regularization_loss: 0.0000e+00 - total_loss: 1.1200\n",
      "Epoch 7/10\n",
      "10/10 [==============================] - 0s 18ms/step - root_mean_squared_error: 1.0336 - loss: 1.0647 - regularization_loss: 0.0000e+00 - total_loss: 1.0647\n",
      "Epoch 8/10\n",
      "10/10 [==============================] - 0s 18ms/step - root_mean_squared_error: 1.0101 - loss: 1.0190 - regularization_loss: 0.0000e+00 - total_loss: 1.0190\n",
      "Epoch 9/10\n",
      "10/10 [==============================] - 0s 18ms/step - root_mean_squared_error: 0.9913 - loss: 0.9845 - regularization_loss: 0.0000e+00 - total_loss: 0.9845\n",
      "Epoch 10/10\n",
      "10/10 [==============================] - 0s 18ms/step - root_mean_squared_error: 0.9781 - loss: 0.9545 - regularization_loss: 0.0000e+00 - total_loss: 0.9545\n"
     ]
    },
    {
     "data": {
      "text/plain": [
       "<tensorflow.python.keras.callbacks.History at 0x7f5b151c5fd0>"
      ]
     },
     "execution_count": 243,
     "metadata": {},
     "output_type": "execute_result"
    }
   ],
   "source": [
    "model = MovielensModel()\n",
    "model.compile(optimizer=tf.keras.optimizers.Adagrad(learning_rate=0.1))\n",
    "cached_train = train.shuffle(100_000).batch(8192).cache()\n",
    "cached_test = test.batch(4096).cache()\n",
    "model.fit(cached_train, epochs=10)"
   ]
  },
  {
   "cell_type": "code",
   "execution_count": 227,
   "metadata": {},
   "outputs": [
    {
     "name": "stdout",
     "output_type": "stream",
     "text": [
      "5/5 [==============================] - 0s 6ms/step - root_mean_squared_error: 1.0128 - loss: 1.0241 - regularization_loss: 0.0000e+00 - total_loss: 1.0241\n"
     ]
    },
    {
     "data": {
      "text/plain": [
       "{'root_mean_squared_error': 1.0128363370895386,\n",
       " 'loss': 1.0166913270950317,\n",
       " 'regularization_loss': 0,\n",
       " 'total_loss': 1.0166913270950317}"
      ]
     },
     "execution_count": 227,
     "metadata": {},
     "output_type": "execute_result"
    }
   ],
   "source": [
    "model.evaluate(cached_test, return_dict=True)"
   ]
  },
  {
   "cell_type": "code",
   "execution_count": 261,
   "metadata": {},
   "outputs": [],
   "source": [
    "dataset = tf.data.Dataset.from_tensor_slices((df.values, target.values))"
   ]
  },
  {
   "cell_type": "markdown",
   "metadata": {},
   "source": [
    "### EXTRACT FEATURES"
   ]
  }
 ],
 "metadata": {
  "kernelspec": {
   "display_name": "Python 3",
   "language": "python",
   "name": "python3"
  },
  "language_info": {
   "codemirror_mode": {
    "name": "ipython",
    "version": 3
   },
   "file_extension": ".py",
   "mimetype": "text/x-python",
   "name": "python",
   "nbconvert_exporter": "python",
   "pygments_lexer": "ipython3",
   "version": "3.7.4"
  },
  "toc": {
   "base_numbering": 1,
   "nav_menu": {},
   "number_sections": true,
   "sideBar": true,
   "skip_h1_title": false,
   "title_cell": "Table of Contents",
   "title_sidebar": "Contents",
   "toc_cell": false,
   "toc_position": {},
   "toc_section_display": true,
   "toc_window_display": false
  },
  "varInspector": {
   "cols": {
    "lenName": 16,
    "lenType": 16,
    "lenVar": 40
   },
   "kernels_config": {
    "python": {
     "delete_cmd_postfix": "",
     "delete_cmd_prefix": "del ",
     "library": "var_list.py",
     "varRefreshCmd": "print(var_dic_list())"
    },
    "r": {
     "delete_cmd_postfix": ") ",
     "delete_cmd_prefix": "rm(",
     "library": "var_list.r",
     "varRefreshCmd": "cat(var_dic_list()) "
    }
   },
   "types_to_exclude": [
    "module",
    "function",
    "builtin_function_or_method",
    "instance",
    "_Feature"
   ],
   "window_display": false
  }
 },
 "nbformat": 4,
 "nbformat_minor": 4
}
