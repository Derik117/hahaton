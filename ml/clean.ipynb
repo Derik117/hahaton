{
 "cells": [
  {
   "cell_type": "code",
   "execution_count": 6,
   "metadata": {},
   "outputs": [
    {
     "name": "stdout",
     "output_type": "stream",
     "text": [
      "total 453M\n",
      "-rw-r--r-- 1 jupyter jupyter  31K Nov  1 02:14 classes.csv\n",
      "-rw-r--r-- 1 jupyter jupyter  34K Oct 31 11:17 Classificator_hachaton.csv\n",
      "-rw-r--r-- 1 jupyter jupyter  13K Nov  1 02:37 clean.ipynb\n",
      "-rw-r--r-- 1 jupyter jupyter  22M Nov  1 01:26 cosine_sim\n",
      "-rw-r--r-- 1 jupyter jupyter 5.9M Nov  1 02:14 df.csv\n",
      "-rw-r--r-- 1 jupyter jupyter  33M Oct 31 11:00 krugki.zip\n",
      "-rw-r--r-- 1 jupyter jupyter 102M Oct 31 11:17 MegaRelation_hackaton.csv\n",
      "-rw-r--r-- 1 jupyter jupyter 8.4M Oct 31 11:00 mero.xlsx\n",
      "-rw-r--r-- 1 jupyter jupyter 1.1K Oct 31 11:17 mr.sql\n",
      "-rw-r--r-- 1 jupyter jupyter 153K Oct 31 11:17 org_hackaton.csv\n",
      "-rw-r--r-- 1 jupyter jupyter  470 Oct 31 11:17 org.sql\n",
      "-rw-r--r-- 1 jupyter jupyter  67M Nov  1 02:14 pupil.csv\n",
      "-rw-r--r-- 1 jupyter jupyter  75M Oct 31 11:17 Pupil_hackaton.csv\n",
      "-rw-r--r-- 1 jupyter jupyter  295 Oct 31 11:17 pupil.sql\n",
      "-rw-r--r-- 1 jupyter jupyter  86M Nov  1 02:14 relation.csv\n",
      "-rw-r--r-- 1 jupyter jupyter  46M Oct 31 11:17 request_hackaton.csv\n",
      "-rw-r--r-- 1 jupyter jupyter  969 Oct 31 11:17 request.sql\n",
      "-rw-r--r-- 1 jupyter jupyter 4.5M Nov  1 02:14 services.csv\n",
      "-rw-r--r-- 1 jupyter jupyter 5.8M Oct 31 11:17 services_hackaton.csv\n",
      "-rw-r--r-- 1 jupyter jupyter 125K Nov  1 01:52 test.ipynb\n",
      "-rw-r--r-- 1 jupyter jupyter  961 Oct 31 11:17 ucs.sql\n"
     ]
    }
   ],
   "source": [
    "!ls -lh"
   ]
  },
  {
   "cell_type": "code",
   "execution_count": 1,
   "metadata": {},
   "outputs": [],
   "source": [
    "import pandas as pd\n",
    "import numpy as np\n",
    "import pickle\n",
    "import requests, zipfile\n",
    "import seaborn as sns\n",
    "import matplotlib.pyplot as plt\n",
    "from typing import List, Dict\n",
    "import itertools\n",
    "from scipy.sparse import csc_matrix\n",
    "from sklearn.metrics.pairwise import cosine_distances"
   ]
  },
  {
   "cell_type": "code",
   "execution_count": 2,
   "metadata": {},
   "outputs": [],
   "source": [
    "df_classes = pd.read_csv('Classificator_hachaton.csv', delimiter=';')\n",
    "df_org = pd.read_csv('org_hackaton.csv', delimiter=';') # Список КЦ # дубликаты одинаковые КЦ с разным метро\n",
    "df_pupil = pd.read_csv('Pupil_hackaton.csv', delimiter=';') # пользователи КЦ\n",
    "df_req = pd.read_csv('request_hackaton.csv', delimiter=';')\n",
    "df_services = pd.read_csv('services_hackaton.csv', delimiter=';')\n",
    "df_relation = pd.read_csv('MegaRelation_hackaton.csv', delimiter=';')"
   ]
  },
  {
   "cell_type": "code",
   "execution_count": 3,
   "metadata": {},
   "outputs": [],
   "source": [
    "def classes_preprocess(df_classes: pd.DataFrame) -> pd.DataFrame:\n",
    "    class_nan = df_classes['id_родительского_классификатора'].isna()\n",
    "    df_classes.loc[class_nan, 'id_родительского_классификатора'] = df_classes.loc[class_nan, 'id_классификатора'] \n",
    "    df_classes.loc[class_nan, 'id_классификатора'] = np.nan\n",
    "    df_classes['id_родительского_классификатора'] = df_classes['id_родительского_классификатора'].astype(int)\n",
    "    df_classes = df_classes.sort_values(['id_классификатора'])\n",
    "\n",
    "    # матчим названия\n",
    "    id_classes = {\n",
    "        'Цирковое искусство': 'Искусство цирка',\n",
    "        'Изобразительное искусство': 'ИЗО',\n",
    "        'Хореографическое искусство' : 'Хореографическое творчество',\n",
    "        'Раннее развитие': 'Раннее эстетическое развитие',\n",
    "    }\n",
    "\n",
    "    df_classes['Наименование'] = df_classes['Наименование'].replace(id_classes)\n",
    "    df_classes = df_classes.groupby(['id_родительского_классификатора', 'Наименование']).apply(lambda x: x['id_классификатора'].fillna(method='ffill')).reset_index()\n",
    "    df_classes = df_classes.drop(['level_2'], axis=1)\n",
    "\n",
    "    # допущение, что возможная ошибка в id, приравниваем род_классификатор и классификатор\n",
    "    df_classes.loc[df_classes['id_классификатора'].isna(), 'id_классификатора'] = df_classes.loc[df_classes['id_классификатора'].isna(), 'id_родительского_классификатора']\n",
    "    df_classes['id_классификатора'] = df_classes['id_классификатора'].astype(int)\n",
    "    df_classes = df_classes[~df_classes.duplicated()].reset_index(drop=True)\n",
    "    return df_classes\n",
    "\n",
    "def pupil_preprocess(df_pupil: pd.DataFrame) -> pd.DataFrame:\n",
    "    df_pupil.loc[df_pupil['id_ученика'] == 920894, 'возраст'] = abs(df_pupil.loc[df_pupil['id_ученика'] == 920894, 'возраст'])\n",
    "    df_pupil.loc[df_pupil['id_ученика'] == 920981, 'возраст'] = df_pupil.loc[df_pupil['id_ученика'] == 920981, 'возраст'] + 1000\n",
    "    df_pupil.loc[df_pupil['id_ученика'] == 931529, 'возраст'] = df_pupil.loc[df_pupil['id_ученика'] == 931529, 'возраст'] + 1000\n",
    "    df_pupil.loc[df_pupil['id_ученика'] == 938810, 'возраст'] = df_pupil.loc[df_pupil['id_ученика'] == 938810, 'возраст'] + 1000\n",
    "    df_pupil.loc[df_pupil['id_ученика'] == 2667143, 'возраст'] = abs(df_pupil.loc[df_pupil['id_ученика'] == 2667143, 'возраст'])\n",
    "    df_pupil.loc[df_pupil['возраст'] > 90, 'возраст'] = 90\n",
    "    df_pupil['возраст'] = df_pupil['возраст'].fillna(int(df_pupil['возраст'].mean()))\n",
    "    df_pupil['возраст'] = df_pupil['возраст'].astype(int)\n",
    "    return df_pupil\n",
    "\n",
    "def services_preprocess(df_services: pd.DataFrame, df_classes: pd.DataFrame) -> pd.DataFrame:\n",
    "    df_services['Дата_создания'] = pd.to_datetime(df_services['Дата_создания'])\n",
    "    df_services = df_services[df_services['Классификатор_услуги'].isin(np.unique(df_classes['id_классификатора']))]\n",
    "    df_services['длительность_обучения'] = df_services['длительность_обучения'].fillna('1,0000')\n",
    "    df_services['длительность_обучения'] = df_services['длительность_обучения'].apply(lambda x: int(x.split(',')[0]))\n",
    "    return df_services\n",
    "    \n",
    "def reliation_preprocess(df_relation: pd.DataFrame) -> pd.DataFrame:\n",
    "    df_relation = df_relation[~df_relation['id_ученика'].isna()]\n",
    "    df_relation['id_ученика'] = df_relation['id_ученика'].astype(int)\n",
    "    df_relation['Статус'] = df_relation['Статус'].astype(int)\n",
    "    df_relation['Дата_создания_записи'] = pd.to_datetime(df_relation['Дата_создания_записи'])\n",
    "    df_relation['дата_отчисления'] = pd.to_datetime(df_relation['дата_отчисления'])\n",
    "    return df_relation\n",
    "\n",
    "def df(df_relation, df_services):\n",
    "    df = df_relation.loc[:, ['id_ученика', 'id_услуги']].merge(df_services.loc[:, ['id_услуги', 'Классификатор_услуги']],\n",
    "                                                               on=['id_услуги']).loc[:, ['id_ученика', 'Классификатор_услуги']]\n",
    "    df['count'] = 1\n",
    "    df = df.groupby(['id_ученика', 'Классификатор_услуги'])['count'].count().reset_index()\n",
    "    return df"
   ]
  },
  {
   "cell_type": "code",
   "execution_count": 2,
   "metadata": {
    "collapsed": true,
    "jupyter": {
     "outputs_hidden": true
    }
   },
   "outputs": [
    {
     "ename": "NameError",
     "evalue": "name 'classes_preprocess' is not defined",
     "output_type": "error",
     "traceback": [
      "\u001b[0;31m---------------------------------------------------------------------------\u001b[0m",
      "\u001b[0;31mNameError\u001b[0m                                 Traceback (most recent call last)",
      "\u001b[0;32m<timed exec>\u001b[0m in \u001b[0;36m<module>\u001b[0;34m\u001b[0m\n",
      "\u001b[0;31mNameError\u001b[0m: name 'classes_preprocess' is not defined"
     ]
    }
   ],
   "source": [
    "# df_classes = classes_preprocess(df_classes)\n",
    "# df_pupil = pupil_preprocess(df_pupil)\n",
    "# df_services = services_preprocess(df_services, df_classes)\n",
    "# df_relation = reliation_preprocess(df_relation)\n",
    "# df = df(df_relation, df_services)"
   ]
  },
  {
   "cell_type": "code",
   "execution_count": 22,
   "metadata": {},
   "outputs": [],
   "source": [
    "# df_classes.to_csv('classes.csv', index=False)\n",
    "# df_pupil.to_csv('pupil.csv', index=False)\n",
    "# df_services.to_csv('services.csv', index=False)\n",
    "# df_relation.to_csv('relation.csv', index=False)\n",
    "# df.to_csv('df.csv', index=False)"
   ]
  },
  {
   "cell_type": "code",
   "execution_count": 2,
   "metadata": {},
   "outputs": [],
   "source": [
    "df_classes = pd.read_csv('classes.csv')\n",
    "df_pupil = pd.read_csv('pupil.csv')\n",
    "df_services = pd.read_csv('services.csv')\n",
    "df_relation = pd.read_csv('relation.csv')\n",
    "df = pd.read_csv('df.csv')"
   ]
  },
  {
   "cell_type": "code",
   "execution_count": 178,
   "metadata": {},
   "outputs": [],
   "source": [
    "def get_predicts_age(age: int, n: int) -> List[int]:\n",
    "    class_ids = []\n",
    "    with open('cosine_sim', 'rb') as f:\n",
    "        M = pickle.load(f)\n",
    "    new_user_id = df_pupil.loc[(df_pupil['возраст'] == age), ['id_ученика']].values.reshape(-1, )[0]\n",
    "    dist = cosine_distances(M, M[new_user_id]).reshape(-1, )\n",
    "    dist_idx = dist.argsort()\n",
    "    for classif in dist_idx:\n",
    "        if len(np.unique(class_ids)) < n:\n",
    "            try:\n",
    "                class_ids.append(df.loc[df['id_ученика'] == classif, 'Классификатор_услуги'].values[0])\n",
    "            except:\n",
    "                continue\n",
    "        else:\n",
    "            break\n",
    "    seen = set()\n",
    "    uniq = []\n",
    "    for x in class_ids:\n",
    "        if x not in seen:\n",
    "            uniq.append(x)\n",
    "            seen.add(x)\n",
    "    return uniq"
   ]
  },
  {
   "cell_type": "code",
   "execution_count": 188,
   "metadata": {},
   "outputs": [
    {
     "data": {
      "text/plain": [
       "[3220710, 3003431, 3220705, 3220406, 3220706]"
      ]
     },
     "execution_count": 188,
     "metadata": {},
     "output_type": "execute_result"
    }
   ],
   "source": [
    "ids = get_predicts_age(1, 5)\n",
    "ids"
   ]
  },
  {
   "cell_type": "code",
   "execution_count": 189,
   "metadata": {},
   "outputs": [
    {
     "data": {
      "text/plain": [
       "[789724, 876891, 1030103, 1098312, 740611]"
      ]
     },
     "execution_count": 189,
     "metadata": {},
     "output_type": "execute_result"
    }
   ],
   "source": [
    "kids = get_krugki(ids)\n",
    "kids"
   ]
  },
  {
   "cell_type": "code",
   "execution_count": 190,
   "metadata": {},
   "outputs": [
    {
     "data": {
      "text/html": [
       "<div>\n",
       "<style scoped>\n",
       "    .dataframe tbody tr th:only-of-type {\n",
       "        vertical-align: middle;\n",
       "    }\n",
       "\n",
       "    .dataframe tbody tr th {\n",
       "        vertical-align: top;\n",
       "    }\n",
       "\n",
       "    .dataframe thead th {\n",
       "        text-align: right;\n",
       "    }\n",
       "</style>\n",
       "<table border=\"1\" class=\"dataframe\">\n",
       "  <thead>\n",
       "    <tr style=\"text-align: right;\">\n",
       "      <th></th>\n",
       "      <th>id_услуги</th>\n",
       "      <th>Тип_финансирования</th>\n",
       "      <th>Классификатор_услуги</th>\n",
       "      <th>id_организации</th>\n",
       "      <th>Тип_расписания</th>\n",
       "      <th>Наименование_услуги</th>\n",
       "      <th>Дата_создания</th>\n",
       "      <th>длительность_обучения</th>\n",
       "      <th>единица_длительности</th>\n",
       "    </tr>\n",
       "  </thead>\n",
       "  <tbody>\n",
       "    <tr>\n",
       "      <th>11167</th>\n",
       "      <td>876891</td>\n",
       "      <td>платно</td>\n",
       "      <td>3003431</td>\n",
       "      <td>10852</td>\n",
       "      <td>Общее</td>\n",
       "      <td>Театр танца \"Лимонад\"</td>\n",
       "      <td>2019-10-09 12:55:55</td>\n",
       "      <td>1</td>\n",
       "      <td>лет</td>\n",
       "    </tr>\n",
       "    <tr>\n",
       "      <th>21344</th>\n",
       "      <td>1098312</td>\n",
       "      <td>бесплатно</td>\n",
       "      <td>3220406</td>\n",
       "      <td>29</td>\n",
       "      <td>Индивидуальное</td>\n",
       "      <td>струнные инструменты/ скрипка</td>\n",
       "      <td>2020-08-08 09:58:14</td>\n",
       "      <td>8</td>\n",
       "      <td>лет</td>\n",
       "    </tr>\n",
       "    <tr>\n",
       "      <th>29181</th>\n",
       "      <td>1030103</td>\n",
       "      <td>бесплатно</td>\n",
       "      <td>3220705</td>\n",
       "      <td>113</td>\n",
       "      <td>Общее</td>\n",
       "      <td>Кларнет</td>\n",
       "      <td>2020-04-15 16:16:20</td>\n",
       "      <td>8</td>\n",
       "      <td>лет</td>\n",
       "    </tr>\n",
       "    <tr>\n",
       "      <th>29799</th>\n",
       "      <td>740611</td>\n",
       "      <td>бесплатно</td>\n",
       "      <td>3220706</td>\n",
       "      <td>35</td>\n",
       "      <td>Общее</td>\n",
       "      <td>уровень I</td>\n",
       "      <td>2019-12-04 17:45:54</td>\n",
       "      <td>3</td>\n",
       "      <td>лет</td>\n",
       "    </tr>\n",
       "    <tr>\n",
       "      <th>31743</th>\n",
       "      <td>789724</td>\n",
       "      <td>бесплатно</td>\n",
       "      <td>3220710</td>\n",
       "      <td>152</td>\n",
       "      <td>Общее</td>\n",
       "      <td>уровень I</td>\n",
       "      <td>2019-08-07 12:41:21</td>\n",
       "      <td>3</td>\n",
       "      <td>лет</td>\n",
       "    </tr>\n",
       "  </tbody>\n",
       "</table>\n",
       "</div>"
      ],
      "text/plain": [
       "       id_услуги Тип_финансирования  Классификатор_услуги  id_организации  \\\n",
       "11167     876891             платно               3003431           10852   \n",
       "21344    1098312          бесплатно               3220406              29   \n",
       "29181    1030103          бесплатно               3220705             113   \n",
       "29799     740611          бесплатно               3220706              35   \n",
       "31743     789724          бесплатно               3220710             152   \n",
       "\n",
       "       Тип_расписания            Наименование_услуги        Дата_создания  \\\n",
       "11167           Общее          Театр танца \"Лимонад\"  2019-10-09 12:55:55   \n",
       "21344  Индивидуальное  струнные инструменты/ скрипка  2020-08-08 09:58:14   \n",
       "29181           Общее                        Кларнет  2020-04-15 16:16:20   \n",
       "29799           Общее                      уровень I  2019-12-04 17:45:54   \n",
       "31743           Общее                      уровень I  2019-08-07 12:41:21   \n",
       "\n",
       "       длительность_обучения единица_длительности  \n",
       "11167                      1                  лет  \n",
       "21344                      8                  лет  \n",
       "29181                      8                  лет  \n",
       "29799                      3                  лет  \n",
       "31743                      3                  лет  "
      ]
     },
     "execution_count": 190,
     "metadata": {},
     "output_type": "execute_result"
    }
   ],
   "source": [
    "df_services[df_services['id_услуги'].isin(kids)]"
   ]
  },
  {
   "cell_type": "code",
   "execution_count": null,
   "metadata": {},
   "outputs": [],
   "source": [
    "def get_top_services(age: int, n: int = 20):\n",
    "    class_ids = []\n",
    "    if age > 90:\n",
    "        age = 90\n",
    "    elif age < 0:\n",
    "        age = 0\n",
    "    new_user_id = df_pupil.loc[(df_pupil['возраст'] == age), ['id_ученика']].values.reshape(-1, )[0]\n",
    "    dist = cosine_distances(M_service, M_service[new_user_id]).reshape(-1, )\n",
    "    dist_idx = dist.argsort()\n",
    "    for classif in dist_idx:\n",
    "        if len(np.unique(class_ids)) < n:\n",
    "            try:\n",
    "                class_ids.append(service_df.loc[service_df['id_ученика'] == classif, 'Классификатор_услуги'].values[0])\n",
    "            except:\n",
    "                continue\n",
    "        else:\n",
    "            break\n",
    "    seen = set()\n",
    "    uniq = []\n",
    "    for x in class_ids:\n",
    "        if x not in seen:\n",
    "            uniq.append(x)  # ['Классификатор_услуги', 'id_организации', 'Тип_расписания']\n",
    "            seen.add(x)\n",
    "    services = models.Service.objects.filter(created_at__gt='2016-01-01',\n",
    "                                             service_class_id__in=uniq).order_by('-created_at').values_list('id',\n",
    "                                                                                                            'service_class_id',\n",
    "                                                                                                            'organization_id',\n",
    "                                                                                                            'schedule_type',\n",
    "                                                                                                            named=True).distinct()\n",
    "    service_ids = pd.DataFrame(services).drop_duplicates(['service_class_id', 'organization_id', 'schedule_type'])[\n",
    "        'id'].values\n",
    "    return service_ids[:n]\n"
   ]
  },
  {
   "cell_type": "code",
   "execution_count": 166,
   "metadata": {},
   "outputs": [],
   "source": [
    "def get_predicts(user_id: int, n: int) -> List[int]:\n",
    "    class_ids = []\n",
    "    with open('cosine_sim', 'rb') as f:\n",
    "        M = pickle.load(f)\n",
    "    age = df_pupil.loc[df_pupil['id_ученика'] == user_id, 'возраст'].values[0]\n",
    "    if user_id in df_relation['id_ученика'].values:\n",
    "        dist = cosine_distances(M, M[user_id]).reshape(-1, )\n",
    "    else:\n",
    "        new_user_id = df_pupil.loc[(df_pupil['возраст'] == age), ['id_ученика']].values.reshape(-1, )[0]\n",
    "        dist = cosine_distances(M, M[new_user_id]).reshape(-1, )\n",
    "    dist_idx = dist.argsort()\n",
    "    for classif in dist_idx:\n",
    "        if len(np.unique(class_ids)) < n:\n",
    "            try:\n",
    "                class_ids.append(df.loc[df['id_ученика'] == classif, 'Классификатор_услуги'].values[0])\n",
    "            except:\n",
    "                continue\n",
    "        else:\n",
    "            break\n",
    "    seen = set()\n",
    "    uniq = []\n",
    "    for x in class_ids:\n",
    "        if x not in seen:\n",
    "            uniq.append(x)\n",
    "            seen.add(x)\n",
    "    return uniq\n",
    "\n",
    "def get_krugki(ids: List[int]) -> List[int]:\n",
    "    kr = []\n",
    "    df_services_ = df_services.copy()\n",
    "    df_services_ = df_services_.loc[~df_services_.duplicated(['Классификатор_услуги', 'id_организации', 'Тип_расписания']), :]\n",
    "    df_services_ = df_services_.sort_values('Дата_создания', ascending=False)\n",
    "    for i in ids:\n",
    "        kr.append(df_services_.loc[(df_services_['Дата_создания'] > '2016-01-01') & (df_services_['Классификатор_услуги'] == i), 'id_услуги'].values.reshape(-1, )[0])\n",
    "    return kr"
   ]
  },
  {
   "cell_type": "code",
   "execution_count": 194,
   "metadata": {},
   "outputs": [
    {
     "name": "stdout",
     "output_type": "stream",
     "text": [
      "CPU times: user 5.33 s, sys: 35.6 ms, total: 5.36 s\n",
      "Wall time: 5.36 s\n"
     ]
    },
    {
     "data": {
      "text/plain": [
       "[3220102, 3003038, 3220101, 3003217]"
      ]
     },
     "execution_count": 194,
     "metadata": {},
     "output_type": "execute_result"
    }
   ],
   "source": [
    "%%time\n",
    "ids = get_predicts(1, 4)\n",
    "ids"
   ]
  },
  {
   "cell_type": "code",
   "execution_count": 195,
   "metadata": {},
   "outputs": [
    {
     "data": {
      "text/plain": [
       "[1243257, 574257, 1104931, 1167667]"
      ]
     },
     "execution_count": 195,
     "metadata": {},
     "output_type": "execute_result"
    }
   ],
   "source": [
    "kids = get_krugki(ids)\n",
    "kids"
   ]
  },
  {
   "cell_type": "code",
   "execution_count": 196,
   "metadata": {},
   "outputs": [
    {
     "data": {
      "text/html": [
       "<div>\n",
       "<style scoped>\n",
       "    .dataframe tbody tr th:only-of-type {\n",
       "        vertical-align: middle;\n",
       "    }\n",
       "\n",
       "    .dataframe tbody tr th {\n",
       "        vertical-align: top;\n",
       "    }\n",
       "\n",
       "    .dataframe thead th {\n",
       "        text-align: right;\n",
       "    }\n",
       "</style>\n",
       "<table border=\"1\" class=\"dataframe\">\n",
       "  <thead>\n",
       "    <tr style=\"text-align: right;\">\n",
       "      <th></th>\n",
       "      <th>id_услуги</th>\n",
       "      <th>Тип_финансирования</th>\n",
       "      <th>Классификатор_услуги</th>\n",
       "      <th>id_организации</th>\n",
       "      <th>Тип_расписания</th>\n",
       "      <th>Наименование_услуги</th>\n",
       "      <th>Дата_создания</th>\n",
       "      <th>длительность_обучения</th>\n",
       "      <th>единица_длительности</th>\n",
       "    </tr>\n",
       "  </thead>\n",
       "  <tbody>\n",
       "    <tr>\n",
       "      <th>447</th>\n",
       "      <td>574257</td>\n",
       "      <td>платно</td>\n",
       "      <td>3003038</td>\n",
       "      <td>10876</td>\n",
       "      <td>Общее</td>\n",
       "      <td>Яркие краски скрапбукинга</td>\n",
       "      <td>2018-08-16 16:07:35</td>\n",
       "      <td>3</td>\n",
       "      <td>месяцев</td>\n",
       "    </tr>\n",
       "    <tr>\n",
       "      <th>3544</th>\n",
       "      <td>1167667</td>\n",
       "      <td>платно</td>\n",
       "      <td>3003217</td>\n",
       "      <td>10898</td>\n",
       "      <td>Общее</td>\n",
       "      <td>Театр детской песни \"Светлячок\" (2020/2021)</td>\n",
       "      <td>2020-04-09 15:08:48</td>\n",
       "      <td>1</td>\n",
       "      <td>лет</td>\n",
       "    </tr>\n",
       "    <tr>\n",
       "      <th>17454</th>\n",
       "      <td>1104931</td>\n",
       "      <td>платно</td>\n",
       "      <td>3220101</td>\n",
       "      <td>10893</td>\n",
       "      <td>Общее</td>\n",
       "      <td>студия \"Сольфеджио\"</td>\n",
       "      <td>2020-08-13 17:56:51</td>\n",
       "      <td>1</td>\n",
       "      <td>лет</td>\n",
       "    </tr>\n",
       "    <tr>\n",
       "      <th>18236</th>\n",
       "      <td>1243257</td>\n",
       "      <td>платно</td>\n",
       "      <td>3220102</td>\n",
       "      <td>107</td>\n",
       "      <td>Общее</td>\n",
       "      <td>уровень I</td>\n",
       "      <td>2020-09-25 11:29:02</td>\n",
       "      <td>3</td>\n",
       "      <td>лет</td>\n",
       "    </tr>\n",
       "  </tbody>\n",
       "</table>\n",
       "</div>"
      ],
      "text/plain": [
       "       id_услуги Тип_финансирования  Классификатор_услуги  id_организации  \\\n",
       "447       574257             платно               3003038           10876   \n",
       "3544     1167667             платно               3003217           10898   \n",
       "17454    1104931             платно               3220101           10893   \n",
       "18236    1243257             платно               3220102             107   \n",
       "\n",
       "      Тип_расписания                          Наименование_услуги  \\\n",
       "447            Общее                    Яркие краски скрапбукинга   \n",
       "3544           Общее  Театр детской песни \"Светлячок\" (2020/2021)   \n",
       "17454          Общее                          студия \"Сольфеджио\"   \n",
       "18236          Общее                                    уровень I   \n",
       "\n",
       "             Дата_создания  длительность_обучения единица_длительности  \n",
       "447    2018-08-16 16:07:35                      3              месяцев  \n",
       "3544   2020-04-09 15:08:48                      1                  лет  \n",
       "17454  2020-08-13 17:56:51                      1                  лет  \n",
       "18236  2020-09-25 11:29:02                      3                  лет  "
      ]
     },
     "execution_count": 196,
     "metadata": {},
     "output_type": "execute_result"
    }
   ],
   "source": [
    "df_services[df_services['id_услуги'].isin(kids)]"
   ]
  },
  {
   "cell_type": "code",
   "execution_count": 193,
   "metadata": {},
   "outputs": [
    {
     "data": {
      "text/html": [
       "<div>\n",
       "<style scoped>\n",
       "    .dataframe tbody tr th:only-of-type {\n",
       "        vertical-align: middle;\n",
       "    }\n",
       "\n",
       "    .dataframe tbody tr th {\n",
       "        vertical-align: top;\n",
       "    }\n",
       "\n",
       "    .dataframe thead th {\n",
       "        text-align: right;\n",
       "    }\n",
       "</style>\n",
       "<table border=\"1\" class=\"dataframe\">\n",
       "  <thead>\n",
       "    <tr style=\"text-align: right;\">\n",
       "      <th></th>\n",
       "      <th>id_услуги</th>\n",
       "      <th>Тип_финансирования</th>\n",
       "      <th>Классификатор_услуги</th>\n",
       "      <th>id_организации</th>\n",
       "      <th>Тип_расписания</th>\n",
       "      <th>Наименование_услуги</th>\n",
       "      <th>Дата_создания</th>\n",
       "      <th>длительность_обучения</th>\n",
       "      <th>единица_длительности</th>\n",
       "    </tr>\n",
       "  </thead>\n",
       "  <tbody>\n",
       "    <tr>\n",
       "      <th>8078</th>\n",
       "      <td>1231080</td>\n",
       "      <td>платно</td>\n",
       "      <td>3003373</td>\n",
       "      <td>10848</td>\n",
       "      <td>Общее</td>\n",
       "      <td>Студия акробатики «ACRO-MIX»</td>\n",
       "      <td>2020-09-22 12:24:17</td>\n",
       "      <td>1</td>\n",
       "      <td>лет</td>\n",
       "    </tr>\n",
       "    <tr>\n",
       "      <th>8262</th>\n",
       "      <td>1225449</td>\n",
       "      <td>платно</td>\n",
       "      <td>3003379</td>\n",
       "      <td>10878</td>\n",
       "      <td>Общее</td>\n",
       "      <td>Студия бальных танцев \"DanceGroup\"</td>\n",
       "      <td>2020-09-20 16:11:06</td>\n",
       "      <td>1</td>\n",
       "      <td>лет</td>\n",
       "    </tr>\n",
       "    <tr>\n",
       "      <th>16535</th>\n",
       "      <td>1242176</td>\n",
       "      <td>бесплатно</td>\n",
       "      <td>3210300</td>\n",
       "      <td>128</td>\n",
       "      <td>Общее</td>\n",
       "      <td>Живопись</td>\n",
       "      <td>2020-09-24 22:17:37</td>\n",
       "      <td>5</td>\n",
       "      <td>лет</td>\n",
       "    </tr>\n",
       "    <tr>\n",
       "      <th>16664</th>\n",
       "      <td>1068517</td>\n",
       "      <td>бесплатно</td>\n",
       "      <td>3210600</td>\n",
       "      <td>23028</td>\n",
       "      <td>Общее</td>\n",
       "      <td>Арт-лаборатория «Куклы-актёры»_20</td>\n",
       "      <td>2020-06-26 11:55:13</td>\n",
       "      <td>1</td>\n",
       "      <td>лет</td>\n",
       "    </tr>\n",
       "  </tbody>\n",
       "</table>\n",
       "</div>"
      ],
      "text/plain": [
       "       id_услуги Тип_финансирования  Классификатор_услуги  id_организации  \\\n",
       "8078     1231080             платно               3003373           10848   \n",
       "8262     1225449             платно               3003379           10878   \n",
       "16535    1242176          бесплатно               3210300             128   \n",
       "16664    1068517          бесплатно               3210600           23028   \n",
       "\n",
       "      Тип_расписания                 Наименование_услуги        Дата_создания  \\\n",
       "8078           Общее        Студия акробатики «ACRO-MIX»  2020-09-22 12:24:17   \n",
       "8262           Общее  Студия бальных танцев \"DanceGroup\"  2020-09-20 16:11:06   \n",
       "16535          Общее                            Живопись  2020-09-24 22:17:37   \n",
       "16664          Общее   Арт-лаборатория «Куклы-актёры»_20  2020-06-26 11:55:13   \n",
       "\n",
       "       длительность_обучения единица_длительности  \n",
       "8078                       1                  лет  \n",
       "8262                       1                  лет  \n",
       "16535                      5                  лет  \n",
       "16664                      1                  лет  "
      ]
     },
     "execution_count": 193,
     "metadata": {},
     "output_type": "execute_result"
    }
   ],
   "source": [
    "df_services[df_services['id_услуги'].isin(kids)]"
   ]
  },
  {
   "cell_type": "code",
   "execution_count": 164,
   "metadata": {},
   "outputs": [
    {
     "data": {
      "text/plain": [
       "[1084600, 921039, 1243257, 1250417]"
      ]
     },
     "execution_count": 164,
     "metadata": {},
     "output_type": "execute_result"
    }
   ],
   "source": [
    "kids = get_krugki(ids)\n",
    "kids"
   ]
  },
  {
   "cell_type": "code",
   "execution_count": 181,
   "metadata": {},
   "outputs": [
    {
     "data": {
      "text/html": [
       "<div>\n",
       "<style scoped>\n",
       "    .dataframe tbody tr th:only-of-type {\n",
       "        vertical-align: middle;\n",
       "    }\n",
       "\n",
       "    .dataframe tbody tr th {\n",
       "        vertical-align: top;\n",
       "    }\n",
       "\n",
       "    .dataframe thead th {\n",
       "        text-align: right;\n",
       "    }\n",
       "</style>\n",
       "<table border=\"1\" class=\"dataframe\">\n",
       "  <thead>\n",
       "    <tr style=\"text-align: right;\">\n",
       "      <th></th>\n",
       "      <th>id_услуги</th>\n",
       "      <th>Тип_финансирования</th>\n",
       "      <th>Классификатор_услуги</th>\n",
       "      <th>id_организации</th>\n",
       "      <th>Тип_расписания</th>\n",
       "      <th>Наименование_услуги</th>\n",
       "      <th>Дата_создания</th>\n",
       "      <th>длительность_обучения</th>\n",
       "      <th>единица_длительности</th>\n",
       "    </tr>\n",
       "  </thead>\n",
       "  <tbody>\n",
       "    <tr>\n",
       "      <th>447</th>\n",
       "      <td>574257</td>\n",
       "      <td>платно</td>\n",
       "      <td>3003038</td>\n",
       "      <td>10876</td>\n",
       "      <td>Общее</td>\n",
       "      <td>Яркие краски скрапбукинга</td>\n",
       "      <td>2018-08-16 16:07:35</td>\n",
       "      <td>3</td>\n",
       "      <td>месяцев</td>\n",
       "    </tr>\n",
       "    <tr>\n",
       "      <th>3544</th>\n",
       "      <td>1167667</td>\n",
       "      <td>платно</td>\n",
       "      <td>3003217</td>\n",
       "      <td>10898</td>\n",
       "      <td>Общее</td>\n",
       "      <td>Театр детской песни \"Светлячок\" (2020/2021)</td>\n",
       "      <td>2020-04-09 15:08:48</td>\n",
       "      <td>1</td>\n",
       "      <td>лет</td>\n",
       "    </tr>\n",
       "    <tr>\n",
       "      <th>16664</th>\n",
       "      <td>1068517</td>\n",
       "      <td>бесплатно</td>\n",
       "      <td>3210600</td>\n",
       "      <td>23028</td>\n",
       "      <td>Общее</td>\n",
       "      <td>Арт-лаборатория «Куклы-актёры»_20</td>\n",
       "      <td>2020-06-26 11:55:13</td>\n",
       "      <td>1</td>\n",
       "      <td>лет</td>\n",
       "    </tr>\n",
       "    <tr>\n",
       "      <th>17454</th>\n",
       "      <td>1104931</td>\n",
       "      <td>платно</td>\n",
       "      <td>3220101</td>\n",
       "      <td>10893</td>\n",
       "      <td>Общее</td>\n",
       "      <td>студия \"Сольфеджио\"</td>\n",
       "      <td>2020-08-13 17:56:51</td>\n",
       "      <td>1</td>\n",
       "      <td>лет</td>\n",
       "    </tr>\n",
       "    <tr>\n",
       "      <th>18236</th>\n",
       "      <td>1243257</td>\n",
       "      <td>платно</td>\n",
       "      <td>3220102</td>\n",
       "      <td>107</td>\n",
       "      <td>Общее</td>\n",
       "      <td>уровень I</td>\n",
       "      <td>2020-09-25 11:29:02</td>\n",
       "      <td>3</td>\n",
       "      <td>лет</td>\n",
       "    </tr>\n",
       "  </tbody>\n",
       "</table>\n",
       "</div>"
      ],
      "text/plain": [
       "       id_услуги Тип_финансирования  Классификатор_услуги  id_организации  \\\n",
       "447       574257             платно               3003038           10876   \n",
       "3544     1167667             платно               3003217           10898   \n",
       "16664    1068517          бесплатно               3210600           23028   \n",
       "17454    1104931             платно               3220101           10893   \n",
       "18236    1243257             платно               3220102             107   \n",
       "\n",
       "      Тип_расписания                          Наименование_услуги  \\\n",
       "447            Общее                    Яркие краски скрапбукинга   \n",
       "3544           Общее  Театр детской песни \"Светлячок\" (2020/2021)   \n",
       "16664          Общее            Арт-лаборатория «Куклы-актёры»_20   \n",
       "17454          Общее                          студия \"Сольфеджио\"   \n",
       "18236          Общее                                    уровень I   \n",
       "\n",
       "             Дата_создания  длительность_обучения единица_длительности  \n",
       "447    2018-08-16 16:07:35                      3              месяцев  \n",
       "3544   2020-04-09 15:08:48                      1                  лет  \n",
       "16664  2020-06-26 11:55:13                      1                  лет  \n",
       "17454  2020-08-13 17:56:51                      1                  лет  \n",
       "18236  2020-09-25 11:29:02                      3                  лет  "
      ]
     },
     "execution_count": 181,
     "metadata": {},
     "output_type": "execute_result"
    }
   ],
   "source": [
    "df_services[df_services['id_услуги'].isin(kids)]"
   ]
  }
 ],
 "metadata": {
  "kernelspec": {
   "display_name": "Python 3",
   "language": "python",
   "name": "python3"
  },
  "language_info": {
   "codemirror_mode": {
    "name": "ipython",
    "version": 3
   },
   "file_extension": ".py",
   "mimetype": "text/x-python",
   "name": "python",
   "nbconvert_exporter": "python",
   "pygments_lexer": "ipython3",
   "version": "3.7.4"
  },
  "toc": {
   "base_numbering": 1,
   "nav_menu": {},
   "number_sections": true,
   "sideBar": true,
   "skip_h1_title": false,
   "title_cell": "Table of Contents",
   "title_sidebar": "Contents",
   "toc_cell": false,
   "toc_position": {},
   "toc_section_display": true,
   "toc_window_display": false
  },
  "varInspector": {
   "cols": {
    "lenName": 16,
    "lenType": 16,
    "lenVar": 40
   },
   "kernels_config": {
    "python": {
     "delete_cmd_postfix": "",
     "delete_cmd_prefix": "del ",
     "library": "var_list.py",
     "varRefreshCmd": "print(var_dic_list())"
    },
    "r": {
     "delete_cmd_postfix": ") ",
     "delete_cmd_prefix": "rm(",
     "library": "var_list.r",
     "varRefreshCmd": "cat(var_dic_list()) "
    }
   },
   "types_to_exclude": [
    "module",
    "function",
    "builtin_function_or_method",
    "instance",
    "_Feature"
   ],
   "window_display": false
  }
 },
 "nbformat": 4,
 "nbformat_minor": 4
}
