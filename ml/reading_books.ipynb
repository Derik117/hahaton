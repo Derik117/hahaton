{
 "cells": [
  {
   "cell_type": "code",
   "execution_count": 1,
   "metadata": {
    "ExecuteTime": {
     "end_time": "2020-10-30T18:30:29.411005Z",
     "start_time": "2020-10-30T18:30:28.904950Z"
    }
   },
   "outputs": [
    {
     "name": "stdout",
     "output_type": "stream",
     "text": [
      "INFO: Pandarallel will run on 8 workers.\n",
      "INFO: Pandarallel will use Memory file system to transfer data between the main process and workers.\n"
     ]
    }
   ],
   "source": [
    "import pandas as pd\n",
    "import numpy as np\n",
    "import seaborn as sns\n",
    "import matplotlib.pyplot as plt\n",
    "from datetime import date\n",
    "\n",
    "from pandarallel import pandarallel\n",
    "pandarallel.initialize()"
   ]
  },
  {
   "cell_type": "markdown",
   "metadata": {},
   "source": [
    "# Читатели"
   ]
  },
  {
   "cell_type": "code",
   "execution_count": 2,
   "metadata": {
    "ExecuteTime": {
     "end_time": "2020-10-30T18:30:44.222847Z",
     "start_time": "2020-10-30T18:30:29.412593Z"
    }
   },
   "outputs": [
    {
     "name": "stdout",
     "output_type": "stream",
     "text": [
      "(562133, 2)\n"
     ]
    },
    {
     "data": {
      "text/html": [
       "<div>\n",
       "<style scoped>\n",
       "    .dataframe tbody tr th:only-of-type {\n",
       "        vertical-align: middle;\n",
       "    }\n",
       "\n",
       "    .dataframe tbody tr th {\n",
       "        vertical-align: top;\n",
       "    }\n",
       "\n",
       "    .dataframe thead th {\n",
       "        text-align: right;\n",
       "    }\n",
       "</style>\n",
       "<table border=\"1\" class=\"dataframe\">\n",
       "  <thead>\n",
       "    <tr style=\"text-align: right;\">\n",
       "      <th></th>\n",
       "      <th>ID читателя</th>\n",
       "      <th>Дата рождения</th>\n",
       "    </tr>\n",
       "  </thead>\n",
       "  <tbody>\n",
       "    <tr>\n",
       "      <th>0</th>\n",
       "      <td>366670</td>\n",
       "      <td>1974-10-14 00:00:00</td>\n",
       "    </tr>\n",
       "    <tr>\n",
       "      <th>1</th>\n",
       "      <td>235264</td>\n",
       "      <td>1978-06-01 00:00:00</td>\n",
       "    </tr>\n",
       "    <tr>\n",
       "      <th>2</th>\n",
       "      <td>133225</td>\n",
       "      <td>1976-01-06 00:00:00</td>\n",
       "    </tr>\n",
       "    <tr>\n",
       "      <th>3</th>\n",
       "      <td>556716</td>\n",
       "      <td>1989-01-28 00:00:00</td>\n",
       "    </tr>\n",
       "    <tr>\n",
       "      <th>4</th>\n",
       "      <td>52086</td>\n",
       "      <td>1955-08-14 00:00:00</td>\n",
       "    </tr>\n",
       "  </tbody>\n",
       "</table>\n",
       "</div>"
      ],
      "text/plain": [
       "   ID читателя        Дата рождения\n",
       "0       366670  1974-10-14 00:00:00\n",
       "1       235264  1978-06-01 00:00:00\n",
       "2       133225  1976-01-06 00:00:00\n",
       "3       556716  1989-01-28 00:00:00\n",
       "4        52086  1955-08-14 00:00:00"
      ]
     },
     "execution_count": 2,
     "metadata": {},
     "output_type": "execute_result"
    }
   ],
   "source": [
    "readers = pd.read_excel('Читатели.xlsx')\n",
    "print(readers.shape)\n",
    "readers.head()"
   ]
  },
  {
   "cell_type": "code",
   "execution_count": 3,
   "metadata": {
    "ExecuteTime": {
     "end_time": "2020-10-30T18:30:44.236753Z",
     "start_time": "2020-10-30T18:30:44.224067Z"
    }
   },
   "outputs": [],
   "source": [
    "readers = readers.rename(columns={'Дата рождения': 'birth_day',\n",
    "                        'ID читателя': 'reader_id'})"
   ]
  },
  {
   "cell_type": "code",
   "execution_count": null,
   "metadata": {},
   "outputs": [],
   "source": [
    "readers"
   ]
  },
  {
   "cell_type": "code",
   "execution_count": 4,
   "metadata": {
    "ExecuteTime": {
     "end_time": "2020-10-30T18:30:44.241627Z",
     "start_time": "2020-10-30T18:30:44.238106Z"
    }
   },
   "outputs": [
    {
     "data": {
      "text/plain": [
       "0         1974-10-14 00:00:00\n",
       "1         1978-06-01 00:00:00\n",
       "2         1976-01-06 00:00:00\n",
       "3         1989-01-28 00:00:00\n",
       "4         1955-08-14 00:00:00\n",
       "                 ...         \n",
       "562128    1981-03-08 00:00:00\n",
       "562129    2009-07-07 00:00:00\n",
       "562130    2005-07-28 00:00:00\n",
       "562131    2011-11-12 00:00:00\n",
       "562132    1982-11-26 00:00:00\n",
       "Name: birth_day, Length: 562133, dtype: object"
      ]
     },
     "execution_count": 4,
     "metadata": {},
     "output_type": "execute_result"
    }
   ],
   "source": [
    "readers['birth_day']"
   ]
  },
  {
   "cell_type": "code",
   "execution_count": 5,
   "metadata": {
    "ExecuteTime": {
     "end_time": "2020-10-30T18:30:44.245515Z",
     "start_time": "2020-10-30T18:30:44.242808Z"
    }
   },
   "outputs": [],
   "source": [
    "def to_datetime(x):\n",
    "    try:\n",
    "        return pd.to_datetime(str(x).strip(), format='%Y-%m-%d %H:%M:%S')\n",
    "    except:\n",
    "        try:\n",
    "            return pd.to_datetime(str(x).strip(), format='%Y-%m-%d')\n",
    "        except:\n",
    "            return pd.to_datetime('2005-06-23 00:00:00', format='%Y-%m-%d')"
   ]
  },
  {
   "cell_type": "code",
   "execution_count": 6,
   "metadata": {
    "ExecuteTime": {
     "end_time": "2020-10-30T18:31:30.225068Z",
     "start_time": "2020-10-30T18:30:44.246677Z"
    },
    "scrolled": true
   },
   "outputs": [],
   "source": [
    "readers['birth_day'] = readers['birth_day'].parallel_apply(lambda x: to_datetime(x))"
   ]
  },
  {
   "cell_type": "code",
   "execution_count": 38,
   "metadata": {
    "ExecuteTime": {
     "end_time": "2020-10-30T18:40:19.122219Z",
     "start_time": "2020-10-30T18:40:16.526439Z"
    },
    "scrolled": true
   },
   "outputs": [],
   "source": [
    "today = pd.to_datetime('2020-10-31 00:00:00', format='%Y-%m-%d %H:%M:%S')\n",
    "\n",
    "readers['age'] = readers['birth_day'].parallel_apply(lambda x: today - x)\n",
    "readers['age'] = readers['age'].astype(int) / 10**9 / 60 / 60 / 24 / 365"
   ]
  },
  {
   "cell_type": "code",
   "execution_count": 137,
   "metadata": {
    "ExecuteTime": {
     "end_time": "2020-10-30T20:48:37.268253Z",
     "start_time": "2020-10-30T20:48:37.190353Z"
    }
   },
   "outputs": [
    {
     "data": {
      "text/html": [
       "<div>\n",
       "<style scoped>\n",
       "    .dataframe tbody tr th:only-of-type {\n",
       "        vertical-align: middle;\n",
       "    }\n",
       "\n",
       "    .dataframe tbody tr th {\n",
       "        vertical-align: top;\n",
       "    }\n",
       "\n",
       "    .dataframe thead th {\n",
       "        text-align: right;\n",
       "    }\n",
       "</style>\n",
       "<table border=\"1\" class=\"dataframe\">\n",
       "  <thead>\n",
       "    <tr style=\"text-align: right;\">\n",
       "      <th></th>\n",
       "      <th>reader_id</th>\n",
       "      <th>birth_day</th>\n",
       "      <th>age</th>\n",
       "    </tr>\n",
       "  </thead>\n",
       "  <tbody>\n",
       "    <tr>\n",
       "      <th>0</th>\n",
       "      <td>366670</td>\n",
       "      <td>1974-10-14</td>\n",
       "      <td>46.079452</td>\n",
       "    </tr>\n",
       "    <tr>\n",
       "      <th>1</th>\n",
       "      <td>235264</td>\n",
       "      <td>1978-06-01</td>\n",
       "      <td>42.446575</td>\n",
       "    </tr>\n",
       "    <tr>\n",
       "      <th>2</th>\n",
       "      <td>133225</td>\n",
       "      <td>1976-01-06</td>\n",
       "      <td>44.849315</td>\n",
       "    </tr>\n",
       "    <tr>\n",
       "      <th>3</th>\n",
       "      <td>556716</td>\n",
       "      <td>1989-01-28</td>\n",
       "      <td>31.778082</td>\n",
       "    </tr>\n",
       "    <tr>\n",
       "      <th>4</th>\n",
       "      <td>52086</td>\n",
       "      <td>1955-08-14</td>\n",
       "      <td>65.260274</td>\n",
       "    </tr>\n",
       "    <tr>\n",
       "      <th>...</th>\n",
       "      <td>...</td>\n",
       "      <td>...</td>\n",
       "      <td>...</td>\n",
       "    </tr>\n",
       "    <tr>\n",
       "      <th>562128</th>\n",
       "      <td>554754</td>\n",
       "      <td>1981-03-08</td>\n",
       "      <td>39.676712</td>\n",
       "    </tr>\n",
       "    <tr>\n",
       "      <th>562129</th>\n",
       "      <td>405813</td>\n",
       "      <td>2009-07-07</td>\n",
       "      <td>11.326027</td>\n",
       "    </tr>\n",
       "    <tr>\n",
       "      <th>562130</th>\n",
       "      <td>534901</td>\n",
       "      <td>2005-07-28</td>\n",
       "      <td>15.271233</td>\n",
       "    </tr>\n",
       "    <tr>\n",
       "      <th>562131</th>\n",
       "      <td>50142</td>\n",
       "      <td>2011-11-12</td>\n",
       "      <td>8.975342</td>\n",
       "    </tr>\n",
       "    <tr>\n",
       "      <th>562132</th>\n",
       "      <td>554755</td>\n",
       "      <td>1982-11-26</td>\n",
       "      <td>37.956164</td>\n",
       "    </tr>\n",
       "  </tbody>\n",
       "</table>\n",
       "<p>562133 rows × 3 columns</p>\n",
       "</div>"
      ],
      "text/plain": [
       "        reader_id  birth_day        age\n",
       "0          366670 1974-10-14  46.079452\n",
       "1          235264 1978-06-01  42.446575\n",
       "2          133225 1976-01-06  44.849315\n",
       "3          556716 1989-01-28  31.778082\n",
       "4           52086 1955-08-14  65.260274\n",
       "...           ...        ...        ...\n",
       "562128     554754 1981-03-08  39.676712\n",
       "562129     405813 2009-07-07  11.326027\n",
       "562130     534901 2005-07-28  15.271233\n",
       "562131      50142 2011-11-12   8.975342\n",
       "562132     554755 1982-11-26  37.956164\n",
       "\n",
       "[562133 rows x 3 columns]"
      ]
     },
     "execution_count": 137,
     "metadata": {},
     "output_type": "execute_result"
    }
   ],
   "source": [
    "readers = readers.drop_duplicates().reset_index(drop=True)\n",
    "readers"
   ]
  },
  {
   "cell_type": "code",
   "execution_count": 138,
   "metadata": {
    "ExecuteTime": {
     "end_time": "2020-10-30T20:48:37.778275Z",
     "start_time": "2020-10-30T20:48:37.270181Z"
    }
   },
   "outputs": [
    {
     "data": {
      "text/plain": [
       "<matplotlib.axes._subplots.AxesSubplot at 0x7fb79513ccf8>"
      ]
     },
     "execution_count": 138,
     "metadata": {},
     "output_type": "execute_result"
    },
    {
     "data": {
      "image/png": "[encoded data removed]",
      "text/plain": [
       "<Figure size 432x288 with 1 Axes>"
      ]
     },
     "metadata": {
      "needs_background": "light"
     },
     "output_type": "display_data"
    }
   ],
   "source": [
    "sns.distplot(readers['age'].astype(int))"
   ]
  },
  {
   "cell_type": "code",
   "execution_count": 139,
   "metadata": {
    "ExecuteTime": {
     "end_time": "2020-10-30T20:48:37.785371Z",
     "start_time": "2020-10-30T20:48:37.779741Z"
    }
   },
   "outputs": [
    {
     "data": {
      "text/html": [
       "<div>\n",
       "<style scoped>\n",
       "    .dataframe tbody tr th:only-of-type {\n",
       "        vertical-align: middle;\n",
       "    }\n",
       "\n",
       "    .dataframe tbody tr th {\n",
       "        vertical-align: top;\n",
       "    }\n",
       "\n",
       "    .dataframe thead th {\n",
       "        text-align: right;\n",
       "    }\n",
       "</style>\n",
       "<table border=\"1\" class=\"dataframe\">\n",
       "  <thead>\n",
       "    <tr style=\"text-align: right;\">\n",
       "      <th></th>\n",
       "      <th>reader_id</th>\n",
       "      <th>birth_day</th>\n",
       "      <th>age</th>\n",
       "    </tr>\n",
       "  </thead>\n",
       "  <tbody>\n",
       "    <tr>\n",
       "      <th>0</th>\n",
       "      <td>366670</td>\n",
       "      <td>1974-10-14</td>\n",
       "      <td>46.079452</td>\n",
       "    </tr>\n",
       "    <tr>\n",
       "      <th>1</th>\n",
       "      <td>235264</td>\n",
       "      <td>1978-06-01</td>\n",
       "      <td>42.446575</td>\n",
       "    </tr>\n",
       "    <tr>\n",
       "      <th>2</th>\n",
       "      <td>133225</td>\n",
       "      <td>1976-01-06</td>\n",
       "      <td>44.849315</td>\n",
       "    </tr>\n",
       "    <tr>\n",
       "      <th>3</th>\n",
       "      <td>556716</td>\n",
       "      <td>1989-01-28</td>\n",
       "      <td>31.778082</td>\n",
       "    </tr>\n",
       "    <tr>\n",
       "      <th>4</th>\n",
       "      <td>52086</td>\n",
       "      <td>1955-08-14</td>\n",
       "      <td>65.260274</td>\n",
       "    </tr>\n",
       "  </tbody>\n",
       "</table>\n",
       "</div>"
      ],
      "text/plain": [
       "   reader_id  birth_day        age\n",
       "0     366670 1974-10-14  46.079452\n",
       "1     235264 1978-06-01  42.446575\n",
       "2     133225 1976-01-06  44.849315\n",
       "3     556716 1989-01-28  31.778082\n",
       "4      52086 1955-08-14  65.260274"
      ]
     },
     "execution_count": 139,
     "metadata": {},
     "output_type": "execute_result"
    }
   ],
   "source": [
    "readers.head()"
   ]
  },
  {
   "cell_type": "code",
   "execution_count": 140,
   "metadata": {
    "ExecuteTime": {
     "end_time": "2020-10-30T20:48:39.591464Z",
     "start_time": "2020-10-30T20:48:37.786866Z"
    }
   },
   "outputs": [],
   "source": [
    "readers.to_csv('readers.csv', index=False)"
   ]
  },
  {
   "cell_type": "markdown",
   "metadata": {},
   "source": [
    "# Каталог"
   ]
  },
  {
   "cell_type": "code",
   "execution_count": 85,
   "metadata": {
    "ExecuteTime": {
     "end_time": "2020-10-30T20:16:57.093141Z",
     "start_time": "2020-10-30T20:15:14.531267Z"
    }
   },
   "outputs": [
    {
     "name": "stdout",
     "output_type": "stream",
     "text": [
      "(1370881, 10)\n"
     ]
    },
    {
     "data": {
      "text/html": [
       "<div>\n",
       "<style scoped>\n",
       "    .dataframe tbody tr th:only-of-type {\n",
       "        vertical-align: middle;\n",
       "    }\n",
       "\n",
       "    .dataframe tbody tr th {\n",
       "        vertical-align: top;\n",
       "    }\n",
       "\n",
       "    .dataframe thead th {\n",
       "        text-align: right;\n",
       "    }\n",
       "</style>\n",
       "<table border=\"1\" class=\"dataframe\">\n",
       "  <thead>\n",
       "    <tr style=\"text-align: right;\">\n",
       "      <th></th>\n",
       "      <th>doc_id</th>\n",
       "      <th>p100a</th>\n",
       "      <th>p245a</th>\n",
       "      <th>p260a</th>\n",
       "      <th>p260b</th>\n",
       "      <th>p260c</th>\n",
       "      <th>p490a</th>\n",
       "      <th>p650a</th>\n",
       "      <th>p084a</th>\n",
       "      <th>p521a</th>\n",
       "    </tr>\n",
       "  </thead>\n",
       "  <tbody>\n",
       "    <tr>\n",
       "      <th>0</th>\n",
       "      <td>1</td>\n",
       "      <td>Устинова Татьяна Витальевна</td>\n",
       "      <td>Призрак Канта</td>\n",
       "      <td>Москва</td>\n",
       "      <td>Эксмо</td>\n",
       "      <td>2018</td>\n",
       "      <td>Татьяна Устинова. Первая среди лучших</td>\n",
       "      <td>Художественная литература ; Российский детектив</td>\n",
       "      <td>84(2Рос)6</td>\n",
       "      <td>16+</td>\n",
       "    </tr>\n",
       "    <tr>\n",
       "      <th>1</th>\n",
       "      <td>2</td>\n",
       "      <td>NaN</td>\n",
       "      <td>Наука и жизнь</td>\n",
       "      <td>Москва</td>\n",
       "      <td>АНО Редакция журнала «Наука и жизнь»</td>\n",
       "      <td>1938-</td>\n",
       "      <td>NaN</td>\n",
       "      <td>Наука. Науковедение</td>\n",
       "      <td>72</td>\n",
       "      <td>12+</td>\n",
       "    </tr>\n",
       "    <tr>\n",
       "      <th>2</th>\n",
       "      <td>3</td>\n",
       "      <td>NaN</td>\n",
       "      <td>Наука и жизнь</td>\n",
       "      <td>NaN</td>\n",
       "      <td>NaN</td>\n",
       "      <td>2018</td>\n",
       "      <td>NaN</td>\n",
       "      <td>Наука. Науковедение</td>\n",
       "      <td>72</td>\n",
       "      <td>12+</td>\n",
       "    </tr>\n",
       "    <tr>\n",
       "      <th>3</th>\n",
       "      <td>4</td>\n",
       "      <td>NaN</td>\n",
       "      <td>Наука и жизнь</td>\n",
       "      <td>NaN</td>\n",
       "      <td>NaN</td>\n",
       "      <td>2018</td>\n",
       "      <td>NaN</td>\n",
       "      <td>Наука. Науковедение</td>\n",
       "      <td>72</td>\n",
       "      <td>12+</td>\n",
       "    </tr>\n",
       "    <tr>\n",
       "      <th>4</th>\n",
       "      <td>5</td>\n",
       "      <td>NaN</td>\n",
       "      <td>Наука и жизнь</td>\n",
       "      <td>NaN</td>\n",
       "      <td>NaN</td>\n",
       "      <td>2018</td>\n",
       "      <td>NaN</td>\n",
       "      <td>Наука. Науковедение</td>\n",
       "      <td>72</td>\n",
       "      <td>12+</td>\n",
       "    </tr>\n",
       "  </tbody>\n",
       "</table>\n",
       "</div>"
      ],
      "text/plain": [
       "   doc_id                        p100a          p245a   p260a  \\\n",
       "0       1  Устинова Татьяна Витальевна  Призрак Канта  Москва   \n",
       "1       2                          NaN  Наука и жизнь  Москва   \n",
       "2       3                          NaN  Наука и жизнь     NaN   \n",
       "3       4                          NaN  Наука и жизнь     NaN   \n",
       "4       5                          NaN  Наука и жизнь     NaN   \n",
       "\n",
       "                                  p260b  p260c  \\\n",
       "0                                 Эксмо   2018   \n",
       "1  АНО Редакция журнала «Наука и жизнь»  1938-   \n",
       "2                                   NaN   2018   \n",
       "3                                   NaN   2018   \n",
       "4                                   NaN   2018   \n",
       "\n",
       "                                   p490a  \\\n",
       "0  Татьяна Устинова. Первая среди лучших   \n",
       "1                                    NaN   \n",
       "2                                    NaN   \n",
       "3                                    NaN   \n",
       "4                                    NaN   \n",
       "\n",
       "                                             p650a      p084a p521a  \n",
       "0  Художественная литература ; Российский детектив  84(2Рос)6   16+  \n",
       "1                              Наука. Науковедение         72   12+  \n",
       "2                              Наука. Науковедение         72   12+  \n",
       "3                              Наука. Науковедение         72   12+  \n",
       "4                              Наука. Науковедение         72   12+  "
      ]
     },
     "execution_count": 85,
     "metadata": {},
     "output_type": "execute_result"
    }
   ],
   "source": [
    "catalog = pd.ExcelFile('Каталог.xlsx')\n",
    "catalog = pd.concat([catalog.parse(sheet) for sheet in catalog.sheet_names]).reset_index(drop=True)\n",
    "print(catalog.shape)\n",
    "catalog.head()"
   ]
  },
  {
   "cell_type": "code",
   "execution_count": 86,
   "metadata": {
    "ExecuteTime": {
     "end_time": "2020-10-30T20:16:57.196253Z",
     "start_time": "2020-10-30T20:16:57.094436Z"
    }
   },
   "outputs": [
    {
     "data": {
      "text/html": [
       "<div>\n",
       "<style scoped>\n",
       "    .dataframe tbody tr th:only-of-type {\n",
       "        vertical-align: middle;\n",
       "    }\n",
       "\n",
       "    .dataframe tbody tr th {\n",
       "        vertical-align: top;\n",
       "    }\n",
       "\n",
       "    .dataframe thead th {\n",
       "        text-align: right;\n",
       "    }\n",
       "</style>\n",
       "<table border=\"1\" class=\"dataframe\">\n",
       "  <thead>\n",
       "    <tr style=\"text-align: right;\">\n",
       "      <th></th>\n",
       "      <th>doc_id</th>\n",
       "      <th>author</th>\n",
       "      <th>title</th>\n",
       "      <th>city</th>\n",
       "      <th>publisher</th>\n",
       "      <th>year</th>\n",
       "      <th>series</th>\n",
       "      <th>tags</th>\n",
       "      <th>article</th>\n",
       "      <th>age_rating</th>\n",
       "    </tr>\n",
       "  </thead>\n",
       "  <tbody>\n",
       "    <tr>\n",
       "      <th>0</th>\n",
       "      <td>1</td>\n",
       "      <td>Устинова Татьяна Витальевна</td>\n",
       "      <td>Призрак Канта</td>\n",
       "      <td>Москва</td>\n",
       "      <td>Эксмо</td>\n",
       "      <td>2018</td>\n",
       "      <td>Татьяна Устинова. Первая среди лучших</td>\n",
       "      <td>Художественная литература ; Российский детектив</td>\n",
       "      <td>84(2Рос)6</td>\n",
       "      <td>16+</td>\n",
       "    </tr>\n",
       "    <tr>\n",
       "      <th>1</th>\n",
       "      <td>2</td>\n",
       "      <td>NaN</td>\n",
       "      <td>Наука и жизнь</td>\n",
       "      <td>Москва</td>\n",
       "      <td>АНО Редакция журнала «Наука и жизнь»</td>\n",
       "      <td>1938-</td>\n",
       "      <td>NaN</td>\n",
       "      <td>Наука. Науковедение</td>\n",
       "      <td>72</td>\n",
       "      <td>12+</td>\n",
       "    </tr>\n",
       "    <tr>\n",
       "      <th>2</th>\n",
       "      <td>3</td>\n",
       "      <td>NaN</td>\n",
       "      <td>Наука и жизнь</td>\n",
       "      <td>NaN</td>\n",
       "      <td>NaN</td>\n",
       "      <td>2018</td>\n",
       "      <td>NaN</td>\n",
       "      <td>Наука. Науковедение</td>\n",
       "      <td>72</td>\n",
       "      <td>12+</td>\n",
       "    </tr>\n",
       "    <tr>\n",
       "      <th>3</th>\n",
       "      <td>4</td>\n",
       "      <td>NaN</td>\n",
       "      <td>Наука и жизнь</td>\n",
       "      <td>NaN</td>\n",
       "      <td>NaN</td>\n",
       "      <td>2018</td>\n",
       "      <td>NaN</td>\n",
       "      <td>Наука. Науковедение</td>\n",
       "      <td>72</td>\n",
       "      <td>12+</td>\n",
       "    </tr>\n",
       "    <tr>\n",
       "      <th>4</th>\n",
       "      <td>5</td>\n",
       "      <td>NaN</td>\n",
       "      <td>Наука и жизнь</td>\n",
       "      <td>NaN</td>\n",
       "      <td>NaN</td>\n",
       "      <td>2018</td>\n",
       "      <td>NaN</td>\n",
       "      <td>Наука. Науковедение</td>\n",
       "      <td>72</td>\n",
       "      <td>12+</td>\n",
       "    </tr>\n",
       "    <tr>\n",
       "      <th>...</th>\n",
       "      <td>...</td>\n",
       "      <td>...</td>\n",
       "      <td>...</td>\n",
       "      <td>...</td>\n",
       "      <td>...</td>\n",
       "      <td>...</td>\n",
       "      <td>...</td>\n",
       "      <td>...</td>\n",
       "      <td>...</td>\n",
       "      <td>...</td>\n",
       "    </tr>\n",
       "    <tr>\n",
       "      <th>1370876</th>\n",
       "      <td>1783623</td>\n",
       "      <td>NaN</td>\n",
       "      <td>Золотой век русской поэзии [Текст]</td>\n",
       "      <td>Москва</td>\n",
       "      <td>Олма Медиа Групп</td>\n",
       "      <td>2012</td>\n",
       "      <td>Классика в иллюстрациях</td>\n",
       "      <td>Художественная литература</td>\n",
       "      <td>84</td>\n",
       "      <td>NaN</td>\n",
       "    </tr>\n",
       "    <tr>\n",
       "      <th>1370877</th>\n",
       "      <td>1783624</td>\n",
       "      <td>NaN</td>\n",
       "      <td>Антология русского лиризма. XX век</td>\n",
       "      <td>Москва</td>\n",
       "      <td>Студия</td>\n",
       "      <td>2004-</td>\n",
       "      <td>NaN</td>\n",
       "      <td>Художественная литература ; Российская поэзия</td>\n",
       "      <td>84(2Рос=Рус)6</td>\n",
       "      <td>NaN</td>\n",
       "    </tr>\n",
       "    <tr>\n",
       "      <th>1370878</th>\n",
       "      <td>1783625</td>\n",
       "      <td>Кэрролл Льюис</td>\n",
       "      <td>Приключения Алисы</td>\n",
       "      <td>Москва</td>\n",
       "      <td>Эксмо</td>\n",
       "      <td>2014</td>\n",
       "      <td>NaN</td>\n",
       "      <td>Художественная литература ; Литература для дет...</td>\n",
       "      <td>84(4Вел)</td>\n",
       "      <td>12+</td>\n",
       "    </tr>\n",
       "    <tr>\n",
       "      <th>1370879</th>\n",
       "      <td>1783626</td>\n",
       "      <td>Барб-Галль Франсуаза</td>\n",
       "      <td>Шедевры мировой живописи. Как отличать, смотре...</td>\n",
       "      <td>Москва</td>\n",
       "      <td>Эксмо</td>\n",
       "      <td>2018</td>\n",
       "      <td>NaN</td>\n",
       "      <td>Живопись ; Искусство. Искусствоведение ; Истор...</td>\n",
       "      <td>85.14</td>\n",
       "      <td>12+</td>\n",
       "    </tr>\n",
       "    <tr>\n",
       "      <th>1370880</th>\n",
       "      <td>1783627</td>\n",
       "      <td>Немов Роберт Семенович</td>\n",
       "      <td>Психология</td>\n",
       "      <td>Москва</td>\n",
       "      <td>Владос-Пресс</td>\n",
       "      <td>2003</td>\n",
       "      <td>NaN</td>\n",
       "      <td>Психология</td>\n",
       "      <td>88я2</td>\n",
       "      <td>NaN</td>\n",
       "    </tr>\n",
       "  </tbody>\n",
       "</table>\n",
       "<p>1370881 rows × 10 columns</p>\n",
       "</div>"
      ],
      "text/plain": [
       "          doc_id                       author  \\\n",
       "0              1  Устинова Татьяна Витальевна   \n",
       "1              2                          NaN   \n",
       "2              3                          NaN   \n",
       "3              4                          NaN   \n",
       "4              5                          NaN   \n",
       "...          ...                          ...   \n",
       "1370876  1783623                          NaN   \n",
       "1370877  1783624                          NaN   \n",
       "1370878  1783625                Кэрролл Льюис   \n",
       "1370879  1783626         Барб-Галль Франсуаза   \n",
       "1370880  1783627       Немов Роберт Семенович   \n",
       "\n",
       "                                                     title    city  \\\n",
       "0                                            Призрак Канта  Москва   \n",
       "1                                            Наука и жизнь  Москва   \n",
       "2                                            Наука и жизнь     NaN   \n",
       "3                                            Наука и жизнь     NaN   \n",
       "4                                            Наука и жизнь     NaN   \n",
       "...                                                    ...     ...   \n",
       "1370876                 Золотой век русской поэзии [Текст]  Москва   \n",
       "1370877                 Антология русского лиризма. XX век  Москва   \n",
       "1370878                                  Приключения Алисы  Москва   \n",
       "1370879  Шедевры мировой живописи. Как отличать, смотре...  Москва   \n",
       "1370880                                         Психология  Москва   \n",
       "\n",
       "                                    publisher   year  \\\n",
       "0                                       Эксмо   2018   \n",
       "1        АНО Редакция журнала «Наука и жизнь»  1938-   \n",
       "2                                         NaN   2018   \n",
       "3                                         NaN   2018   \n",
       "4                                         NaN   2018   \n",
       "...                                       ...    ...   \n",
       "1370876                      Олма Медиа Групп   2012   \n",
       "1370877                                Студия  2004-   \n",
       "1370878                                 Эксмо   2014   \n",
       "1370879                                 Эксмо   2018   \n",
       "1370880                          Владос-Пресс   2003   \n",
       "\n",
       "                                        series  \\\n",
       "0        Татьяна Устинова. Первая среди лучших   \n",
       "1                                          NaN   \n",
       "2                                          NaN   \n",
       "3                                          NaN   \n",
       "4                                          NaN   \n",
       "...                                        ...   \n",
       "1370876                Классика в иллюстрациях   \n",
       "1370877                                    NaN   \n",
       "1370878                                    NaN   \n",
       "1370879                                    NaN   \n",
       "1370880                                    NaN   \n",
       "\n",
       "                                                      tags        article  \\\n",
       "0          Художественная литература ; Российский детектив      84(2Рос)6   \n",
       "1                                      Наука. Науковедение             72   \n",
       "2                                      Наука. Науковедение             72   \n",
       "3                                      Наука. Науковедение             72   \n",
       "4                                      Наука. Науковедение             72   \n",
       "...                                                    ...            ...   \n",
       "1370876                          Художественная литература             84   \n",
       "1370877      Художественная литература ; Российская поэзия  84(2Рос=Рус)6   \n",
       "1370878  Художественная литература ; Литература для дет...       84(4Вел)   \n",
       "1370879  Живопись ; Искусство. Искусствоведение ; Истор...          85.14   \n",
       "1370880                                         Психология           88я2   \n",
       "\n",
       "        age_rating  \n",
       "0              16+  \n",
       "1              12+  \n",
       "2              12+  \n",
       "3              12+  \n",
       "4              12+  \n",
       "...            ...  \n",
       "1370876        NaN  \n",
       "1370877        NaN  \n",
       "1370878        12+  \n",
       "1370879        12+  \n",
       "1370880        NaN  \n",
       "\n",
       "[1370881 rows x 10 columns]"
      ]
     },
     "execution_count": 86,
     "metadata": {},
     "output_type": "execute_result"
    }
   ],
   "source": [
    "catalog.rename(columns={'p100a': 'author',\n",
    "                        'p245a': 'title',\n",
    "                        'p260a': 'city',\n",
    "                        'p260b': 'publisher',\n",
    "                        'p260c': 'year',\n",
    "                        'p490a': 'series',\n",
    "                        'p650a': 'tags',\n",
    "                        'p084a': 'article',\n",
    "                        'p521a': 'age_rating'}, inplace=True)\n",
    "catalog = catalog.drop_duplicates().reset_index(drop=True)\n",
    "catalog"
   ]
  },
  {
   "cell_type": "code",
   "execution_count": 131,
   "metadata": {
    "ExecuteTime": {
     "end_time": "2020-10-30T20:48:30.883643Z",
     "start_time": "2020-10-30T20:48:29.650744Z"
    }
   },
   "outputs": [
    {
     "data": {
      "text/html": [
       "<div>\n",
       "<style scoped>\n",
       "    .dataframe tbody tr th:only-of-type {\n",
       "        vertical-align: middle;\n",
       "    }\n",
       "\n",
       "    .dataframe tbody tr th {\n",
       "        vertical-align: top;\n",
       "    }\n",
       "\n",
       "    .dataframe thead th {\n",
       "        text-align: right;\n",
       "    }\n",
       "</style>\n",
       "<table border=\"1\" class=\"dataframe\">\n",
       "  <thead>\n",
       "    <tr style=\"text-align: right;\">\n",
       "      <th></th>\n",
       "      <th>doc_id</th>\n",
       "      <th>author</th>\n",
       "      <th>title</th>\n",
       "      <th>city</th>\n",
       "      <th>publisher</th>\n",
       "      <th>year</th>\n",
       "      <th>series</th>\n",
       "      <th>tags</th>\n",
       "      <th>article</th>\n",
       "      <th>age_rating</th>\n",
       "    </tr>\n",
       "  </thead>\n",
       "  <tbody>\n",
       "    <tr>\n",
       "      <th>0</th>\n",
       "      <td>1</td>\n",
       "      <td>Устинова Татьяна Витальевна</td>\n",
       "      <td>Призрак Канта</td>\n",
       "      <td>Москва</td>\n",
       "      <td>Эксмо</td>\n",
       "      <td>2018</td>\n",
       "      <td>Татьяна Устинова. Первая среди лучших</td>\n",
       "      <td>Художественная литература ; Российский детектив</td>\n",
       "      <td>84(2Рос)6</td>\n",
       "      <td>16+</td>\n",
       "    </tr>\n",
       "    <tr>\n",
       "      <th>1</th>\n",
       "      <td>2</td>\n",
       "      <td>NaN</td>\n",
       "      <td>Наука и жизнь</td>\n",
       "      <td>Москва</td>\n",
       "      <td>АНО Редакция журнала «Наука и жизнь»</td>\n",
       "      <td>1938-</td>\n",
       "      <td>NaN</td>\n",
       "      <td>Наука. Науковедение</td>\n",
       "      <td>72</td>\n",
       "      <td>12+</td>\n",
       "    </tr>\n",
       "    <tr>\n",
       "      <th>2</th>\n",
       "      <td>3</td>\n",
       "      <td>NaN</td>\n",
       "      <td>Наука и жизнь</td>\n",
       "      <td>NaN</td>\n",
       "      <td>NaN</td>\n",
       "      <td>2018</td>\n",
       "      <td>NaN</td>\n",
       "      <td>Наука. Науковедение</td>\n",
       "      <td>72</td>\n",
       "      <td>12+</td>\n",
       "    </tr>\n",
       "    <tr>\n",
       "      <th>3</th>\n",
       "      <td>4</td>\n",
       "      <td>NaN</td>\n",
       "      <td>Наука и жизнь</td>\n",
       "      <td>NaN</td>\n",
       "      <td>NaN</td>\n",
       "      <td>2018</td>\n",
       "      <td>NaN</td>\n",
       "      <td>Наука. Науковедение</td>\n",
       "      <td>72</td>\n",
       "      <td>12+</td>\n",
       "    </tr>\n",
       "    <tr>\n",
       "      <th>4</th>\n",
       "      <td>5</td>\n",
       "      <td>NaN</td>\n",
       "      <td>Наука и жизнь</td>\n",
       "      <td>NaN</td>\n",
       "      <td>NaN</td>\n",
       "      <td>2018</td>\n",
       "      <td>NaN</td>\n",
       "      <td>Наука. Науковедение</td>\n",
       "      <td>72</td>\n",
       "      <td>12+</td>\n",
       "    </tr>\n",
       "    <tr>\n",
       "      <th>...</th>\n",
       "      <td>...</td>\n",
       "      <td>...</td>\n",
       "      <td>...</td>\n",
       "      <td>...</td>\n",
       "      <td>...</td>\n",
       "      <td>...</td>\n",
       "      <td>...</td>\n",
       "      <td>...</td>\n",
       "      <td>...</td>\n",
       "      <td>...</td>\n",
       "    </tr>\n",
       "    <tr>\n",
       "      <th>1370452</th>\n",
       "      <td>1783623</td>\n",
       "      <td>NaN</td>\n",
       "      <td>Золотой век русской поэзии [Текст]</td>\n",
       "      <td>Москва</td>\n",
       "      <td>Олма Медиа Групп</td>\n",
       "      <td>2012</td>\n",
       "      <td>Классика в иллюстрациях</td>\n",
       "      <td>Художественная литература</td>\n",
       "      <td>84</td>\n",
       "      <td>NaN</td>\n",
       "    </tr>\n",
       "    <tr>\n",
       "      <th>1370453</th>\n",
       "      <td>1783624</td>\n",
       "      <td>NaN</td>\n",
       "      <td>Антология русского лиризма. XX век</td>\n",
       "      <td>Москва</td>\n",
       "      <td>Студия</td>\n",
       "      <td>2004-</td>\n",
       "      <td>NaN</td>\n",
       "      <td>Художественная литература ; Российская поэзия</td>\n",
       "      <td>84(2Рос=Рус)6</td>\n",
       "      <td>NaN</td>\n",
       "    </tr>\n",
       "    <tr>\n",
       "      <th>1370454</th>\n",
       "      <td>1783625</td>\n",
       "      <td>Кэрролл Льюис</td>\n",
       "      <td>Приключения Алисы</td>\n",
       "      <td>Москва</td>\n",
       "      <td>Эксмо</td>\n",
       "      <td>2014</td>\n",
       "      <td>NaN</td>\n",
       "      <td>Художественная литература ; Литература для дет...</td>\n",
       "      <td>84(4Вел)</td>\n",
       "      <td>12+</td>\n",
       "    </tr>\n",
       "    <tr>\n",
       "      <th>1370455</th>\n",
       "      <td>1783626</td>\n",
       "      <td>Барб-Галль Франсуаза</td>\n",
       "      <td>Шедевры мировой живописи. Как отличать, смотре...</td>\n",
       "      <td>Москва</td>\n",
       "      <td>Эксмо</td>\n",
       "      <td>2018</td>\n",
       "      <td>NaN</td>\n",
       "      <td>Живопись ; Искусство. Искусствоведение ; Истор...</td>\n",
       "      <td>85.14</td>\n",
       "      <td>12+</td>\n",
       "    </tr>\n",
       "    <tr>\n",
       "      <th>1370456</th>\n",
       "      <td>1783627</td>\n",
       "      <td>Немов Роберт Семенович</td>\n",
       "      <td>Психология</td>\n",
       "      <td>Москва</td>\n",
       "      <td>Владос-Пресс</td>\n",
       "      <td>2003</td>\n",
       "      <td>NaN</td>\n",
       "      <td>Психология</td>\n",
       "      <td>88я2</td>\n",
       "      <td>NaN</td>\n",
       "    </tr>\n",
       "  </tbody>\n",
       "</table>\n",
       "<p>1370457 rows × 10 columns</p>\n",
       "</div>"
      ],
      "text/plain": [
       "          doc_id                       author  \\\n",
       "0              1  Устинова Татьяна Витальевна   \n",
       "1              2                          NaN   \n",
       "2              3                          NaN   \n",
       "3              4                          NaN   \n",
       "4              5                          NaN   \n",
       "...          ...                          ...   \n",
       "1370452  1783623                          NaN   \n",
       "1370453  1783624                          NaN   \n",
       "1370454  1783625                Кэрролл Льюис   \n",
       "1370455  1783626         Барб-Галль Франсуаза   \n",
       "1370456  1783627       Немов Роберт Семенович   \n",
       "\n",
       "                                                     title    city  \\\n",
       "0                                            Призрак Канта  Москва   \n",
       "1                                            Наука и жизнь  Москва   \n",
       "2                                            Наука и жизнь     NaN   \n",
       "3                                            Наука и жизнь     NaN   \n",
       "4                                            Наука и жизнь     NaN   \n",
       "...                                                    ...     ...   \n",
       "1370452                 Золотой век русской поэзии [Текст]  Москва   \n",
       "1370453                 Антология русского лиризма. XX век  Москва   \n",
       "1370454                                  Приключения Алисы  Москва   \n",
       "1370455  Шедевры мировой живописи. Как отличать, смотре...  Москва   \n",
       "1370456                                         Психология  Москва   \n",
       "\n",
       "                                    publisher   year  \\\n",
       "0                                       Эксмо   2018   \n",
       "1        АНО Редакция журнала «Наука и жизнь»  1938-   \n",
       "2                                         NaN   2018   \n",
       "3                                         NaN   2018   \n",
       "4                                         NaN   2018   \n",
       "...                                       ...    ...   \n",
       "1370452                      Олма Медиа Групп   2012   \n",
       "1370453                                Студия  2004-   \n",
       "1370454                                 Эксмо   2014   \n",
       "1370455                                 Эксмо   2018   \n",
       "1370456                          Владос-Пресс   2003   \n",
       "\n",
       "                                        series  \\\n",
       "0        Татьяна Устинова. Первая среди лучших   \n",
       "1                                          NaN   \n",
       "2                                          NaN   \n",
       "3                                          NaN   \n",
       "4                                          NaN   \n",
       "...                                        ...   \n",
       "1370452                Классика в иллюстрациях   \n",
       "1370453                                    NaN   \n",
       "1370454                                    NaN   \n",
       "1370455                                    NaN   \n",
       "1370456                                    NaN   \n",
       "\n",
       "                                                      tags        article  \\\n",
       "0          Художественная литература ; Российский детектив      84(2Рос)6   \n",
       "1                                      Наука. Науковедение             72   \n",
       "2                                      Наука. Науковедение             72   \n",
       "3                                      Наука. Науковедение             72   \n",
       "4                                      Наука. Науковедение             72   \n",
       "...                                                    ...            ...   \n",
       "1370452                          Художественная литература             84   \n",
       "1370453      Художественная литература ; Российская поэзия  84(2Рос=Рус)6   \n",
       "1370454  Художественная литература ; Литература для дет...       84(4Вел)   \n",
       "1370455  Живопись ; Искусство. Искусствоведение ; Истор...          85.14   \n",
       "1370456                                         Психология           88я2   \n",
       "\n",
       "        age_rating  \n",
       "0              16+  \n",
       "1              12+  \n",
       "2              12+  \n",
       "3              12+  \n",
       "4              12+  \n",
       "...            ...  \n",
       "1370452        NaN  \n",
       "1370453        NaN  \n",
       "1370454        12+  \n",
       "1370455        12+  \n",
       "1370456        NaN  \n",
       "\n",
       "[1370457 rows x 10 columns]"
      ]
     },
     "execution_count": 131,
     "metadata": {},
     "output_type": "execute_result"
    }
   ],
   "source": [
    "catalog = catalog.drop_duplicates().reset_index(drop=True)\n",
    "catalog"
   ]
  },
  {
   "cell_type": "code",
   "execution_count": 132,
   "metadata": {
    "ExecuteTime": {
     "end_time": "2020-10-30T20:48:30.887853Z",
     "start_time": "2020-10-30T20:48:30.884798Z"
    }
   },
   "outputs": [
    {
     "data": {
      "text/plain": [
       "doc_id         int64\n",
       "author        object\n",
       "title         object\n",
       "city          object\n",
       "publisher     object\n",
       "year          object\n",
       "series        object\n",
       "tags          object\n",
       "article       object\n",
       "age_rating    object\n",
       "dtype: object"
      ]
     },
     "execution_count": 132,
     "metadata": {},
     "output_type": "execute_result"
    }
   ],
   "source": [
    "catalog.dtypes"
   ]
  },
  {
   "cell_type": "code",
   "execution_count": 133,
   "metadata": {
    "ExecuteTime": {
     "end_time": "2020-10-30T20:48:31.253142Z",
     "start_time": "2020-10-30T20:48:30.888821Z"
    }
   },
   "outputs": [
    {
     "data": {
      "text/plain": [
       "doc_id        0.000000\n",
       "author        0.318928\n",
       "title         0.012937\n",
       "city          0.051253\n",
       "publisher     0.071648\n",
       "year          0.010198\n",
       "series        0.697978\n",
       "tags          0.058720\n",
       "article       0.053979\n",
       "age_rating    0.923025\n",
       "dtype: float64"
      ]
     },
     "execution_count": 133,
     "metadata": {},
     "output_type": "execute_result"
    }
   ],
   "source": [
    "catalog.isna().mean()"
   ]
  },
  {
   "cell_type": "code",
   "execution_count": 134,
   "metadata": {
    "ExecuteTime": {
     "end_time": "2020-10-30T20:48:31.301158Z",
     "start_time": "2020-10-30T20:48:31.254393Z"
    }
   },
   "outputs": [
    {
     "data": {
      "text/plain": [
       "16+          34024\n",
       "0+           27558\n",
       "12+          22612\n",
       "6+           16432\n",
       "18+           4854\n",
       "16+ ; 18+        5\n",
       "6+ ; 12+         2\n",
       "0+ ; 6+          2\n",
       "16+ ; 12+        1\n",
       "6+ ; 0+          1\n",
       "Name: age_rating, dtype: int64"
      ]
     },
     "execution_count": 134,
     "metadata": {},
     "output_type": "execute_result"
    }
   ],
   "source": [
    "catalog['age_rating'].value_counts()"
   ]
  },
  {
   "cell_type": "code",
   "execution_count": 135,
   "metadata": {
    "ExecuteTime": {
     "end_time": "2020-10-30T20:48:31.371077Z",
     "start_time": "2020-10-30T20:48:31.302108Z"
    }
   },
   "outputs": [
    {
     "data": {
      "text/plain": [
       "2007           45206\n",
       "2008           43426\n",
       "2006           41941\n",
       "2005           41103\n",
       "2004           40207\n",
       "               ...  \n",
       " 2007              1\n",
       "1937г.             1\n",
       "2012-2016          1\n",
       "1962 ; 2008        1\n",
       "1857-1879          1\n",
       "Name: year, Length: 1770, dtype: int64"
      ]
     },
     "execution_count": 135,
     "metadata": {},
     "output_type": "execute_result"
    }
   ],
   "source": [
    "catalog['year'].value_counts()"
   ]
  },
  {
   "cell_type": "code",
   "execution_count": 148,
   "metadata": {
    "ExecuteTime": {
     "end_time": "2020-10-31T08:01:58.423294Z",
     "start_time": "2020-10-31T08:01:58.410405Z"
    }
   },
   "outputs": [
    {
     "data": {
      "text/html": [
       "<div>\n",
       "<style scoped>\n",
       "    .dataframe tbody tr th:only-of-type {\n",
       "        vertical-align: middle;\n",
       "    }\n",
       "\n",
       "    .dataframe tbody tr th {\n",
       "        vertical-align: top;\n",
       "    }\n",
       "\n",
       "    .dataframe thead th {\n",
       "        text-align: right;\n",
       "    }\n",
       "</style>\n",
       "<table border=\"1\" class=\"dataframe\">\n",
       "  <thead>\n",
       "    <tr style=\"text-align: right;\">\n",
       "      <th></th>\n",
       "      <th>doc_id</th>\n",
       "      <th>author</th>\n",
       "      <th>title</th>\n",
       "      <th>city</th>\n",
       "      <th>publisher</th>\n",
       "      <th>year</th>\n",
       "      <th>series</th>\n",
       "      <th>tags</th>\n",
       "      <th>article</th>\n",
       "      <th>age_rating</th>\n",
       "    </tr>\n",
       "  </thead>\n",
       "  <tbody>\n",
       "    <tr>\n",
       "      <th>0</th>\n",
       "      <td>1</td>\n",
       "      <td>Устинова Татьяна Витальевна</td>\n",
       "      <td>Призрак Канта</td>\n",
       "      <td>Москва</td>\n",
       "      <td>Эксмо</td>\n",
       "      <td>2018</td>\n",
       "      <td>Татьяна Устинова. Первая среди лучших</td>\n",
       "      <td>Художественная литература ; Российский детектив</td>\n",
       "      <td>84(2Рос)6</td>\n",
       "      <td>16+</td>\n",
       "    </tr>\n",
       "    <tr>\n",
       "      <th>1</th>\n",
       "      <td>2</td>\n",
       "      <td>NaN</td>\n",
       "      <td>Наука и жизнь</td>\n",
       "      <td>Москва</td>\n",
       "      <td>АНО Редакция журнала «Наука и жизнь»</td>\n",
       "      <td>1938-</td>\n",
       "      <td>NaN</td>\n",
       "      <td>Наука. Науковедение</td>\n",
       "      <td>72</td>\n",
       "      <td>12+</td>\n",
       "    </tr>\n",
       "    <tr>\n",
       "      <th>2</th>\n",
       "      <td>3</td>\n",
       "      <td>NaN</td>\n",
       "      <td>Наука и жизнь</td>\n",
       "      <td>NaN</td>\n",
       "      <td>NaN</td>\n",
       "      <td>2018</td>\n",
       "      <td>NaN</td>\n",
       "      <td>Наука. Науковедение</td>\n",
       "      <td>72</td>\n",
       "      <td>12+</td>\n",
       "    </tr>\n",
       "    <tr>\n",
       "      <th>3</th>\n",
       "      <td>4</td>\n",
       "      <td>NaN</td>\n",
       "      <td>Наука и жизнь</td>\n",
       "      <td>NaN</td>\n",
       "      <td>NaN</td>\n",
       "      <td>2018</td>\n",
       "      <td>NaN</td>\n",
       "      <td>Наука. Науковедение</td>\n",
       "      <td>72</td>\n",
       "      <td>12+</td>\n",
       "    </tr>\n",
       "    <tr>\n",
       "      <th>4</th>\n",
       "      <td>5</td>\n",
       "      <td>NaN</td>\n",
       "      <td>Наука и жизнь</td>\n",
       "      <td>NaN</td>\n",
       "      <td>NaN</td>\n",
       "      <td>2018</td>\n",
       "      <td>NaN</td>\n",
       "      <td>Наука. Науковедение</td>\n",
       "      <td>72</td>\n",
       "      <td>12+</td>\n",
       "    </tr>\n",
       "  </tbody>\n",
       "</table>\n",
       "</div>"
      ],
      "text/plain": [
       "   doc_id                       author          title    city  \\\n",
       "0       1  Устинова Татьяна Витальевна  Призрак Канта  Москва   \n",
       "1       2                          NaN  Наука и жизнь  Москва   \n",
       "2       3                          NaN  Наука и жизнь     NaN   \n",
       "3       4                          NaN  Наука и жизнь     NaN   \n",
       "4       5                          NaN  Наука и жизнь     NaN   \n",
       "\n",
       "                              publisher   year  \\\n",
       "0                                 Эксмо   2018   \n",
       "1  АНО Редакция журнала «Наука и жизнь»  1938-   \n",
       "2                                   NaN   2018   \n",
       "3                                   NaN   2018   \n",
       "4                                   NaN   2018   \n",
       "\n",
       "                                  series  \\\n",
       "0  Татьяна Устинова. Первая среди лучших   \n",
       "1                                    NaN   \n",
       "2                                    NaN   \n",
       "3                                    NaN   \n",
       "4                                    NaN   \n",
       "\n",
       "                                              tags    article age_rating  \n",
       "0  Художественная литература ; Российский детектив  84(2Рос)6        16+  \n",
       "1                              Наука. Науковедение         72        12+  \n",
       "2                              Наука. Науковедение         72        12+  \n",
       "3                              Наука. Науковедение         72        12+  \n",
       "4                              Наука. Науковедение         72        12+  "
      ]
     },
     "execution_count": 148,
     "metadata": {},
     "output_type": "execute_result"
    }
   ],
   "source": [
    "catalog.head()"
   ]
  },
  {
   "cell_type": "code",
   "execution_count": 149,
   "metadata": {
    "ExecuteTime": {
     "end_time": "2020-10-31T08:02:16.667742Z",
     "start_time": "2020-10-31T08:02:09.472829Z"
    }
   },
   "outputs": [],
   "source": [
    "catalog.to_csv('catalog.csv', index=False)"
   ]
  },
  {
   "cell_type": "markdown",
   "metadata": {},
   "source": [
    "# Экземпляры"
   ]
  },
  {
   "cell_type": "code",
   "execution_count": 78,
   "metadata": {
    "ExecuteTime": {
     "end_time": "2020-10-30T20:07:06.326966Z",
     "start_time": "2020-10-30T20:06:35.266810Z"
    }
   },
   "outputs": [
    {
     "name": "stdout",
     "output_type": "stream",
     "text": [
      "(6021078, 6)\n"
     ]
    },
    {
     "data": {
      "text/html": [
       "<div>\n",
       "<style scoped>\n",
       "    .dataframe tbody tr th:only-of-type {\n",
       "        vertical-align: middle;\n",
       "    }\n",
       "\n",
       "    .dataframe tbody tr th {\n",
       "        vertical-align: top;\n",
       "    }\n",
       "\n",
       "    .dataframe thead th {\n",
       "        text-align: right;\n",
       "    }\n",
       "</style>\n",
       "<table border=\"1\" class=\"dataframe\">\n",
       "  <thead>\n",
       "    <tr style=\"text-align: right;\">\n",
       "      <th></th>\n",
       "      <th>Идентификатор экземпляра</th>\n",
       "      <th>ИД Каталожной записи</th>\n",
       "      <th>Инвентарный номер</th>\n",
       "      <th>Штрих-код</th>\n",
       "      <th>Раздел знаний</th>\n",
       "      <th>Идентификатор сиглы</th>\n",
       "    </tr>\n",
       "  </thead>\n",
       "  <tbody>\n",
       "    <tr>\n",
       "      <th>0</th>\n",
       "      <td>12488544</td>\n",
       "      <td>1</td>\n",
       "      <td>09:0000120386</td>\n",
       "      <td>980007854120</td>\n",
       "      <td>84(2Рос=Рус)6</td>\n",
       "      <td>314.0</td>\n",
       "    </tr>\n",
       "    <tr>\n",
       "      <th>1</th>\n",
       "      <td>12488546</td>\n",
       "      <td>1</td>\n",
       "      <td>09:0000152427</td>\n",
       "      <td>980010247056</td>\n",
       "      <td>84(2Рос=Рус)6</td>\n",
       "      <td>320.0</td>\n",
       "    </tr>\n",
       "    <tr>\n",
       "      <th>2</th>\n",
       "      <td>12488542</td>\n",
       "      <td>1</td>\n",
       "      <td>09:0000240622</td>\n",
       "      <td>980000737154</td>\n",
       "      <td>84(2Рос=Рус)6</td>\n",
       "      <td>306.0</td>\n",
       "    </tr>\n",
       "    <tr>\n",
       "      <th>3</th>\n",
       "      <td>13671389</td>\n",
       "      <td>1</td>\n",
       "      <td>09:0000278133</td>\n",
       "      <td>980005475303</td>\n",
       "      <td>84(2Рос=Рус)6</td>\n",
       "      <td>308.0</td>\n",
       "    </tr>\n",
       "    <tr>\n",
       "      <th>4</th>\n",
       "      <td>7625486</td>\n",
       "      <td>1</td>\n",
       "      <td>05:0000257728</td>\n",
       "      <td>580001931461</td>\n",
       "      <td>84(2Рос=Рус)6</td>\n",
       "      <td>293.0</td>\n",
       "    </tr>\n",
       "  </tbody>\n",
       "</table>\n",
       "</div>"
      ],
      "text/plain": [
       "   Идентификатор экземпляра  ИД Каталожной записи Инвентарный номер  \\\n",
       "0                  12488544                     1     09:0000120386   \n",
       "1                  12488546                     1     09:0000152427   \n",
       "2                  12488542                     1     09:0000240622   \n",
       "3                  13671389                     1     09:0000278133   \n",
       "4                   7625486                     1     05:0000257728   \n",
       "\n",
       "      Штрих-код  Раздел знаний  Идентификатор сиглы  \n",
       "0  980007854120  84(2Рос=Рус)6                314.0  \n",
       "1  980010247056  84(2Рос=Рус)6                320.0  \n",
       "2  980000737154  84(2Рос=Рус)6                306.0  \n",
       "3  980005475303  84(2Рос=Рус)6                308.0  \n",
       "4  580001931461  84(2Рос=Рус)6                293.0  "
      ]
     },
     "execution_count": 78,
     "metadata": {},
     "output_type": "execute_result"
    }
   ],
   "source": [
    "samples_1 = pd.ExcelFile('Экземпляры.xlsx')\n",
    "samples_1 = pd.concat([samples_1.parse(sheet) for sheet in samples_1.sheet_names]).reset_index(drop=True)\n",
    "print(samples_1.shape)\n",
    "samples_1.head()"
   ]
  },
  {
   "cell_type": "code",
   "execution_count": 81,
   "metadata": {
    "ExecuteTime": {
     "end_time": "2020-10-30T20:14:42.021476Z",
     "start_time": "2020-10-30T20:07:56.336154Z"
    }
   },
   "outputs": [
    {
     "name": "stdout",
     "output_type": "stream",
     "text": [
      "(6707802, 6)\n"
     ]
    },
    {
     "data": {
      "text/html": [
       "<div>\n",
       "<style scoped>\n",
       "    .dataframe tbody tr th:only-of-type {\n",
       "        vertical-align: middle;\n",
       "    }\n",
       "\n",
       "    .dataframe tbody tr th {\n",
       "        vertical-align: top;\n",
       "    }\n",
       "\n",
       "    .dataframe thead th {\n",
       "        text-align: right;\n",
       "    }\n",
       "</style>\n",
       "<table border=\"1\" class=\"dataframe\">\n",
       "  <thead>\n",
       "    <tr style=\"text-align: right;\">\n",
       "      <th></th>\n",
       "      <th>Идентификатор экземпляра</th>\n",
       "      <th>ИД Каталожной записи</th>\n",
       "      <th>Инвентарный номер</th>\n",
       "      <th>Штрих-код</th>\n",
       "      <th>Раздел знаний</th>\n",
       "      <th>Идентификатор сиглы</th>\n",
       "    </tr>\n",
       "  </thead>\n",
       "  <tbody>\n",
       "    <tr>\n",
       "      <th>0</th>\n",
       "      <td>2830404</td>\n",
       "      <td>399001</td>\n",
       "      <td>01:0000019698</td>\n",
       "      <td>181000142300</td>\n",
       "      <td>84(4Шва)</td>\n",
       "      <td>112.0</td>\n",
       "    </tr>\n",
       "    <tr>\n",
       "      <th>1</th>\n",
       "      <td>2830403</td>\n",
       "      <td>399001</td>\n",
       "      <td>01:0000027988</td>\n",
       "      <td>181000441335</td>\n",
       "      <td>84(4Швейц)</td>\n",
       "      <td>113.0</td>\n",
       "    </tr>\n",
       "    <tr>\n",
       "      <th>2</th>\n",
       "      <td>2781735</td>\n",
       "      <td>399001</td>\n",
       "      <td>02:0000583817</td>\n",
       "      <td>280005456044</td>\n",
       "      <td>84(4Шва)</td>\n",
       "      <td>81.0</td>\n",
       "    </tr>\n",
       "    <tr>\n",
       "      <th>3</th>\n",
       "      <td>2781737</td>\n",
       "      <td>399001</td>\n",
       "      <td>02:0000855574</td>\n",
       "      <td>280011962379</td>\n",
       "      <td>84(4Швейц)</td>\n",
       "      <td>87.0</td>\n",
       "    </tr>\n",
       "    <tr>\n",
       "      <th>4</th>\n",
       "      <td>2781738</td>\n",
       "      <td>399001</td>\n",
       "      <td>02:0000462824</td>\n",
       "      <td>280008297767</td>\n",
       "      <td>84(4Шва)</td>\n",
       "      <td>87.0</td>\n",
       "    </tr>\n",
       "  </tbody>\n",
       "</table>\n",
       "</div>"
      ],
      "text/plain": [
       "   Идентификатор экземпляра  ИД Каталожной записи Инвентарный номер  \\\n",
       "0                   2830404                399001     01:0000019698   \n",
       "1                   2830403                399001     01:0000027988   \n",
       "2                   2781735                399001     02:0000583817   \n",
       "3                   2781737                399001     02:0000855574   \n",
       "4                   2781738                399001     02:0000462824   \n",
       "\n",
       "      Штрих-код Раздел знаний  Идентификатор сиглы  \n",
       "0  181000142300      84(4Шва)                112.0  \n",
       "1  181000441335    84(4Швейц)                113.0  \n",
       "2  280005456044      84(4Шва)                 81.0  \n",
       "3  280011962379    84(4Швейц)                 87.0  \n",
       "4  280008297767      84(4Шва)                 87.0  "
      ]
     },
     "execution_count": 81,
     "metadata": {},
     "output_type": "execute_result"
    }
   ],
   "source": [
    "samples_2 = pd.ExcelFile('Экземпляры_2.xlsx')\n",
    "samples_2 = pd.concat([samples_2.parse(sheet) for sheet in samples_2.sheet_names]).reset_index(drop=True)\n",
    "print(samples_2.shape)\n",
    "samples_2.head()"
   ]
  },
  {
   "cell_type": "code",
   "execution_count": 144,
   "metadata": {
    "ExecuteTime": {
     "end_time": "2020-10-31T08:00:58.348027Z",
     "start_time": "2020-10-31T08:00:38.089559Z"
    }
   },
   "outputs": [
    {
     "data": {
      "text/html": [
       "<div>\n",
       "<style scoped>\n",
       "    .dataframe tbody tr th:only-of-type {\n",
       "        vertical-align: middle;\n",
       "    }\n",
       "\n",
       "    .dataframe tbody tr th {\n",
       "        vertical-align: top;\n",
       "    }\n",
       "\n",
       "    .dataframe thead th {\n",
       "        text-align: right;\n",
       "    }\n",
       "</style>\n",
       "<table border=\"1\" class=\"dataframe\">\n",
       "  <thead>\n",
       "    <tr style=\"text-align: right;\">\n",
       "      <th></th>\n",
       "      <th>book_id</th>\n",
       "      <th>doc_id</th>\n",
       "      <th>inventory_id</th>\n",
       "      <th>barcode</th>\n",
       "      <th>classification_id</th>\n",
       "      <th>singles_id</th>\n",
       "    </tr>\n",
       "  </thead>\n",
       "  <tbody>\n",
       "    <tr>\n",
       "      <th>0</th>\n",
       "      <td>12488544</td>\n",
       "      <td>1</td>\n",
       "      <td>09:0000120386</td>\n",
       "      <td>980007854120</td>\n",
       "      <td>84(2Рос=Рус)6</td>\n",
       "      <td>314.0</td>\n",
       "    </tr>\n",
       "    <tr>\n",
       "      <th>1</th>\n",
       "      <td>12488546</td>\n",
       "      <td>1</td>\n",
       "      <td>09:0000152427</td>\n",
       "      <td>980010247056</td>\n",
       "      <td>84(2Рос=Рус)6</td>\n",
       "      <td>320.0</td>\n",
       "    </tr>\n",
       "    <tr>\n",
       "      <th>2</th>\n",
       "      <td>12488542</td>\n",
       "      <td>1</td>\n",
       "      <td>09:0000240622</td>\n",
       "      <td>980000737154</td>\n",
       "      <td>84(2Рос=Рус)6</td>\n",
       "      <td>306.0</td>\n",
       "    </tr>\n",
       "    <tr>\n",
       "      <th>3</th>\n",
       "      <td>13671389</td>\n",
       "      <td>1</td>\n",
       "      <td>09:0000278133</td>\n",
       "      <td>980005475303</td>\n",
       "      <td>84(2Рос=Рус)6</td>\n",
       "      <td>308.0</td>\n",
       "    </tr>\n",
       "    <tr>\n",
       "      <th>4</th>\n",
       "      <td>7625486</td>\n",
       "      <td>1</td>\n",
       "      <td>05:0000257728</td>\n",
       "      <td>580001931461</td>\n",
       "      <td>84(2Рос=Рус)6</td>\n",
       "      <td>293.0</td>\n",
       "    </tr>\n",
       "    <tr>\n",
       "      <th>...</th>\n",
       "      <td>...</td>\n",
       "      <td>...</td>\n",
       "      <td>...</td>\n",
       "      <td>...</td>\n",
       "      <td>...</td>\n",
       "      <td>...</td>\n",
       "    </tr>\n",
       "    <tr>\n",
       "      <th>12724367</th>\n",
       "      <td>15766818</td>\n",
       "      <td>1783620</td>\n",
       "      <td>09:0000894101</td>\n",
       "      <td>980012197601</td>\n",
       "      <td>84(4Бел)</td>\n",
       "      <td>326.0</td>\n",
       "    </tr>\n",
       "    <tr>\n",
       "      <th>12724368</th>\n",
       "      <td>15766824</td>\n",
       "      <td>1783621</td>\n",
       "      <td>09:0000894102</td>\n",
       "      <td>980012197618</td>\n",
       "      <td>84(5Кит)</td>\n",
       "      <td>326.0</td>\n",
       "    </tr>\n",
       "    <tr>\n",
       "      <th>12724369</th>\n",
       "      <td>15766840</td>\n",
       "      <td>1783622</td>\n",
       "      <td>09:0000894107</td>\n",
       "      <td>980012197649</td>\n",
       "      <td>84(4Гем)</td>\n",
       "      <td>326.0</td>\n",
       "    </tr>\n",
       "    <tr>\n",
       "      <th>12724370</th>\n",
       "      <td>15766897</td>\n",
       "      <td>1783625</td>\n",
       "      <td>06:0001132669</td>\n",
       "      <td>600011326696</td>\n",
       "      <td>84(4Вел)</td>\n",
       "      <td>423.0</td>\n",
       "    </tr>\n",
       "    <tr>\n",
       "      <th>12724371</th>\n",
       "      <td>15766946</td>\n",
       "      <td>1783626</td>\n",
       "      <td>06:0001132674</td>\n",
       "      <td>600011326740</td>\n",
       "      <td>85.14</td>\n",
       "      <td>423.0</td>\n",
       "    </tr>\n",
       "  </tbody>\n",
       "</table>\n",
       "<p>12724372 rows × 6 columns</p>\n",
       "</div>"
      ],
      "text/plain": [
       "           book_id   doc_id   inventory_id       barcode classification_id  \\\n",
       "0         12488544        1  09:0000120386  980007854120     84(2Рос=Рус)6   \n",
       "1         12488546        1  09:0000152427  980010247056     84(2Рос=Рус)6   \n",
       "2         12488542        1  09:0000240622  980000737154     84(2Рос=Рус)6   \n",
       "3         13671389        1  09:0000278133  980005475303     84(2Рос=Рус)6   \n",
       "4          7625486        1  05:0000257728  580001931461     84(2Рос=Рус)6   \n",
       "...            ...      ...            ...           ...               ...   \n",
       "12724367  15766818  1783620  09:0000894101  980012197601          84(4Бел)   \n",
       "12724368  15766824  1783621  09:0000894102  980012197618          84(5Кит)   \n",
       "12724369  15766840  1783622  09:0000894107  980012197649          84(4Гем)   \n",
       "12724370  15766897  1783625  06:0001132669  600011326696          84(4Вел)   \n",
       "12724371  15766946  1783626  06:0001132674  600011326740             85.14   \n",
       "\n",
       "          singles_id  \n",
       "0              314.0  \n",
       "1              320.0  \n",
       "2              306.0  \n",
       "3              308.0  \n",
       "4              293.0  \n",
       "...              ...  \n",
       "12724367       326.0  \n",
       "12724368       326.0  \n",
       "12724369       326.0  \n",
       "12724370       423.0  \n",
       "12724371       423.0  \n",
       "\n",
       "[12724372 rows x 6 columns]"
      ]
     },
     "execution_count": 144,
     "metadata": {},
     "output_type": "execute_result"
    }
   ],
   "source": [
    "samples = pd.concat([samples_1, samples_2]).reset_index(drop=True)\n",
    "samples.rename(columns={'Идентификатор экземпляра': 'book_id',\n",
    "                        'ИД Каталожной записи': 'doc_id',\n",
    "                        'Инвентарный номер': 'inventory_id',\n",
    "                        'Штрих-код': 'barcode',\n",
    "                        'Раздел знаний': 'classification_id',\n",
    "                        'Идентификатор сиглы': 'singles_id'}, inplace=True)\n",
    "samples = samples.drop_duplicates().reset_index(drop=True)\n",
    "samples"
   ]
  },
  {
   "cell_type": "code",
   "execution_count": 145,
   "metadata": {
    "ExecuteTime": {
     "end_time": "2020-10-31T08:00:59.799799Z",
     "start_time": "2020-10-31T08:00:58.349539Z"
    },
    "scrolled": true
   },
   "outputs": [
    {
     "data": {
      "text/plain": [
       "92"
      ]
     },
     "execution_count": 145,
     "metadata": {},
     "output_type": "execute_result"
    }
   ],
   "source": [
    "len(set(samples['doc_id']) - set(catalog['doc_id']))"
   ]
  },
  {
   "cell_type": "code",
   "execution_count": 146,
   "metadata": {
    "ExecuteTime": {
     "end_time": "2020-10-31T08:01:01.246778Z",
     "start_time": "2020-10-31T08:00:59.801191Z"
    }
   },
   "outputs": [
    {
     "data": {
      "text/plain": [
       "43721"
      ]
     },
     "execution_count": 146,
     "metadata": {},
     "output_type": "execute_result"
    }
   ],
   "source": [
    "len(set(catalog['doc_id']) - set(samples['doc_id']))"
   ]
  },
  {
   "cell_type": "code",
   "execution_count": 147,
   "metadata": {
    "ExecuteTime": {
     "end_time": "2020-10-31T08:01:58.408665Z",
     "start_time": "2020-10-31T08:01:01.247926Z"
    }
   },
   "outputs": [],
   "source": [
    "samples.to_csv('samples.csv', index=False)"
   ]
  },
  {
   "cell_type": "code",
   "execution_count": null,
   "metadata": {},
   "outputs": [],
   "source": []
  },
  {
   "cell_type": "markdown",
   "metadata": {},
   "source": [
    "# Выдача"
   ]
  },
  {
   "cell_type": "code",
   "execution_count": 96,
   "metadata": {
    "ExecuteTime": {
     "end_time": "2020-10-30T20:28:02.539936Z",
     "start_time": "2020-10-30T20:21:48.507251Z"
    }
   },
   "outputs": [
    {
     "name": "stdout",
     "output_type": "stream",
     "text": [
      "(5998355, 10)\n"
     ]
    },
    {
     "data": {
      "text/html": [
       "<div>\n",
       "<style scoped>\n",
       "    .dataframe tbody tr th:only-of-type {\n",
       "        vertical-align: middle;\n",
       "    }\n",
       "\n",
       "    .dataframe tbody tr th {\n",
       "        vertical-align: top;\n",
       "    }\n",
       "\n",
       "    .dataframe thead th {\n",
       "        text-align: right;\n",
       "    }\n",
       "</style>\n",
       "<table border=\"1\" class=\"dataframe\">\n",
       "  <thead>\n",
       "    <tr style=\"text-align: right;\">\n",
       "      <th></th>\n",
       "      <th>ИД выдачи</th>\n",
       "      <th>ИД читателя</th>\n",
       "      <th>Инвентарный номер</th>\n",
       "      <th>Штрих-код</th>\n",
       "      <th>Дата выдачи</th>\n",
       "      <th>Дата сдачи (предполагаемая)</th>\n",
       "      <th>Состояние</th>\n",
       "      <th>Unnamed: 7</th>\n",
       "      <th>Состояния</th>\n",
       "      <th>Unnamed: 9</th>\n",
       "    </tr>\n",
       "  </thead>\n",
       "  <tbody>\n",
       "    <tr>\n",
       "      <th>0</th>\n",
       "      <td>1</td>\n",
       "      <td>179</td>\n",
       "      <td>03:0000005767</td>\n",
       "      <td>381000177719</td>\n",
       "      <td>2018-04-13 15:00:00</td>\n",
       "      <td>2018-04-13 15:00:00</td>\n",
       "      <td>6545</td>\n",
       "      <td>NaN</td>\n",
       "      <td>6544.0</td>\n",
       "      <td>На руках</td>\n",
       "    </tr>\n",
       "    <tr>\n",
       "      <th>1</th>\n",
       "      <td>2</td>\n",
       "      <td>179</td>\n",
       "      <td>03:0000005761</td>\n",
       "      <td>381000196420</td>\n",
       "      <td>2018-04-13 15:00:00</td>\n",
       "      <td>2018-04-16 15:00:00</td>\n",
       "      <td>6548</td>\n",
       "      <td>NaN</td>\n",
       "      <td>6545.0</td>\n",
       "      <td>Переоформлен</td>\n",
       "    </tr>\n",
       "    <tr>\n",
       "      <th>2</th>\n",
       "      <td>3</td>\n",
       "      <td>179</td>\n",
       "      <td>03:0000005767</td>\n",
       "      <td>381000177719</td>\n",
       "      <td>2018-04-13 15:00:00</td>\n",
       "      <td>2018-04-13 15:00:00</td>\n",
       "      <td>6545</td>\n",
       "      <td>NaN</td>\n",
       "      <td>6548.0</td>\n",
       "      <td>Размещен в фонде</td>\n",
       "    </tr>\n",
       "    <tr>\n",
       "      <th>3</th>\n",
       "      <td>4</td>\n",
       "      <td>179</td>\n",
       "      <td>03:0000005767</td>\n",
       "      <td>381000177719</td>\n",
       "      <td>2018-04-13 15:00:00</td>\n",
       "      <td>2018-04-13 15:00:00</td>\n",
       "      <td>6545</td>\n",
       "      <td>NaN</td>\n",
       "      <td>NaN</td>\n",
       "      <td>NaN</td>\n",
       "    </tr>\n",
       "    <tr>\n",
       "      <th>4</th>\n",
       "      <td>5</td>\n",
       "      <td>179</td>\n",
       "      <td>03:0000005767</td>\n",
       "      <td>381000177719</td>\n",
       "      <td>2018-04-13 15:00:00</td>\n",
       "      <td>2018-04-13 15:00:00</td>\n",
       "      <td>6548</td>\n",
       "      <td>NaN</td>\n",
       "      <td>NaN</td>\n",
       "      <td>NaN</td>\n",
       "    </tr>\n",
       "  </tbody>\n",
       "</table>\n",
       "</div>"
      ],
      "text/plain": [
       "   ИД выдачи  ИД читателя Инвентарный номер     Штрих-код  \\\n",
       "0          1          179     03:0000005767  381000177719   \n",
       "1          2          179     03:0000005761  381000196420   \n",
       "2          3          179     03:0000005767  381000177719   \n",
       "3          4          179     03:0000005767  381000177719   \n",
       "4          5          179     03:0000005767  381000177719   \n",
       "\n",
       "           Дата выдачи Дата сдачи (предполагаемая)  Состояние  Unnamed: 7  \\\n",
       "0  2018-04-13 15:00:00         2018-04-13 15:00:00       6545         NaN   \n",
       "1  2018-04-13 15:00:00         2018-04-16 15:00:00       6548         NaN   \n",
       "2  2018-04-13 15:00:00         2018-04-13 15:00:00       6545         NaN   \n",
       "3  2018-04-13 15:00:00         2018-04-13 15:00:00       6545         NaN   \n",
       "4  2018-04-13 15:00:00         2018-04-13 15:00:00       6548         NaN   \n",
       "\n",
       "   Состояния        Unnamed: 9  \n",
       "0     6544.0          На руках  \n",
       "1     6545.0      Переоформлен  \n",
       "2     6548.0  Размещен в фонде  \n",
       "3        NaN               NaN  \n",
       "4        NaN               NaN  "
      ]
     },
     "execution_count": 96,
     "metadata": {},
     "output_type": "execute_result"
    }
   ],
   "source": [
    "issues_1 = pd.ExcelFile('Выдача_1.xlsx')\n",
    "issues_1 = pd.concat([issues_1.parse(sheet) for sheet in issues_1.sheet_names]).reset_index(drop=True)\n",
    "print(issues_1.shape)\n",
    "issues_1.head()"
   ]
  },
  {
   "cell_type": "code",
   "execution_count": 97,
   "metadata": {
    "ExecuteTime": {
     "end_time": "2020-10-30T20:34:01.251916Z",
     "start_time": "2020-10-30T20:28:02.541130Z"
    }
   },
   "outputs": [
    {
     "name": "stdout",
     "output_type": "stream",
     "text": [
      "(5422452, 10)\n"
     ]
    },
    {
     "data": {
      "text/html": [
       "<div>\n",
       "<style scoped>\n",
       "    .dataframe tbody tr th:only-of-type {\n",
       "        vertical-align: middle;\n",
       "    }\n",
       "\n",
       "    .dataframe tbody tr th {\n",
       "        vertical-align: top;\n",
       "    }\n",
       "\n",
       "    .dataframe thead th {\n",
       "        text-align: right;\n",
       "    }\n",
       "</style>\n",
       "<table border=\"1\" class=\"dataframe\">\n",
       "  <thead>\n",
       "    <tr style=\"text-align: right;\">\n",
       "      <th></th>\n",
       "      <th>ИД выдачи</th>\n",
       "      <th>ИД читателя</th>\n",
       "      <th>Инвентарный номер</th>\n",
       "      <th>Штрих-код</th>\n",
       "      <th>Дата выдачи</th>\n",
       "      <th>Дата сдачи (предполагаемая)</th>\n",
       "      <th>Состояние</th>\n",
       "      <th>Unnamed: 7</th>\n",
       "      <th>Состояния</th>\n",
       "      <th>Unnamed: 9</th>\n",
       "    </tr>\n",
       "  </thead>\n",
       "  <tbody>\n",
       "    <tr>\n",
       "      <th>0</th>\n",
       "      <td>6000001</td>\n",
       "      <td>159558</td>\n",
       "      <td>05:0000075032</td>\n",
       "      <td>580000904657</td>\n",
       "      <td>2020-01-24 15:00:00</td>\n",
       "      <td>2020-02-05 15:00:00</td>\n",
       "      <td>6548</td>\n",
       "      <td>NaN</td>\n",
       "      <td>6544.0</td>\n",
       "      <td>На руках</td>\n",
       "    </tr>\n",
       "    <tr>\n",
       "      <th>1</th>\n",
       "      <td>6000002</td>\n",
       "      <td>159558</td>\n",
       "      <td>05:0000074245</td>\n",
       "      <td>580000904060</td>\n",
       "      <td>2020-01-24 15:00:00</td>\n",
       "      <td>2020-02-05 15:00:00</td>\n",
       "      <td>6545</td>\n",
       "      <td>NaN</td>\n",
       "      <td>6545.0</td>\n",
       "      <td>Переоформлен</td>\n",
       "    </tr>\n",
       "    <tr>\n",
       "      <th>2</th>\n",
       "      <td>6000003</td>\n",
       "      <td>159558</td>\n",
       "      <td>05:0000075206</td>\n",
       "      <td>580000904855</td>\n",
       "      <td>2020-01-24 15:00:00</td>\n",
       "      <td>2020-02-05 15:00:00</td>\n",
       "      <td>6545</td>\n",
       "      <td>NaN</td>\n",
       "      <td>6548.0</td>\n",
       "      <td>Размещен в фонде</td>\n",
       "    </tr>\n",
       "    <tr>\n",
       "      <th>3</th>\n",
       "      <td>6000004</td>\n",
       "      <td>348361</td>\n",
       "      <td>07:0000464307</td>\n",
       "      <td>780003931081</td>\n",
       "      <td>2020-01-24 15:00:00</td>\n",
       "      <td>2020-01-29 15:00:00</td>\n",
       "      <td>6548</td>\n",
       "      <td>NaN</td>\n",
       "      <td>NaN</td>\n",
       "      <td>NaN</td>\n",
       "    </tr>\n",
       "    <tr>\n",
       "      <th>4</th>\n",
       "      <td>6000005</td>\n",
       "      <td>344222</td>\n",
       "      <td>09:0000241136</td>\n",
       "      <td>980006806892</td>\n",
       "      <td>2020-01-24 15:00:00</td>\n",
       "      <td>2020-01-24 15:00:00</td>\n",
       "      <td>6548</td>\n",
       "      <td>NaN</td>\n",
       "      <td>NaN</td>\n",
       "      <td>NaN</td>\n",
       "    </tr>\n",
       "  </tbody>\n",
       "</table>\n",
       "</div>"
      ],
      "text/plain": [
       "   ИД выдачи  ИД читателя Инвентарный номер     Штрих-код  \\\n",
       "0    6000001       159558     05:0000075032  580000904657   \n",
       "1    6000002       159558     05:0000074245  580000904060   \n",
       "2    6000003       159558     05:0000075206  580000904855   \n",
       "3    6000004       348361     07:0000464307  780003931081   \n",
       "4    6000005       344222     09:0000241136  980006806892   \n",
       "\n",
       "           Дата выдачи Дата сдачи (предполагаемая)  Состояние  Unnamed: 7  \\\n",
       "0  2020-01-24 15:00:00         2020-02-05 15:00:00       6548         NaN   \n",
       "1  2020-01-24 15:00:00         2020-02-05 15:00:00       6545         NaN   \n",
       "2  2020-01-24 15:00:00         2020-02-05 15:00:00       6545         NaN   \n",
       "3  2020-01-24 15:00:00         2020-01-29 15:00:00       6548         NaN   \n",
       "4  2020-01-24 15:00:00         2020-01-24 15:00:00       6548         NaN   \n",
       "\n",
       "   Состояния        Unnamed: 9  \n",
       "0     6544.0          На руках  \n",
       "1     6545.0      Переоформлен  \n",
       "2     6548.0  Размещен в фонде  \n",
       "3        NaN               NaN  \n",
       "4        NaN               NaN  "
      ]
     },
     "execution_count": 97,
     "metadata": {},
     "output_type": "execute_result"
    }
   ],
   "source": [
    "issues_2 = pd.ExcelFile('Выдача_2.xlsx')\n",
    "issues_2 = pd.concat([issues_2.parse(sheet) for sheet in issues_2.sheet_names]).reset_index(drop=True)\n",
    "print(issues_2.shape)\n",
    "issues_2.head()"
   ]
  },
  {
   "cell_type": "code",
   "execution_count": 123,
   "metadata": {
    "ExecuteTime": {
     "end_time": "2020-10-30T20:46:35.760635Z",
     "start_time": "2020-10-30T20:46:18.986538Z"
    }
   },
   "outputs": [
    {
     "data": {
      "text/html": [
       "<div>\n",
       "<style scoped>\n",
       "    .dataframe tbody tr th:only-of-type {\n",
       "        vertical-align: middle;\n",
       "    }\n",
       "\n",
       "    .dataframe tbody tr th {\n",
       "        vertical-align: top;\n",
       "    }\n",
       "\n",
       "    .dataframe thead th {\n",
       "        text-align: right;\n",
       "    }\n",
       "</style>\n",
       "<table border=\"1\" class=\"dataframe\">\n",
       "  <thead>\n",
       "    <tr style=\"text-align: right;\">\n",
       "      <th></th>\n",
       "      <th>issue_id</th>\n",
       "      <th>reader_id</th>\n",
       "      <th>inventory_id</th>\n",
       "      <th>barcode</th>\n",
       "      <th>start_date</th>\n",
       "      <th>end_date</th>\n",
       "      <th>condition_id</th>\n",
       "    </tr>\n",
       "  </thead>\n",
       "  <tbody>\n",
       "    <tr>\n",
       "      <th>0</th>\n",
       "      <td>1</td>\n",
       "      <td>179</td>\n",
       "      <td>03:0000005767</td>\n",
       "      <td>381000177719</td>\n",
       "      <td>2018-04-13 15:00:00</td>\n",
       "      <td>2018-04-13 15:00:00</td>\n",
       "      <td>6545</td>\n",
       "    </tr>\n",
       "    <tr>\n",
       "      <th>1</th>\n",
       "      <td>2</td>\n",
       "      <td>179</td>\n",
       "      <td>03:0000005761</td>\n",
       "      <td>381000196420</td>\n",
       "      <td>2018-04-13 15:00:00</td>\n",
       "      <td>2018-04-16 15:00:00</td>\n",
       "      <td>6548</td>\n",
       "    </tr>\n",
       "    <tr>\n",
       "      <th>2</th>\n",
       "      <td>3</td>\n",
       "      <td>179</td>\n",
       "      <td>03:0000005767</td>\n",
       "      <td>381000177719</td>\n",
       "      <td>2018-04-13 15:00:00</td>\n",
       "      <td>2018-04-13 15:00:00</td>\n",
       "      <td>6545</td>\n",
       "    </tr>\n",
       "    <tr>\n",
       "      <th>3</th>\n",
       "      <td>4</td>\n",
       "      <td>179</td>\n",
       "      <td>03:0000005767</td>\n",
       "      <td>381000177719</td>\n",
       "      <td>2018-04-13 15:00:00</td>\n",
       "      <td>2018-04-13 15:00:00</td>\n",
       "      <td>6545</td>\n",
       "    </tr>\n",
       "    <tr>\n",
       "      <th>4</th>\n",
       "      <td>5</td>\n",
       "      <td>179</td>\n",
       "      <td>03:0000005767</td>\n",
       "      <td>381000177719</td>\n",
       "      <td>2018-04-13 15:00:00</td>\n",
       "      <td>2018-04-13 15:00:00</td>\n",
       "      <td>6548</td>\n",
       "    </tr>\n",
       "    <tr>\n",
       "      <th>...</th>\n",
       "      <td>...</td>\n",
       "      <td>...</td>\n",
       "      <td>...</td>\n",
       "      <td>...</td>\n",
       "      <td>...</td>\n",
       "      <td>...</td>\n",
       "      <td>...</td>\n",
       "    </tr>\n",
       "    <tr>\n",
       "      <th>10421155</th>\n",
       "      <td>11423388</td>\n",
       "      <td>566211</td>\n",
       "      <td>09:0000922563</td>\n",
       "      <td>980012545389</td>\n",
       "      <td>2020-10-30 15:00:00</td>\n",
       "      <td>2020-11-29 15:00:00</td>\n",
       "      <td>6544</td>\n",
       "    </tr>\n",
       "    <tr>\n",
       "      <th>10421156</th>\n",
       "      <td>11423389</td>\n",
       "      <td>110298</td>\n",
       "      <td>08:0000227792</td>\n",
       "      <td>880002994725</td>\n",
       "      <td>2020-10-10 15:00:00</td>\n",
       "      <td>2020-11-29 15:00:00</td>\n",
       "      <td>6544</td>\n",
       "    </tr>\n",
       "    <tr>\n",
       "      <th>10421157</th>\n",
       "      <td>11423390</td>\n",
       "      <td>110298</td>\n",
       "      <td>Б08:00001928</td>\n",
       "      <td>880000269153</td>\n",
       "      <td>2020-10-01 15:00:00</td>\n",
       "      <td>2020-11-29 15:00:00</td>\n",
       "      <td>6544</td>\n",
       "    </tr>\n",
       "    <tr>\n",
       "      <th>10421158</th>\n",
       "      <td>11423391</td>\n",
       "      <td>110298</td>\n",
       "      <td>Б08:00027425</td>\n",
       "      <td>880007222816</td>\n",
       "      <td>2020-10-01 15:00:00</td>\n",
       "      <td>2020-11-29 15:00:00</td>\n",
       "      <td>6544</td>\n",
       "    </tr>\n",
       "    <tr>\n",
       "      <th>10421159</th>\n",
       "      <td>11423392</td>\n",
       "      <td>535365</td>\n",
       "      <td>08:0001063365</td>\n",
       "      <td>880008412483</td>\n",
       "      <td>2020-10-30 15:00:00</td>\n",
       "      <td>2020-11-29 15:00:00</td>\n",
       "      <td>6544</td>\n",
       "    </tr>\n",
       "  </tbody>\n",
       "</table>\n",
       "<p>10421160 rows × 7 columns</p>\n",
       "</div>"
      ],
      "text/plain": [
       "          issue_id  reader_id   inventory_id       barcode  \\\n",
       "0                1        179  03:0000005767  381000177719   \n",
       "1                2        179  03:0000005761  381000196420   \n",
       "2                3        179  03:0000005767  381000177719   \n",
       "3                4        179  03:0000005767  381000177719   \n",
       "4                5        179  03:0000005767  381000177719   \n",
       "...            ...        ...            ...           ...   \n",
       "10421155  11423388     566211  09:0000922563  980012545389   \n",
       "10421156  11423389     110298  08:0000227792  880002994725   \n",
       "10421157  11423390     110298   Б08:00001928  880000269153   \n",
       "10421158  11423391     110298   Б08:00027425  880007222816   \n",
       "10421159  11423392     535365  08:0001063365  880008412483   \n",
       "\n",
       "                   start_date             end_date  condition_id  \n",
       "0         2018-04-13 15:00:00  2018-04-13 15:00:00          6545  \n",
       "1         2018-04-13 15:00:00  2018-04-16 15:00:00          6548  \n",
       "2         2018-04-13 15:00:00  2018-04-13 15:00:00          6545  \n",
       "3         2018-04-13 15:00:00  2018-04-13 15:00:00          6545  \n",
       "4         2018-04-13 15:00:00  2018-04-13 15:00:00          6548  \n",
       "...                       ...                  ...           ...  \n",
       "10421155  2020-10-30 15:00:00  2020-11-29 15:00:00          6544  \n",
       "10421156  2020-10-10 15:00:00  2020-11-29 15:00:00          6544  \n",
       "10421157  2020-10-01 15:00:00  2020-11-29 15:00:00          6544  \n",
       "10421158  2020-10-01 15:00:00  2020-11-29 15:00:00          6544  \n",
       "10421159  2020-10-30 15:00:00  2020-11-29 15:00:00          6544  \n",
       "\n",
       "[10421160 rows x 7 columns]"
      ]
     },
     "execution_count": 123,
     "metadata": {},
     "output_type": "execute_result"
    }
   ],
   "source": [
    "issues = pd.concat([issues_1, issues_2]).reset_index(drop=True).iloc[:, :7]\n",
    "issues.rename(columns={'ИД выдачи': 'issue_id',\n",
    "                        'ИД читателя': 'reader_id',\n",
    "                        'Инвентарный номер': 'inventory_id',\n",
    "                        'Штрих-код': 'barcode',\n",
    "                        'Дата выдачи': 'start_date',\n",
    "                        'Дата сдачи (предполагаемая)': 'end_date',\n",
    "                        'Состояние': 'condition_id'}, inplace=True)\n",
    "issues = issues.drop_duplicates().reset_index(drop=True)\n",
    "issues"
   ]
  },
  {
   "cell_type": "code",
   "execution_count": 124,
   "metadata": {
    "ExecuteTime": {
     "end_time": "2020-10-30T20:46:35.841574Z",
     "start_time": "2020-10-30T20:46:35.761812Z"
    }
   },
   "outputs": [
    {
     "data": {
      "text/plain": [
       "6548    8559995\n",
       "6545    1321224\n",
       "6544     524775\n",
       "6546      13984\n",
       "6547       1119\n",
       "6549         45\n",
       "6659         18\n",
       "Name: condition_id, dtype: int64"
      ]
     },
     "execution_count": 124,
     "metadata": {},
     "output_type": "execute_result"
    }
   ],
   "source": [
    "issues['condition_id'].value_counts()"
   ]
  },
  {
   "cell_type": "code",
   "execution_count": 125,
   "metadata": {
    "ExecuteTime": {
     "end_time": "2020-10-30T20:46:37.386227Z",
     "start_time": "2020-10-30T20:46:35.843066Z"
    }
   },
   "outputs": [
    {
     "data": {
      "text/plain": [
       "issue_id        0.0\n",
       "reader_id       0.0\n",
       "inventory_id    0.0\n",
       "barcode         0.0\n",
       "start_date      0.0\n",
       "end_date        0.0\n",
       "condition_id    0.0\n",
       "dtype: float64"
      ]
     },
     "execution_count": 125,
     "metadata": {},
     "output_type": "execute_result"
    }
   ],
   "source": [
    "issues.isna().mean()"
   ]
  },
  {
   "cell_type": "code",
   "execution_count": 126,
   "metadata": {
    "ExecuteTime": {
     "end_time": "2020-10-30T20:47:23.603777Z",
     "start_time": "2020-10-30T20:46:37.387534Z"
    }
   },
   "outputs": [],
   "source": [
    "issues.to_csv('issues.csv', index=False)"
   ]
  },
  {
   "cell_type": "code",
   "execution_count": null,
   "metadata": {},
   "outputs": [],
   "source": []
  },
  {
   "cell_type": "code",
   "execution_count": null,
   "metadata": {},
   "outputs": [],
   "source": []
  },
  {
   "cell_type": "code",
   "execution_count": null,
   "metadata": {},
   "outputs": [],
   "source": []
  },
  {
   "cell_type": "code",
   "execution_count": null,
   "metadata": {},
   "outputs": [],
   "source": []
  },
  {
   "cell_type": "code",
   "execution_count": null,
   "metadata": {},
   "outputs": [],
   "source": []
  },
  {
   "cell_type": "code",
   "execution_count": null,
   "metadata": {},
   "outputs": [],
   "source": []
  },
  {
   "cell_type": "code",
   "execution_count": null,
   "metadata": {},
   "outputs": [],
   "source": []
  },
  {
   "cell_type": "code",
   "execution_count": null,
   "metadata": {},
   "outputs": [],
   "source": []
  }
 ],
 "metadata": {
  "kernelspec": {
   "display_name": "Python 3",
   "language": "python",
   "name": "python3"
  },
  "language_info": {
   "codemirror_mode": {
    "name": "ipython",
    "version": 3
   },
   "file_extension": ".py",
   "mimetype": "text/x-python",
   "name": "python",
   "nbconvert_exporter": "python",
   "pygments_lexer": "ipython3",
   "version": "3.7.3"
  }
 },
 "nbformat": 4,
 "nbformat_minor": 2
}
